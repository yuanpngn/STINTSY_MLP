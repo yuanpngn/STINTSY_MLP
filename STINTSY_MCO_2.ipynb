{
 "cells": [
  {
   "cell_type": "markdown",
   "id": "eb94d1a1-2c72-4734-aed4-10c1b1090c84",
   "metadata": {
    "slideshow": {
     "slide_type": ""
    },
    "tags": []
   },
   "source": [
    "# STINTSY Major Course Output"
   ]
  },
  {
   "cell_type": "markdown",
   "id": "5a81d6ae-d979-40f2-8d78-d038dd3f01a5",
   "metadata": {},
   "source": [
    "*S12 - Ryan Jay Deculawan, Hyenne Audrey Lim, Viktoria Lila Sicuan*"
   ]
  },
  {
   "cell_type": "markdown",
   "id": "d4365c86-4bf7-411c-b8e0-b4f55050d31f",
   "metadata": {
    "jp-MarkdownHeadingCollapsed": true
   },
   "source": [
    "## 1. Introduction"
   ]
  },
  {
   "cell_type": "markdown",
   "id": "da2a4ca9",
   "metadata": {},
   "source": [
    "Soccer's extraordinary global appeal, with 3.5 billion supporters worldwide, cements its position as the most watched sport on the planet. Soccer creates a common passion that brings people from all walks of life together (The Most Popular Sports In The World, n.d.). This worldwide sport has the remarkable potential to cross cultural, language, and geographical borders, bringing people together from all walks of life. Fans congregate in their homes, bars, or stadiums to form a feeling of community and shared identity. Soccer's ongoing popularity stems from its capacity to bring together people of all ages and skill levels, making it more than simply a game but a celebration of athleticism, teamwork, and the universal spirit of competitiveness.\n",
    "\n",
    "Soccer's enormous commercial worth is clear in the huge sums it earns for numerous leagues throughout the world. Soccer leagues have the highest TV viewership of any sports league, which contributes greatly to the sport's economic supremacy. The World Cup, the flagship event, is the embodiment of this phenomena, easily outshining every other significant athletic event. The tremendous viewership and worldwide influence of the World Cup highlight soccer's power to captivate the collective interest and intrigue of audiences on an unprecedented scale, transforming it into more than simply a game but a global cultural phenomenon. Soccer's economic impact, paired with its exciting dynamics, solidifies it as a sporting superpower that crosses geographical and cultural barriers (The World’s Most Watched Sports, 2017)."
   ]
  },
  {
   "cell_type": "markdown",
   "id": "9939a712",
   "metadata": {},
   "source": [
    "### Problem"
   ]
  },
  {
   "cell_type": "markdown",
   "id": "cf36dbb7",
   "metadata": {},
   "source": [
    "Home advantage, which occurs in all sports, including soccer, is caused by a mix of psychological and physiological variables. The presence of ardent supporters fosters a supportive and motivational environment for the home side while perhaps influencing referee decisions owing to crowd reactions. Furthermore, the physical and emotional exhaustion involved with travel for visiting teams contributes to the home edge. The familiarity with the particular qualities of the home field, like as pitch size and surface, further tilts the scale in favor of the home side. Home advantage is essentially a complicated interaction of crowd support, referee dynamics, travel-related obstacles, and field familiarity that shapes the competitive landscape of sports (Zheng, 2015).\n",
    "\n",
    "With this in mind, our objective is to investigate the feasibility of forecasting home advantage based on a snapshot of soccer matches. This project intends to emphasize the complex problems of applying modeling tools to real-life events, particularly in the dynamic environment of soccer matches. These machine learning models can help teams plan better strategies by offering insights into their opponents' strengths and weaknesses, such as knowing whether it is strategically better to play aggressively given the statistics of the match. Fans may also appreciate the game on a whole new level through the analysis of data and understanding the aspects that contribute to a team's success. Furthermore, predictive models can assist spectators in making better educated predictions about the outcome of a game, which can increase the enjoyment of watching the game."
   ]
  },
  {
   "cell_type": "markdown",
   "id": "ae36522c-4923-4d58-90f0-7644b24712d4",
   "metadata": {
    "jp-MarkdownHeadingCollapsed": true
   },
   "source": [
    "## 2. Description of the Dataset"
   ]
  },
  {
   "cell_type": "markdown",
   "id": "940fb74f-8a1d-4d0c-8274-124d3aa71107",
   "metadata": {},
   "source": [
    "To address the identified task, the Sports dataset was selected. This dataset contains 7000 random snapshots from soccer matches. This dataset was used as part of a [Kaggle Community Prediction Competition](https://www.kaggle.com/competitions/sports-trading-will-there-be-more-goals/overview)."
   ]
  },
  {
   "cell_type": "markdown",
   "id": "71f7c726-84a7-4aaf-99a0-14085002210c",
   "metadata": {},
   "source": [
    "One row in the dataset represents one snapshot of a match while one column represents one feature of a match. As mentioned, there are **7000 instances** (rows), and **21 features** (columns). The features of the dataset are as follows:"
   ]
  },
  {
   "cell_type": "markdown",
   "id": "26ac7785-ac2a-4cc9-898f-1f4c1cb8f9de",
   "metadata": {},
   "source": [
    "1. `uuid` - The unique identifier of the snapshot\n",
    "2. `current_minute` - The current minute of the in-play match. The 15 minute half-time break is included so a match has a total of 105 minutes. A current_minute of 70 corresponds to the actual match time of 55.\n",
    "3. `home_score` - Goals scored by the home team as of this current_minute\n",
    "4. `away_score`– Goals scored by the away team as of this current_minute\n",
    "5. `home_yellow_cards` - Yellow cards given to the home team as of this current_minute\n",
    "6. `away_yellow_cards` - Yellow cards given to the away team as of this current_minute\n",
    "7. `home_red_cards` - Red cards given to the home team as of this current_minute\n",
    "8. `away_red_cards` - Red cards given to the away team as of this current_minute\n",
    "9. `home_attacks` - Attacks attempted by the home team as of this current_minute\n",
    "10. `away_attacks` - Attacks attempted by the away team as of this current_minute\n",
    "11. `home_dangerous_attacks` - Dangerous attacks attempted by the home team as of this current_minute\n",
    "12. `away_dangerous_attacks` - Dangerous attacks attempted by the away team as of this current_minute\n",
    "13. `home_corners` - Corners awarded to the home team as of this current_minute\n",
    "14. `away_corners` - Corners awarded to the away team as of this current_minute\n",
    "15. `home_off_target` - Shots that didn't have to be cleared by the goalkeeper that were attempted to the home team as of this current_minute\n",
    "16. `away_off_target` - Shots that didn't have to be cleared by the goalkeeper that were attempted to the away team as of this current_minute\n",
    "17. `home_on_target` - Shots that had to be cleared by the goalkeeper that were attempted to the home team as of this current_minute`\n",
    "18. `away_on_target` - Shots that had to be cleared by the goalkeeper that were attempted to the away team as of this current_minute`\n",
    "19. `home_possession` - How much ball possession in % did the home team have until this current_minute`\n",
    "20. `away_possession` - How much ball possession in % did the away team have until this current_minute`\n",
    "21. `final_delta` - The intended target value for each instance. Given that this dataset is from a competition, this column was provided as the value to be predicted for an instance's set of features."
   ]
  },
  {
   "cell_type": "markdown",
   "id": "9cfea645-5ad4-4d0e-acb9-7771d6cfac9f",
   "metadata": {},
   "source": [
    "## 3. List of Requirements"
   ]
  },
  {
   "cell_type": "markdown",
   "id": "69bab29a-9e5c-44dc-8ccb-0bf133afa645",
   "metadata": {},
   "source": [
    "The following are the libraries and modules used to run the notebook."
   ]
  },
  {
   "cell_type": "code",
   "execution_count": 1,
   "id": "378037d8-a942-44c8-8358-2bbe9309016e",
   "metadata": {},
   "outputs": [],
   "source": [
    "from sklearn.model_selection import train_test_split\n",
    "import pandas as pd\n",
    "import numpy as np\n",
    "import matplotlib.pyplot as plt\n",
    "from scipy.stats import randint\n",
    "from scipy.stats import uniform\n",
    "import os\n",
    "from sklearn.ensemble import RandomForestClassifier\n",
    "from sklearn.model_selection import RandomizedSearchCV\n",
    "from sklearn.model_selection import GridSearchCV"
   ]
  },
  {
   "cell_type": "markdown",
   "id": "3e69d729-f8c9-4663-b858-ccf8a5117846",
   "metadata": {
    "jp-MarkdownHeadingCollapsed": true
   },
   "source": [
    "## 4. Data Preprocessing and Cleaning"
   ]
  },
  {
   "cell_type": "code",
   "execution_count": 2,
   "id": "1fc781cb-e608-4121-a860-5c602696544f",
   "metadata": {},
   "outputs": [],
   "source": [
    "#read csv file\n",
    "data = pd.read_csv('sports.csv')"
   ]
  },
  {
   "cell_type": "code",
   "execution_count": 3,
   "id": "1215f07e-2b66-49c6-98ac-c171c3effcd8",
   "metadata": {},
   "outputs": [
    {
     "name": "stdout",
     "output_type": "stream",
     "text": [
      "<class 'pandas.core.frame.DataFrame'>\n",
      "RangeIndex: 7000 entries, 0 to 6999\n",
      "Data columns (total 21 columns):\n",
      " #   Column                  Non-Null Count  Dtype \n",
      "---  ------                  --------------  ----- \n",
      " 0   uuid                    7000 non-null   object\n",
      " 1   current_minute          7000 non-null   int64 \n",
      " 2   home_score              7000 non-null   int64 \n",
      " 3   away_score              7000 non-null   int64 \n",
      " 4   home_yellow_cards       7000 non-null   int64 \n",
      " 5   away_yellow_cards       7000 non-null   int64 \n",
      " 6   home_red_cards          7000 non-null   int64 \n",
      " 7   away_red_cards          7000 non-null   int64 \n",
      " 8   home_attacks            7000 non-null   int64 \n",
      " 9   away_attacks            7000 non-null   int64 \n",
      " 10  home_dangerous_attacks  7000 non-null   int64 \n",
      " 11  away_dangerous_attacks  7000 non-null   int64 \n",
      " 12  home_corners            7000 non-null   int64 \n",
      " 13  away_corners            7000 non-null   int64 \n",
      " 14  home_off_target         7000 non-null   int64 \n",
      " 15  away_off_target         7000 non-null   int64 \n",
      " 16  home_on_target          7000 non-null   int64 \n",
      " 17  away_on_target          7000 non-null   int64 \n",
      " 18  home_possession         7000 non-null   int64 \n",
      " 19  away_possession         7000 non-null   int64 \n",
      " 20  final_delta             7000 non-null   int64 \n",
      "dtypes: int64(20), object(1)\n",
      "memory usage: 1.1+ MB\n",
      "None\n"
     ]
    }
   ],
   "source": [
    "print(data.info())"
   ]
  },
  {
   "cell_type": "markdown",
   "id": "2e62a082-8c7e-4f85-8148-0c732cbc4213",
   "metadata": {},
   "source": [
    "Given that the `final_delta` and `uuid` columns do not contribute to the characterization of each soccer match timestamp, these are dropped."
   ]
  },
  {
   "cell_type": "code",
   "execution_count": 4,
   "id": "86226506-6980-4144-b025-1aabeddaccd1",
   "metadata": {},
   "outputs": [
    {
     "name": "stdout",
     "output_type": "stream",
     "text": [
      "Index(['current_minute', 'home_score', 'away_score', 'home_yellow_cards',\n",
      "       'away_yellow_cards', 'home_red_cards', 'away_red_cards', 'home_attacks',\n",
      "       'away_attacks', 'home_dangerous_attacks', 'away_dangerous_attacks',\n",
      "       'home_corners', 'away_corners', 'home_off_target', 'away_off_target',\n",
      "       'home_on_target', 'away_on_target', 'home_possession',\n",
      "       'away_possession'],\n",
      "      dtype='object')\n"
     ]
    }
   ],
   "source": [
    "data.drop([\"uuid\", \"final_delta\"], axis=1, inplace=True)\n",
    "print(data.columns)"
   ]
  },
  {
   "cell_type": "code",
   "execution_count": 5,
   "id": "00cfd12a-cd63-49a0-a83f-f84e696b4eb0",
   "metadata": {},
   "outputs": [],
   "source": [
    "#There are 14 instances where the current minute is <0. \n",
    "#Given that these are only 14, and our total data size is 7000, we can opt to remove them.\n",
    "\n",
    "#First: Collect the indexes of the to-be-removed rows\n",
    "indices = list(data[data['current_minute'] < 0].index)\n",
    "\n",
    "#Second: remove the rows using .drop \n",
    "data = data.drop(indices)"
   ]
  },
  {
   "cell_type": "code",
   "execution_count": 6,
   "id": "ee96fe26-d9be-4166-a4b3-20850160d2c7",
   "metadata": {},
   "outputs": [
    {
     "data": {
      "text/html": [
       "<div>\n",
       "<style scoped>\n",
       "    .dataframe tbody tr th:only-of-type {\n",
       "        vertical-align: middle;\n",
       "    }\n",
       "\n",
       "    .dataframe tbody tr th {\n",
       "        vertical-align: top;\n",
       "    }\n",
       "\n",
       "    .dataframe thead th {\n",
       "        text-align: right;\n",
       "    }\n",
       "</style>\n",
       "<table border=\"1\" class=\"dataframe\">\n",
       "  <thead>\n",
       "    <tr style=\"text-align: right;\">\n",
       "      <th></th>\n",
       "      <th>current_minute</th>\n",
       "      <th>home_score</th>\n",
       "      <th>away_score</th>\n",
       "      <th>home_yellow_cards</th>\n",
       "      <th>away_yellow_cards</th>\n",
       "      <th>home_red_cards</th>\n",
       "      <th>away_red_cards</th>\n",
       "      <th>home_attacks</th>\n",
       "      <th>away_attacks</th>\n",
       "      <th>home_dangerous_attacks</th>\n",
       "      <th>away_dangerous_attacks</th>\n",
       "      <th>home_corners</th>\n",
       "      <th>away_corners</th>\n",
       "      <th>home_off_target</th>\n",
       "      <th>away_off_target</th>\n",
       "      <th>home_on_target</th>\n",
       "      <th>away_on_target</th>\n",
       "      <th>home_possession</th>\n",
       "      <th>away_possession</th>\n",
       "    </tr>\n",
       "  </thead>\n",
       "  <tbody>\n",
       "  </tbody>\n",
       "</table>\n",
       "</div>"
      ],
      "text/plain": [
       "Empty DataFrame\n",
       "Columns: [current_minute, home_score, away_score, home_yellow_cards, away_yellow_cards, home_red_cards, away_red_cards, home_attacks, away_attacks, home_dangerous_attacks, away_dangerous_attacks, home_corners, away_corners, home_off_target, away_off_target, home_on_target, away_on_target, home_possession, away_possession]\n",
       "Index: []"
      ]
     },
     "execution_count": 6,
     "metadata": {},
     "output_type": "execute_result"
    }
   ],
   "source": [
    "#Now, lets check, if these outliers are still present.\n",
    "data[data['current_minute'] < 0]\n",
    "#Hooray (dejk) "
   ]
  },
  {
   "cell_type": "markdown",
   "id": "76f28394-c7c9-46c7-8c7f-41d3cf221c84",
   "metadata": {
    "jp-MarkdownHeadingCollapsed": true
   },
   "source": [
    "## 5. Exploratory Data Analysis"
   ]
  },
  {
   "cell_type": "markdown",
   "id": "1b34e61e",
   "metadata": {},
   "source": [
    "In this section, we will perform Exploratory Data Analysis to gain insights into the distribution and characteristics of our dataset."
   ]
  },
  {
   "cell_type": "markdown",
   "id": "624c6bb4",
   "metadata": {},
   "source": [
    "In this section, we will analyze the trend of each feature to the labels (genres) with 4 levels of Univariate analysis. To further understand the sampled data, we used graphs to show the shape of the distribution, its central value, and its variability. "
   ]
  },
  {
   "cell_type": "markdown",
   "id": "25dc902f",
   "metadata": {},
   "source": [
    "**Central Tendencies**"
   ]
  },
  {
   "cell_type": "markdown",
   "id": "9baa5d61",
   "metadata": {},
   "source": [
    "| Measure   | Description                                           |\n",
    "|-----------|-------------------------------------------------------|\n",
    "| Mean      | The average value of the dataset.                     |\n",
    "| Median    | The middle value of the dataset, less sensitive to outliers. |\n",
    "| Mode      | The most frequently occurring value in the dataset.   |"
   ]
  },
  {
   "cell_type": "markdown",
   "id": "2b63509e-0668-4427-ad47-0c26ea5228d9",
   "metadata": {
    "jp-MarkdownHeadingCollapsed": true
   },
   "source": [
    "### Calculating for Central Tendencies"
   ]
  },
  {
   "cell_type": "code",
   "execution_count": 7,
   "id": "5d876729-7390-4b1e-9455-d42681fc51d4",
   "metadata": {},
   "outputs": [],
   "source": [
    "central_tendencies = pd.DataFrame({\n",
    "    'Mean': data.iloc[:, 1:].mean(),\n",
    "    'Median': data.iloc[:, 1:].median(),\n",
    "    'Mode': data.iloc[:, 1:].mode().iloc[0]\n",
    "})\n",
    "central_tendencies = central_tendencies.reset_index()\n",
    "central_tendencies = central_tendencies.rename(columns={'index': 'Feature'})"
   ]
  },
  {
   "cell_type": "markdown",
   "id": "6370a361",
   "metadata": {},
   "source": [
    "| Feature                    | Mean      | Median | Mode | Insights                                          |\n",
    "|----------------------------|-----------|--------|------|---------------------------------------------------|\n",
    "| home_score                 | 0.80      | 0.0    | 0    | Low average scores, frequent matches with zero goals |\n",
    "| away_score                 | 0.62      | 0.0    | 0    | Similar trend as home scores                        |\n",
    "| home_yellow_cards          | 0.52      | 0.0    | 0    | Low average cards, many matches without cards       |\n",
    "| away_yellow_cards          | 0.60      | 0.0    | 0    | Similar trend as home yellow cards                  |\n",
    "| home_red_cards             | 0.01      | 0.0    | 0    | Low average red cards, common matches without red cards |\n",
    "| away_red_cards             | 0.02      | 0.0    | 0    | Similar trend as home red cards                     |\n",
    "| home_attacks               | 46.41     | 43.0   | 0    | Moderate average attacks, some matches with zero attacks |\n",
    "| away_attacks               | 43.37     | 41.0   | 0    | Similar trend as home attacks                      |\n",
    "| home_dangerous_attacks     | 27.64     | 25.0   | 0    | Moderate average dangerous attacks, some matches with zero attacks |\n",
    "| away_dangerous_attacks     | 24.23     | 21.0   | 0    | Similar trend as home dangerous attacks            |\n",
    "| home_corners               | 2.38      | 2.0    | 0    | Moderate average corners, some matches with zero corners |\n",
    "| away_corners               | 1.99      | 1.0    | 0    | Similar trend as home corners                      |\n",
    "| home_off_target            | 3.07      | 2.0    | 0    | Moderate average shots off target, some matches with zero shots off target |\n",
    "| away_off_target            | 2.60      | 2.0    | 0    | Similar trend as home shots off target             |\n",
    "| home_on_target             | 2.17      | 2.0    | 0    | Moderate average shots on target, some matches with zero shots on target |\n",
    "| away_on_target             | 1.80      | 1.0    | 0    | Similar trend as home shots on target              |\n",
    "| home_possession            | 51.59     | 51.0   | 50   | Balanced possession between home and away teams    |\n",
    "| away_possession            | 48.41     | 49.0   | 50   | Similar trend as home possession                  |\n",
    "\n",
    "**Insights:**\n",
    "- Matches tend to have low scores, few cards, and a moderate number of attacks and corners.\n",
    "- Possession statistics are balanced between home and away teams.\n",
    "- Many matches have zero goals, cards, and attacks, indicating a significant portion of low-intensity matches."
   ]
  },
  {
   "cell_type": "markdown",
   "id": "2f500b2a-18bd-44c6-b59f-d648062011ef",
   "metadata": {
    "jp-MarkdownHeadingCollapsed": true
   },
   "source": [
    "### Calculating for Dispersion, Skewness, and Kurtosis"
   ]
  },
  {
   "cell_type": "markdown",
   "id": "8020bf8c",
   "metadata": {
    "jp-MarkdownHeadingCollapsed": true
   },
   "source": [
    "**Dispersion**\n",
    "\n",
    "| Measure          | Description                                           |\n",
    "|------------------|-------------------------------------------------------|\n",
    "| Range            | The difference between the maximum and minimum values.|\n",
    "| Variance         | The average squared difference of each data point from the mean. |\n",
    "| Standard Deviation | The square root of the variance, indicating the average distance from the mean. |"
   ]
  },
  {
   "cell_type": "code",
   "execution_count": 8,
   "id": "7b41f132-fc57-4528-b32a-a6909ac3727a",
   "metadata": {},
   "outputs": [],
   "source": [
    "# Create a DataFrame for variance and standard deviation\n",
    "dispersion_metrics = pd.DataFrame({\n",
    "    'Range': data.iloc[:, 1:].max() - data.iloc[:, 1:].min(),\n",
    "    'Variance': data.iloc[:, 1:].var(),\n",
    "    'Standard Deviation': data.iloc[:, 1:].std(),\n",
    "    'Skewness': data.iloc[:, 1:].skew(),\n",
    "    'Kurtosis': data.iloc[:, 1:].kurt()\n",
    "})"
   ]
  },
  {
   "cell_type": "code",
   "execution_count": 9,
   "id": "53046c4d-93cd-40fb-9484-eff413596377",
   "metadata": {},
   "outputs": [],
   "source": [
    "dispersion_metrics = dispersion_metrics.reset_index()\n",
    "dispersion_metrics = dispersion_metrics.rename(columns={'index': 'Feature'})"
   ]
  },
  {
   "cell_type": "markdown",
   "id": "d1b6a273",
   "metadata": {},
   "source": [
    "| Feature                   | Range | Variance    | Std Deviation |\n",
    "|---------------------------|-------|-------------|---------------|\n",
    "| home_score                | 8     | 1.147086    | 1.071021      |\n",
    "| away_score                | 9     | 0.852598    | 0.923362      |\n",
    "| home_yellow_cards         | 8     | 0.851639    | 0.922843      |\n",
    "| away_yellow_cards         | 8     | 1.037516    | 1.018586      |\n",
    "| home_red_cards            | 2     | 0.009505    | 0.097496      |\n",
    "| away_red_cards            | 2     | 0.015786    | 0.125644      |\n",
    "| home_attacks              | 255   | 1296.518367 | 36.007199     |\n",
    "| away_attacks              | 183   | 1117.694757 | 33.431942     |\n",
    "| home_dangerous_attacks    | 134   | 528.055699  | 22.979463     |\n",
    "| away_dangerous_attacks    | 140   | 418.592882  | 20.459543     |\n",
    "| home_corners              | 16    | 6.077671    | 2.465293      |\n",
    "| away_corners              | 18    | 4.833917    | 2.198617      |\n",
    "| home_off_target           | 24    | 9.963258    | 3.156463      |\n",
    "| away_off_target           | 18    | 7.553622    | 2.748385      |\n",
    "| home_on_target            | 22    | 5.387207    | 2.321036      |\n",
    "| away_on_target            | 19    | 4.108148    | 2.026857      |\n",
    "| home_possession           | 100   | 109.897919  | 10.483221     |\n",
    "| away_possession           | 100   | 109.940000  | 10.485228     |\n"
   ]
  },
  {
   "cell_type": "markdown",
   "id": "30db360f",
   "metadata": {},
   "source": [
    "**Insights**\n",
    "\n",
    "- Metrics related to scores, cards, attacks, corners, and possession exhibit variations, emphasizing the diverse nature of football match dynamics.\n",
    "- Similar ranges across various metrics suggest balanced competition between home and away teams in different aspects of the game.\n",
    "- The low variability in red cards indicates infrequent occurrences, while other metrics show more variability, reflecting the dynamic nature of certain aspects of football matches."
   ]
  },
  {
   "cell_type": "markdown",
   "id": "0bc6dbb1",
   "metadata": {},
   "source": [
    "**Skewness and Kurtosis**\n",
    "\n",
    "| Measure  | Description                                           |\n",
    "|----------|-------------------------------------------------------|\n",
    "| Skewness | Measures the asymmetry of the distribution. A skewness of 0 indicates perfect symmetry. |\n",
    "| Kurtosis | Measures the \"tailedness\" of the distribution. Higher kurtosis indicates heavier tails. |"
   ]
  },
  {
   "cell_type": "code",
   "execution_count": 10,
   "id": "c782f297",
   "metadata": {},
   "outputs": [
    {
     "data": {
      "text/html": [
       "<div>\n",
       "<style scoped>\n",
       "    .dataframe tbody tr th:only-of-type {\n",
       "        vertical-align: middle;\n",
       "    }\n",
       "\n",
       "    .dataframe tbody tr th {\n",
       "        vertical-align: top;\n",
       "    }\n",
       "\n",
       "    .dataframe thead th {\n",
       "        text-align: right;\n",
       "    }\n",
       "</style>\n",
       "<table border=\"1\" class=\"dataframe\">\n",
       "  <thead>\n",
       "    <tr style=\"text-align: right;\">\n",
       "      <th></th>\n",
       "      <th>Feature</th>\n",
       "      <th>Skewness</th>\n",
       "      <th>Kurtosis</th>\n",
       "    </tr>\n",
       "  </thead>\n",
       "  <tbody>\n",
       "    <tr>\n",
       "      <th>0</th>\n",
       "      <td>home_score</td>\n",
       "      <td>1.729078</td>\n",
       "      <td>3.941218</td>\n",
       "    </tr>\n",
       "    <tr>\n",
       "      <th>1</th>\n",
       "      <td>away_score</td>\n",
       "      <td>1.919960</td>\n",
       "      <td>5.296752</td>\n",
       "    </tr>\n",
       "    <tr>\n",
       "      <th>2</th>\n",
       "      <td>home_yellow_cards</td>\n",
       "      <td>2.171094</td>\n",
       "      <td>5.799577</td>\n",
       "    </tr>\n",
       "    <tr>\n",
       "      <th>3</th>\n",
       "      <td>away_yellow_cards</td>\n",
       "      <td>1.981708</td>\n",
       "      <td>4.362866</td>\n",
       "    </tr>\n",
       "    <tr>\n",
       "      <th>4</th>\n",
       "      <td>home_red_cards</td>\n",
       "      <td>10.684115</td>\n",
       "      <td>118.146351</td>\n",
       "    </tr>\n",
       "    <tr>\n",
       "      <th>5</th>\n",
       "      <td>away_red_cards</td>\n",
       "      <td>7.997090</td>\n",
       "      <td>64.188604</td>\n",
       "    </tr>\n",
       "    <tr>\n",
       "      <th>6</th>\n",
       "      <td>home_attacks</td>\n",
       "      <td>0.594901</td>\n",
       "      <td>0.033739</td>\n",
       "    </tr>\n",
       "    <tr>\n",
       "      <th>7</th>\n",
       "      <td>away_attacks</td>\n",
       "      <td>0.544677</td>\n",
       "      <td>-0.270753</td>\n",
       "    </tr>\n",
       "    <tr>\n",
       "      <th>8</th>\n",
       "      <td>home_dangerous_attacks</td>\n",
       "      <td>0.815359</td>\n",
       "      <td>0.453987</td>\n",
       "    </tr>\n",
       "    <tr>\n",
       "      <th>9</th>\n",
       "      <td>away_dangerous_attacks</td>\n",
       "      <td>0.898193</td>\n",
       "      <td>0.707852</td>\n",
       "    </tr>\n",
       "    <tr>\n",
       "      <th>10</th>\n",
       "      <td>home_corners</td>\n",
       "      <td>1.206750</td>\n",
       "      <td>1.407153</td>\n",
       "    </tr>\n",
       "    <tr>\n",
       "      <th>11</th>\n",
       "      <td>away_corners</td>\n",
       "      <td>1.459539</td>\n",
       "      <td>2.881374</td>\n",
       "    </tr>\n",
       "    <tr>\n",
       "      <th>12</th>\n",
       "      <td>home_off_target</td>\n",
       "      <td>1.275574</td>\n",
       "      <td>1.888173</td>\n",
       "    </tr>\n",
       "    <tr>\n",
       "      <th>13</th>\n",
       "      <td>away_off_target</td>\n",
       "      <td>1.322685</td>\n",
       "      <td>1.953805</td>\n",
       "    </tr>\n",
       "    <tr>\n",
       "      <th>14</th>\n",
       "      <td>home_on_target</td>\n",
       "      <td>1.396636</td>\n",
       "      <td>2.873205</td>\n",
       "    </tr>\n",
       "    <tr>\n",
       "      <th>15</th>\n",
       "      <td>away_on_target</td>\n",
       "      <td>1.504663</td>\n",
       "      <td>3.274469</td>\n",
       "    </tr>\n",
       "    <tr>\n",
       "      <th>16</th>\n",
       "      <td>home_possession</td>\n",
       "      <td>-0.042671</td>\n",
       "      <td>2.192167</td>\n",
       "    </tr>\n",
       "    <tr>\n",
       "      <th>17</th>\n",
       "      <td>away_possession</td>\n",
       "      <td>0.038980</td>\n",
       "      <td>2.193025</td>\n",
       "    </tr>\n",
       "  </tbody>\n",
       "</table>\n",
       "</div>"
      ],
      "text/plain": [
       "                   Feature   Skewness    Kurtosis\n",
       "0               home_score   1.729078    3.941218\n",
       "1               away_score   1.919960    5.296752\n",
       "2        home_yellow_cards   2.171094    5.799577\n",
       "3        away_yellow_cards   1.981708    4.362866\n",
       "4           home_red_cards  10.684115  118.146351\n",
       "5           away_red_cards   7.997090   64.188604\n",
       "6             home_attacks   0.594901    0.033739\n",
       "7             away_attacks   0.544677   -0.270753\n",
       "8   home_dangerous_attacks   0.815359    0.453987\n",
       "9   away_dangerous_attacks   0.898193    0.707852\n",
       "10            home_corners   1.206750    1.407153\n",
       "11            away_corners   1.459539    2.881374\n",
       "12         home_off_target   1.275574    1.888173\n",
       "13         away_off_target   1.322685    1.953805\n",
       "14          home_on_target   1.396636    2.873205\n",
       "15          away_on_target   1.504663    3.274469\n",
       "16         home_possession  -0.042671    2.192167\n",
       "17         away_possession   0.038980    2.193025"
      ]
     },
     "execution_count": 10,
     "metadata": {},
     "output_type": "execute_result"
    }
   ],
   "source": [
    "dispersion_metrics[['Feature','Skewness','Kurtosis']]"
   ]
  },
  {
   "cell_type": "markdown",
   "id": "534fa5ec",
   "metadata": {},
   "source": [
    "| Feature                  | Skewness | Kurtosis    | Interpretation                                       |\n",
    "|--------------------------|----------|-------------|------------------------------------------------------|\n",
    "| home_score               | 1.729078 | 3.941218    | Right-skewed, occasional extreme match scores.       |\n",
    "| away_score               | 1.919960 | 5.296752    | Right-skewed distribution of away team scores.       |\n",
    "| home_yellow_cards        | 2.171094 | 5.799577    | Right-skewed, occasional extreme yellow cards.       |\n",
    "| away_yellow_cards        | 1.981708 | 4.362866    | Right-skewed distribution of away team yellow cards. |\n",
    "| home_red_cards           | 10.684115| 118.146351  | Highly right-skewed and heavy-tailed for red cards.  |\n",
    "| away_red_cards           | 7.997090 | 64.188604   | Right-skewed distribution of away team red cards.    |\n",
    "| home_attacks             | 0.594901 | 0.033739    | Right-skewed, moderately peaked distribution.        |\n",
    "| away_attacks             | 0.544677 | -0.270753   | Right-skewed, moderately peaked away team attacks.   |\n",
    "| home_dangerous_attacks   | 0.815359 | 0.453987    | Right-skewed, occasional extreme dangerous attacks.  |\n",
    "| away_dangerous_attacks   | 0.898193 | 0.707852    | Right-skewed distribution of away team dangerous attacks. |\n",
    "| home_corners             | 1.206750 | 1.407153    | Right-skewed corners distribution with moderately heavy tails. |\n",
    "| away_corners             | 1.459539 | 2.881374    | Right-skewed distribution of away team corners.      |\n",
    "| home_off_target          | 1.275574 | 1.888173    | Right-skewed, moderately heavy tails for off-target shots. |\n",
    "| away_off_target          | 1.322685 | 1.953805    | Right-skewed distribution of away team off-target shots. |\n",
    "| home_on_target           | 1.396636 | 2.873205    | Right-skewed on-target shots distribution.            |\n",
    "| away_on_target           | 1.504663 | 3.274469    | Right-skewed distribution of away team on-target shots. |\n",
    "| home_possession          | -0.042671| 2.192167    | Slightly left-skewed home possession distribution with moderately heavy tails. |\n",
    "| away_possession          | 0.038980 | 2.193025    | Slightly right-skewed away possession distribution with moderately heavy tails. |\n",
    "\n",
    "**Insights:**\n",
    "\n",
    "- Features related to scoring, cards, and attacks exhibit right-skewed distributions with occasional extreme values.\n",
    "- Possession metrics show a relatively balanced distribution with moderately heavy tails."
   ]
  },
  {
   "cell_type": "markdown",
   "id": "aeef0a7a",
   "metadata": {},
   "source": [
    "#### Histogram for Features"
   ]
  },
  {
   "cell_type": "markdown",
   "id": "a488189f",
   "metadata": {},
   "source": [
    "To enhance the visualization of features, create a function called `plot_histogram` that accepts any column name and generates a histogram for that specific column. The function produces the histogram as its output."
   ]
  },
  {
   "cell_type": "code",
   "execution_count": 11,
   "id": "d618f775",
   "metadata": {},
   "outputs": [],
   "source": [
    "def plot_histogram(col_name, bin_count = 5):\n",
    "    data_for_hist = data[col_name]\n",
    "    plt.hist(data_for_hist, bins=bin_count, edgecolor='black')\n",
    "\n",
    "    # Add labels and a title\n",
    "    plt.xlabel('Values')\n",
    "    plt.ylabel('Frequency')\n",
    "    plt.title('Distribution of '+col_name)\n",
    "\n",
    "    # Display the plot\n",
    "    plt.show()"
   ]
  },
  {
   "cell_type": "markdown",
   "id": "632f8305",
   "metadata": {},
   "source": [
    "Example for histogram:\n",
    "Check the distribution of the current_minute."
   ]
  },
  {
   "cell_type": "code",
   "execution_count": 12,
   "id": "202d9256",
   "metadata": {},
   "outputs": [
    {
     "data": {
      "image/png": "[encoded data removed]",
      "text/plain": [
       "<Figure size 432x288 with 1 Axes>"
      ]
     },
     "metadata": {
      "needs_background": "light"
     },
     "output_type": "display_data"
    }
   ],
   "source": [
    "plot_histogram('current_minute',150)"
   ]
  },
  {
   "cell_type": "code",
   "execution_count": 13,
   "id": "9d31d331",
   "metadata": {},
   "outputs": [
    {
     "data": {
      "text/plain": [
       "0    6922\n",
       "1      63\n",
       "2       1\n",
       "Name: home_red_cards, dtype: int64"
      ]
     },
     "execution_count": 13,
     "metadata": {},
     "output_type": "execute_result"
    }
   ],
   "source": [
    "data['home_red_cards'].value_counts()"
   ]
  },
  {
   "cell_type": "markdown",
   "id": "8eba1113",
   "metadata": {},
   "source": [
    "Since we're focusing on home advantage, we can explore the home and away scores further"
   ]
  },
  {
   "cell_type": "markdown",
   "id": "08f474f6",
   "metadata": {},
   "source": [
    "**Task:** Given the current minute, what is the average home score?"
   ]
  },
  {
   "cell_type": "markdown",
   "id": "40bbfa1b",
   "metadata": {},
   "source": [
    "best_params leverage the `groupby` method in DataFrames to group the data based on 'current_minute'. Subsequently, we compute the average home score."
   ]
  },
  {
   "cell_type": "code",
   "execution_count": 14,
   "id": "6eb8c18e",
   "metadata": {},
   "outputs": [],
   "source": [
    "average_home_score = data.groupby('current_minute')['home_score'].mean()\n",
    "average_away_score = data.groupby('current_minute')['away_score'].mean()"
   ]
  },
  {
   "cell_type": "code",
   "execution_count": 15,
   "id": "c6576c69",
   "metadata": {},
   "outputs": [
    {
     "data": {
      "image/png": "[encoded data removed]",
      "text/plain": [
       "<Figure size 1152x432 with 2 Axes>"
      ]
     },
     "metadata": {
      "needs_background": "light"
     },
     "output_type": "display_data"
    }
   ],
   "source": [
    "# Extract the 'current_minute' values and the corresponding averages for home score\n",
    "minutes_home = average_home_score[average_home_score.index <= 110].index\n",
    "average_scores_home = average_home_score[average_home_score.index <= 110].values\n",
    "\n",
    "# Extract the 'current_minute' values and the corresponding averages for away score\n",
    "minutes_away = average_away_score[average_away_score.index <= 110].index\n",
    "average_scores_away = average_away_score[average_away_score.index <= 110].values\n",
    "\n",
    "# Create subplots with 1 row and 2 columns\n",
    "fig, axs = plt.subplots(1, 2, figsize=(16, 6))\n",
    "\n",
    "# Plot for Average Home Score\n",
    "axs[0].plot(minutes_home, average_scores_home, marker='o', linestyle='-')\n",
    "axs[0].set_xlabel('Current Minute')\n",
    "axs[0].set_ylabel('Average Home Score')\n",
    "axs[0].set_title('Average Home Score Over Time')\n",
    "axs[0].grid()\n",
    "\n",
    "# Plot for Average Away Score\n",
    "axs[1].plot(minutes_away, average_scores_away, marker='o', linestyle='-')\n",
    "axs[1].set_xlabel('Current Minute')\n",
    "axs[1].set_ylabel('Average Away Score')\n",
    "axs[1].set_title('Average Away Score Over Time')\n",
    "axs[1].grid()\n",
    "\n",
    "# Adjust layout for better spacing\n",
    "plt.tight_layout()\n",
    "\n",
    "# Show the plots\n",
    "plt.show()"
   ]
  },
  {
   "cell_type": "markdown",
   "id": "5afb4852-fd6f-42d1-9e8c-92328dd3e46d",
   "metadata": {},
   "source": [
    "## 6. Model Training and Hyperparameter Tuning"
   ]
  },
  {
   "cell_type": "markdown",
   "id": "5aa8b561-f451-4edb-95e5-fbdb946950aa",
   "metadata": {},
   "source": [
    "Given our identified task of (insert task here), we selected K-Nearest Neighbors, Logistic Regression, and Random Forest models to address this."
   ]
  },
  {
   "cell_type": "markdown",
   "id": "88fcfb9d-40f6-4145-b06c-a58534239bb8",
   "metadata": {},
   "source": [
    "Here we extract the target values for each instance which will be assigned to the `target` column. These are computed based on the values of the `home_score` and `away_score` columns where:"
   ]
  },
  {
   "cell_type": "markdown",
   "id": "bbd23172-fa43-4def-8de6-55ede21ca638",
   "metadata": {},
   "source": [
    "1. If `home_score` > `away_score`, `target` = \"Home Advantage\"\n",
    "2. Else if `home_score` < `away_score`, `target` = \"Away Advantage\"\n",
    "3. Else `target` = \"Balanced\" (indicating that the scores are equal)"
   ]
  },
  {
   "cell_type": "code",
   "execution_count": 16,
   "id": "21e455fb-7446-4fbb-8477-312f2ba893c4",
   "metadata": {},
   "outputs": [],
   "source": [
    "data['target'] = np.where(data['home_score'] > data['away_score'], \"Home Advantage\", np.where(data['home_score'] < data['away_score'], \"Away Advantage\", \"Balanced\"))"
   ]
  },
  {
   "cell_type": "code",
   "execution_count": 17,
   "id": "b13af625-1b1f-4b2d-8ae6-828696a4e8fa",
   "metadata": {},
   "outputs": [
    {
     "name": "stdout",
     "output_type": "stream",
     "text": [
      "0       Away Advantage\n",
      "1       Home Advantage\n",
      "2             Balanced\n",
      "3             Balanced\n",
      "4       Home Advantage\n",
      "             ...      \n",
      "6995          Balanced\n",
      "6996    Home Advantage\n",
      "6997    Home Advantage\n",
      "6998    Home Advantage\n",
      "6999          Balanced\n",
      "Name: target, Length: 6986, dtype: object\n"
     ]
    }
   ],
   "source": [
    "print(data['target'])"
   ]
  },
  {
   "cell_type": "markdown",
   "id": "2b0fb400-e9e5-47bc-9770-ac9a627eec19",
   "metadata": {},
   "source": [
    "To maintain consistency among outputs of various operations, a random seed or state is identified."
   ]
  },
  {
   "cell_type": "code",
   "execution_count": 18,
   "id": "c604ed94-880f-4d94-adc2-e3ad3450d74e",
   "metadata": {},
   "outputs": [],
   "source": [
    "random_state = 42\n",
    "np.random.seed(random_state)"
   ]
  },
  {
   "cell_type": "markdown",
   "id": "a2d965d5-30bb-44d3-a912-8e0295bfa649",
   "metadata": {},
   "source": [
    "We defined a function to compute accuracy as this will be used often."
   ]
  },
  {
   "cell_type": "code",
   "execution_count": 19,
   "id": "4b885b43-5f9c-42f7-a877-457cc1ef18e0",
   "metadata": {},
   "outputs": [],
   "source": [
    "def compute_accuracy(predictions, actual):\n",
    "    return round(((predictions == actual).sum() / actual.size) * 100, 4)"
   ]
  },
  {
   "cell_type": "markdown",
   "id": "ef6234a0-c9f7-4942-9a64-fd64ae4e327c",
   "metadata": {},
   "source": [
    "### K-Nearest Neighbors"
   ]
  },
  {
   "cell_type": "markdown",
   "id": "1d6568da-8d3b-4b90-92c6-612a6431e363",
   "metadata": {},
   "source": [
    "K-Nearest Neighbors (KNN) is a simple and effective algorithm for classification. KNN predicts the label of a new data point by locating the K-nearest neighbors to a given data point and utilizing their labels. KNN is an excellent choice for this assignment since it can manage non-linear correlations between predictor and outcome variables. Furthermore, KNN is a basic algorithm that is straightforward to build and comprehend. To achieve the best results, it is critical to select an acceptable value of K and distance measure (LaViale, 2023)."
   ]
  },
  {
   "cell_type": "markdown",
   "id": "7979e8d0-3c6b-4c31-afb3-b834c53e35af",
   "metadata": {},
   "source": [
    "#### K-Nearest Neighbors Model Training"
   ]
  },
  {
   "cell_type": "code",
   "execution_count": 20,
   "id": "00331660",
   "metadata": {},
   "outputs": [
    {
     "name": "stdout",
     "output_type": "stream",
     "text": [
      "Shape of X: (3927, 17)\n",
      "Shape of y: (3927,)\n"
     ]
    }
   ],
   "source": [
    "# import knn\n",
    "from sklearn.neighbors import KNeighborsClassifier\n",
    "\n",
    "# Import data\n",
    "data_modified_knn = data[data['target'] != 'Balanced']\n",
    "data_modified_knn = data_modified_knn.drop([\"home_score\", \"away_score\"], axis=1)\n",
    "\n",
    "X_knn = data_modified_knn.iloc[:, :-1].values\n",
    "y_knn = data_modified_knn.iloc[:, -1].values\n",
    "\n",
    "print(f\"Shape of X: {X_knn.shape}\")\n",
    "print(f\"Shape of y: {y_knn.shape}\")"
   ]
  },
  {
   "cell_type": "code",
   "execution_count": 21,
   "id": "1343822b",
   "metadata": {},
   "outputs": [],
   "source": [
    "# Standardize the data\n",
    "from sklearn.preprocessing import StandardScaler\n",
    "\n",
    "scaler = StandardScaler()\n",
    "X_knn = scaler.fit_transform(X_knn)"
   ]
  },
  {
   "cell_type": "markdown",
   "id": "f33aec05",
   "metadata": {},
   "source": [
    "We need to standardize the data as there are features on different scales, which may affect the output. We observed that there was a slight increase in accuracy when we standardized the data compared to the unstandardized data."
   ]
  },
  {
   "cell_type": "code",
   "execution_count": 22,
   "id": "abe23afa",
   "metadata": {},
   "outputs": [],
   "source": [
    "# Splitting data into train and test\n",
    "X_train, X_test, y_train, y_test = train_test_split(X_knn, y_knn, test_size=0.3, random_state=42)"
   ]
  },
  {
   "cell_type": "markdown",
   "id": "d2ddc972",
   "metadata": {},
   "source": [
    "After standardization, we can initialize the KNN model and train it on the training data."
   ]
  },
  {
   "cell_type": "code",
   "execution_count": 23,
   "id": "70cbfafb",
   "metadata": {},
   "outputs": [
    {
     "data": {
      "text/html": [
       "<style>#sk-container-id-1 {color: black;}#sk-container-id-1 pre{padding: 0;}#sk-container-id-1 div.sk-toggleable {background-color: white;}#sk-container-id-1 label.sk-toggleable__label {cursor: pointer;display: block;width: 100%;margin-bottom: 0;padding: 0.3em;box-sizing: border-box;text-align: center;}#sk-container-id-1 label.sk-toggleable__label-arrow:before {content: \"▸\";float: left;margin-right: 0.25em;color: #696969;}#sk-container-id-1 label.sk-toggleable__label-arrow:hover:before {color: black;}#sk-container-id-1 div.sk-estimator:hover label.sk-toggleable__label-arrow:before {color: black;}#sk-container-id-1 div.sk-toggleable__content {max-height: 0;max-width: 0;overflow: hidden;text-align: left;background-color: #f0f8ff;}#sk-container-id-1 div.sk-toggleable__content pre {margin: 0.2em;color: black;border-radius: 0.25em;background-color: #f0f8ff;}#sk-container-id-1 input.sk-toggleable__control:checked~div.sk-toggleable__content {max-height: 200px;max-width: 100%;overflow: auto;}#sk-container-id-1 input.sk-toggleable__control:checked~label.sk-toggleable__label-arrow:before {content: \"▾\";}#sk-container-id-1 div.sk-estimator input.sk-toggleable__control:checked~label.sk-toggleable__label {background-color: #d4ebff;}#sk-container-id-1 div.sk-label input.sk-toggleable__control:checked~label.sk-toggleable__label {background-color: #d4ebff;}#sk-container-id-1 input.sk-hidden--visually {border: 0;clip: rect(1px 1px 1px 1px);clip: rect(1px, 1px, 1px, 1px);height: 1px;margin: -1px;overflow: hidden;padding: 0;position: absolute;width: 1px;}#sk-container-id-1 div.sk-estimator {font-family: monospace;background-color: #f0f8ff;border: 1px dotted black;border-radius: 0.25em;box-sizing: border-box;margin-bottom: 0.5em;}#sk-container-id-1 div.sk-estimator:hover {background-color: #d4ebff;}#sk-container-id-1 div.sk-parallel-item::after {content: \"\";width: 100%;border-bottom: 1px solid gray;flex-grow: 1;}#sk-container-id-1 div.sk-label:hover label.sk-toggleable__label {background-color: #d4ebff;}#sk-container-id-1 div.sk-serial::before {content: \"\";position: absolute;border-left: 1px solid gray;box-sizing: border-box;top: 0;bottom: 0;left: 50%;z-index: 0;}#sk-container-id-1 div.sk-serial {display: flex;flex-direction: column;align-items: center;background-color: white;padding-right: 0.2em;padding-left: 0.2em;position: relative;}#sk-container-id-1 div.sk-item {position: relative;z-index: 1;}#sk-container-id-1 div.sk-parallel {display: flex;align-items: stretch;justify-content: center;background-color: white;position: relative;}#sk-container-id-1 div.sk-item::before, #sk-container-id-1 div.sk-parallel-item::before {content: \"\";position: absolute;border-left: 1px solid gray;box-sizing: border-box;top: 0;bottom: 0;left: 50%;z-index: -1;}#sk-container-id-1 div.sk-parallel-item {display: flex;flex-direction: column;z-index: 1;position: relative;background-color: white;}#sk-container-id-1 div.sk-parallel-item:first-child::after {align-self: flex-end;width: 50%;}#sk-container-id-1 div.sk-parallel-item:last-child::after {align-self: flex-start;width: 50%;}#sk-container-id-1 div.sk-parallel-item:only-child::after {width: 0;}#sk-container-id-1 div.sk-dashed-wrapped {border: 1px dashed gray;margin: 0 0.4em 0.5em 0.4em;box-sizing: border-box;padding-bottom: 0.4em;background-color: white;}#sk-container-id-1 div.sk-label label {font-family: monospace;font-weight: bold;display: inline-block;line-height: 1.2em;}#sk-container-id-1 div.sk-label-container {text-align: center;}#sk-container-id-1 div.sk-container {/* jupyter's `normalize.less` sets `[hidden] { display: none; }` but bootstrap.min.css set `[hidden] { display: none !important; }` so we also need the `!important` here to be able to override the default hidden behavior on the sphinx rendered scikit-learn.org. See: https://github.com/scikit-learn/scikit-learn/issues/21755 */display: inline-block !important;position: relative;}#sk-container-id-1 div.sk-text-repr-fallback {display: none;}</style><div id=\"sk-container-id-1\" class=\"sk-top-container\"><div class=\"sk-text-repr-fallback\"><pre>KNeighborsClassifier(n_neighbors=3)</pre><b>In a Jupyter environment, please rerun this cell to show the HTML representation or trust the notebook. <br />On GitHub, the HTML representation is unable to render, please try loading this page with nbviewer.org.</b></div><div class=\"sk-container\" hidden><div class=\"sk-item\"><div class=\"sk-estimator sk-toggleable\"><input class=\"sk-toggleable__control sk-hidden--visually\" id=\"sk-estimator-id-1\" type=\"checkbox\" checked><label for=\"sk-estimator-id-1\" class=\"sk-toggleable__label sk-toggleable__label-arrow\">KNeighborsClassifier</label><div class=\"sk-toggleable__content\"><pre>KNeighborsClassifier(n_neighbors=3)</pre></div></div></div></div></div>"
      ],
      "text/plain": [
       "KNeighborsClassifier(n_neighbors=3)"
      ]
     },
     "execution_count": 23,
     "metadata": {},
     "output_type": "execute_result"
    }
   ],
   "source": [
    "#initialize knn\n",
    "knn_classifier = KNeighborsClassifier(n_neighbors=3)\n",
    "knn_classifier.fit(X_train, y_train)"
   ]
  },
  {
   "cell_type": "markdown",
   "id": "a363fae3",
   "metadata": {},
   "source": [
    "Then, we make predictions of the training data"
   ]
  },
  {
   "cell_type": "code",
   "execution_count": 24,
   "id": "2395e1fe",
   "metadata": {},
   "outputs": [],
   "source": [
    "# make predictions\n",
    "predictions_train = knn_classifier.predict(X_train)"
   ]
  },
  {
   "cell_type": "code",
   "execution_count": 25,
   "id": "a38a41e9",
   "metadata": {},
   "outputs": [
    {
     "name": "stdout",
     "output_type": "stream",
     "text": [
      "Accuracy of prediction on training data:  84.7889\n"
     ]
    }
   ],
   "source": [
    "# Accuracy of predictions on training data\n",
    "acc_train_knn = compute_accuracy(predictions_train, y_train)\n",
    "print(\"Accuracy of prediction on training data: \", acc_train_knn)"
   ]
  },
  {
   "cell_type": "code",
   "execution_count": 26,
   "id": "5547392c",
   "metadata": {},
   "outputs": [
    {
     "name": "stdout",
     "output_type": "stream",
     "text": [
      "Accuracy of prediction on test data:  68.4478\n"
     ]
    }
   ],
   "source": [
    "# make predictions on test and \n",
    "predictions_test = knn_classifier.predict(X_test)\n",
    "\n",
    "# Accuracy of predictions on test data\n",
    "acc_test_knn = compute_accuracy(predictions_test, y_test)\n",
    "print(\"Accuracy of prediction on test data: \",acc_test_knn)"
   ]
  },
  {
   "cell_type": "markdown",
   "id": "6949d680",
   "metadata": {},
   "source": [
    "We have a fairly decent accuracy for our predictions on the training data."
   ]
  },
  {
   "cell_type": "markdown",
   "id": "4e6e955d-55af-4848-a59b-cd74d47aa66f",
   "metadata": {},
   "source": [
    "#### K-Nearest Neighbors Hyperparameter Tuning"
   ]
  },
  {
   "cell_type": "markdown",
   "id": "c67c4fc2",
   "metadata": {},
   "source": [
    "Now, we will tune the hyperparameter to possibly improve the accuracy. "
   ]
  },
  {
   "cell_type": "code",
   "execution_count": 27,
   "id": "6bdbd923",
   "metadata": {},
   "outputs": [],
   "source": [
    "# Cross Validation Score\n",
    "from sklearn.model_selection import cross_val_score\n",
    "\n",
    "k_choices = [1, 3, 5, 8, 10, 12, 15, 20, 50, 100]\n",
    "\n",
    "scores = np.zeros((len(k_choices), 5))"
   ]
  },
  {
   "cell_type": "code",
   "execution_count": 28,
   "id": "7d9e8c55",
   "metadata": {},
   "outputs": [
    {
     "name": "stdout",
     "output_type": "stream",
     "text": [
      "k is : 1\n",
      "k is : 3\n",
      "k is : 5\n",
      "k is : 8\n",
      "k is : 10\n",
      "k is : 12\n",
      "k is : 15\n",
      "k is : 20\n",
      "k is : 50\n",
      "k is : 100\n"
     ]
    }
   ],
   "source": [
    "# Creating models\n",
    "for i in range(len(k_choices)):\n",
    "    print(\"k is : \" + str(k_choices[i]))\n",
    "\n",
    "    model = KNeighborsClassifier(n_neighbors=k_choices[i])\n",
    "\n",
    "    scores[i] = cross_val_score(model, X_knn, y_knn, cv=5)"
   ]
  },
  {
   "cell_type": "code",
   "execution_count": 29,
   "id": "6ff53f4a",
   "metadata": {},
   "outputs": [
    {
     "data": {
      "image/png": "[encoded data removed]",
      "text/plain": [
       "<Figure size 432x288 with 1 Axes>"
      ]
     },
     "metadata": {
      "needs_background": "light"
     },
     "output_type": "display_data"
    }
   ],
   "source": [
    "# Visualize the results\n",
    "def plot_scatter(scores):\n",
    "    for i in range(len(scores)):\n",
    "        x=[k_choices[i]] * 5\n",
    "        plt.scatter(x, scores[i])\n",
    "        \n",
    "plot_scatter(scores)"
   ]
  },
  {
   "cell_type": "code",
   "execution_count": 30,
   "id": "9572e9ec",
   "metadata": {},
   "outputs": [
    {
     "data": {
      "text/plain": [
       "Text(0, 0.5, 'Cross-validation accuracy')"
      ]
     },
     "execution_count": 30,
     "metadata": {},
     "output_type": "execute_result"
    },
    {
     "data": {
      "image/png": "[encoded data removed]",
      "text/plain": [
       "<Figure size 432x288 with 1 Axes>"
      ]
     },
     "metadata": {
      "needs_background": "light"
     },
     "output_type": "display_data"
    }
   ],
   "source": [
    "# Get the mean and std and plot\n",
    "avg_scores = np.mean(scores, axis=1)\n",
    "stddev_scores = np.std(scores, axis=1)\n",
    "\n",
    "plot_scatter(scores)\n",
    "\n",
    "plt.errorbar(k_choices, avg_scores, yerr=stddev_scores)\n",
    "plt.title('Cross-validation on k')\n",
    "plt.xlabel('k')\n",
    "plt.ylabel('Cross-validation accuracy')"
   ]
  },
  {
   "cell_type": "markdown",
   "id": "7a72574b",
   "metadata": {
    "jp-MarkdownHeadingCollapsed": true
   },
   "source": [
    "Now get the best hyperparameter"
   ]
  },
  {
   "cell_type": "code",
   "execution_count": 31,
   "id": "fbf8c968",
   "metadata": {},
   "outputs": [],
   "source": [
    "best_k = 20"
   ]
  },
  {
   "cell_type": "code",
   "execution_count": 32,
   "id": "82ec9187",
   "metadata": {
    "scrolled": true
   },
   "outputs": [
    {
     "name": "stdout",
     "output_type": "stream",
     "text": [
      "Got 2101 / 2748 correct => accuracy: 76.455600\n"
     ]
    }
   ],
   "source": [
    "model = KNeighborsClassifier(n_neighbors = best_k)\n",
    "model.fit(X_train, y_train)\n",
    "y_predicted = model.predict(X_train)\n",
    "\n",
    "\n",
    "tuned_acc_train_knn = compute_accuracy(y_predicted, y_train)\n",
    "num_correct= np.sum(y_train == y_predicted)\n",
    "num_train = y_train.size\n",
    "\n",
    "print(\"Got %d / %d correct => accuracy: %f\" % (num_correct, num_train, tuned_acc_train_knn))"
   ]
  },
  {
   "cell_type": "code",
   "execution_count": 33,
   "id": "5e745415",
   "metadata": {},
   "outputs": [
    {
     "name": "stdout",
     "output_type": "stream",
     "text": [
      "Best n_neighbors: 36\n"
     ]
    }
   ],
   "source": [
    "from sklearn.model_selection import GridSearchCV\n",
    "\n",
    "#List Hyperparameters that we want to tune.\n",
    "\n",
    "#Convert to dictionary\n",
    "hyperparameters = {'n_neighbors': np.arange(1, 200, 1)}\n",
    "\n",
    "#Create new KNN object\n",
    "knn = KNeighborsClassifier()\n",
    "\n",
    "#Use GridSearch\n",
    "clf = GridSearchCV(estimator=knn, param_grid=hyperparameters, cv=10, scoring='accuracy',error_score=0)\n",
    "\n",
    "#Fit the model\n",
    "best_model = clf.fit(X_train, y_train)\n",
    "\n",
    "#Print The value of best Hyperparameters\n",
    "best_k = best_model.best_estimator_.get_params()['n_neighbors']\n",
    "\n",
    "print('Best n_neighbors:', best_k)"
   ]
  },
  {
   "cell_type": "code",
   "execution_count": 34,
   "id": "954f3f1e",
   "metadata": {},
   "outputs": [
    {
     "data": {
      "text/plain": [
       "{'n_neighbors': 36}"
      ]
     },
     "execution_count": 34,
     "metadata": {},
     "output_type": "execute_result"
    }
   ],
   "source": [
    "hyperparameters_knn_best = best_model.best_params_\n",
    "hyperparameters_knn_best"
   ]
  },
  {
   "cell_type": "code",
   "execution_count": 35,
   "id": "0984496a",
   "metadata": {
    "scrolled": true
   },
   "outputs": [
    {
     "name": "stdout",
     "output_type": "stream",
     "text": [
      "Got 855 / 1179 correct => accuracy: 72.519100\n"
     ]
    }
   ],
   "source": [
    "knn = KNeighborsClassifier(n_neighbors = best_k)\n",
    "\n",
    "knn.fit(X_train, y_train)\n",
    "y_predicted = knn.predict(X_test)\n",
    "\n",
    "\n",
    "tuned_acc_test_knn = compute_accuracy(y_predicted, y_test)\n",
    "num_correct= np.sum(y_test == y_predicted)\n",
    "num_test = y_test.size\n",
    "\n",
    "print(\"Got %d / %d correct => accuracy: %f\" % (num_correct, num_test, tuned_acc_test_knn))"
   ]
  },
  {
   "cell_type": "markdown",
   "id": "c7d6d841-5411-4e12-bc60-5df72b180201",
   "metadata": {},
   "source": [
    "The accuracy of the prediction made on the testing set only increased slightly after tuning the hyperparameter using either cross validation or grid search."
   ]
  },
  {
   "cell_type": "markdown",
   "id": "c3917424-f55e-4b87-9328-25de576467c5",
   "metadata": {},
   "source": [
    "### Logistic Regression"
   ]
  },
  {
   "cell_type": "code",
   "execution_count": 36,
   "id": "db93a333",
   "metadata": {},
   "outputs": [],
   "source": [
    "from sklearn.model_selection import train_test_split, RandomizedSearchCV\n",
    "from sklearn.linear_model import LogisticRegression\n",
    "from sklearn.metrics import accuracy_score, classification_report\n",
    "from sklearn.utils._testing import ignore_warnings\n",
    "from sklearn.exceptions import ConvergenceWarning"
   ]
  },
  {
   "cell_type": "markdown",
   "id": "26f014e1",
   "metadata": {},
   "source": [
    "Let's import the RandomizedSearchCV, Logistic Regression, and some methods we will use for the metrics of our results. With this, we will be able to fit, predict, get the accuracy of the dataset and its labels."
   ]
  },
  {
   "cell_type": "markdown",
   "id": "af237980-bd79-4d62-bcdf-eb3c5bfb5614",
   "metadata": {},
   "source": [
    "#### Logistic Regression Model Training"
   ]
  },
  {
   "cell_type": "code",
   "execution_count": 37,
   "id": "fc1c4734",
   "metadata": {},
   "outputs": [],
   "source": [
    "model_data = data[data['target'] != 'Balanced']\n",
    "X = model_data.drop(['home_score','away_score','target'], axis=1)\n",
    "y = model_data['target']"
   ]
  },
  {
   "cell_type": "code",
   "execution_count": 38,
   "id": "ed0ef475",
   "metadata": {},
   "outputs": [],
   "source": [
    "X_train_val, X_test, y_train_val, y_test = train_test_split(X, y, test_size=0.2, random_state=42)\n",
    "X_train, X_validation, y_train, y_validation = train_test_split(X_train_val, y_train_val, test_size=0.25, random_state=42, stratify=y_train_val)"
   ]
  },
  {
   "cell_type": "code",
   "execution_count": 39,
   "id": "78b22d6f",
   "metadata": {},
   "outputs": [],
   "source": [
    "model = LogisticRegression(multi_class='multinomial')"
   ]
  },
  {
   "cell_type": "code",
   "execution_count": 40,
   "id": "9a03d492",
   "metadata": {},
   "outputs": [
    {
     "name": "stdout",
     "output_type": "stream",
     "text": [
      "Logistic Regression Training Set Accuracy:  77.66454352441615\n"
     ]
    },
    {
     "name": "stderr",
     "output_type": "stream",
     "text": [
      "C:\\Users\\Windows 10\\anaconda3\\lib\\site-packages\\sklearn\\linear_model\\_logistic.py:460: ConvergenceWarning: lbfgs failed to converge (status=1):\n",
      "STOP: TOTAL NO. of ITERATIONS REACHED LIMIT.\n",
      "\n",
      "Increase the number of iterations (max_iter) or scale the data as shown in:\n",
      "    https://scikit-learn.org/stable/modules/preprocessing.html\n",
      "Please also refer to the documentation for alternative solver options:\n",
      "    https://scikit-learn.org/stable/modules/linear_model.html#logistic-regression\n",
      "  n_iter_i = _check_optimize_result(\n"
     ]
    }
   ],
   "source": [
    "model.fit(X_train, y_train)\n",
    "pred = model.predict(X_train)\n",
    "acc_train_lr = accuracy_score(y_train, pred) * 100\n",
    "print(\"Logistic Regression Training Set Accuracy: \", acc_train_lr)\n"
   ]
  },
  {
   "cell_type": "code",
   "execution_count": 41,
   "id": "95055caa",
   "metadata": {},
   "outputs": [
    {
     "name": "stdout",
     "output_type": "stream",
     "text": [
      "Logistic Regression Testing Set Accuracy:  78.2442748091603\n"
     ]
    }
   ],
   "source": [
    "pred = model.predict(X_test)\n",
    "acc_test_lr = accuracy_score(y_test, pred) * 100\n",
    "print(\"Logistic Regression Testing Set Accuracy: \", acc_test_lr)"
   ]
  },
  {
   "cell_type": "code",
   "execution_count": 42,
   "id": "2635bac6",
   "metadata": {},
   "outputs": [
    {
     "data": {
      "text/plain": [
       "dict_keys(['C', 'class_weight', 'dual', 'fit_intercept', 'intercept_scaling', 'l1_ratio', 'max_iter', 'multi_class', 'n_jobs', 'penalty', 'random_state', 'solver', 'tol', 'verbose', 'warm_start'])"
      ]
     },
     "execution_count": 42,
     "metadata": {},
     "output_type": "execute_result"
    }
   ],
   "source": [
    "model.get_params().keys()"
   ]
  },
  {
   "cell_type": "code",
   "execution_count": 43,
   "id": "942aa6c1",
   "metadata": {},
   "outputs": [],
   "source": [
    "# Define hyperparameter grid for grid search\n",
    "param_grid = {\n",
    "    'C': [0.001, 0.01, 0.1, 1, 10, 100],\n",
    "    'class_weight': [None, 'balanced'],\n",
    "    'fit_intercept': [True, False],\n",
    "    'solver': ['lbfgs', 'newton-cg', 'sag'],\n",
    "    'max_iter': [1000, 2000, 3000, 4000, 5000, 10000]\n",
    "}\n"
   ]
  },
  {
   "cell_type": "code",
   "execution_count": 44,
   "id": "d43c1696",
   "metadata": {},
   "outputs": [
    {
     "name": "stderr",
     "output_type": "stream",
     "text": [
      "C:\\Users\\Windows 10\\anaconda3\\lib\\site-packages\\sklearn\\linear_model\\_sag.py:350: ConvergenceWarning: The max_iter was reached which means the coef_ did not converge\n",
      "  warnings.warn(\n",
      "C:\\Users\\Windows 10\\anaconda3\\lib\\site-packages\\sklearn\\linear_model\\_sag.py:350: ConvergenceWarning: The max_iter was reached which means the coef_ did not converge\n",
      "  warnings.warn(\n",
      "C:\\Users\\Windows 10\\anaconda3\\lib\\site-packages\\sklearn\\linear_model\\_sag.py:350: ConvergenceWarning: The max_iter was reached which means the coef_ did not converge\n",
      "  warnings.warn(\n",
      "C:\\Users\\Windows 10\\anaconda3\\lib\\site-packages\\sklearn\\linear_model\\_sag.py:350: ConvergenceWarning: The max_iter was reached which means the coef_ did not converge\n",
      "  warnings.warn(\n",
      "C:\\Users\\Windows 10\\anaconda3\\lib\\site-packages\\sklearn\\linear_model\\_sag.py:350: ConvergenceWarning: The max_iter was reached which means the coef_ did not converge\n",
      "  warnings.warn(\n",
      "C:\\Users\\Windows 10\\anaconda3\\lib\\site-packages\\sklearn\\linear_model\\_sag.py:350: ConvergenceWarning: The max_iter was reached which means the coef_ did not converge\n",
      "  warnings.warn(\n",
      "C:\\Users\\Windows 10\\anaconda3\\lib\\site-packages\\sklearn\\linear_model\\_sag.py:350: ConvergenceWarning: The max_iter was reached which means the coef_ did not converge\n",
      "  warnings.warn(\n",
      "C:\\Users\\Windows 10\\anaconda3\\lib\\site-packages\\sklearn\\linear_model\\_sag.py:350: ConvergenceWarning: The max_iter was reached which means the coef_ did not converge\n",
      "  warnings.warn(\n",
      "C:\\Users\\Windows 10\\anaconda3\\lib\\site-packages\\sklearn\\linear_model\\_sag.py:350: ConvergenceWarning: The max_iter was reached which means the coef_ did not converge\n",
      "  warnings.warn(\n",
      "C:\\Users\\Windows 10\\anaconda3\\lib\\site-packages\\sklearn\\linear_model\\_sag.py:350: ConvergenceWarning: The max_iter was reached which means the coef_ did not converge\n",
      "  warnings.warn(\n",
      "C:\\Users\\Windows 10\\anaconda3\\lib\\site-packages\\sklearn\\linear_model\\_sag.py:350: ConvergenceWarning: The max_iter was reached which means the coef_ did not converge\n",
      "  warnings.warn(\n",
      "C:\\Users\\Windows 10\\anaconda3\\lib\\site-packages\\sklearn\\linear_model\\_sag.py:350: ConvergenceWarning: The max_iter was reached which means the coef_ did not converge\n",
      "  warnings.warn(\n",
      "C:\\Users\\Windows 10\\anaconda3\\lib\\site-packages\\sklearn\\linear_model\\_sag.py:350: ConvergenceWarning: The max_iter was reached which means the coef_ did not converge\n",
      "  warnings.warn(\n",
      "C:\\Users\\Windows 10\\anaconda3\\lib\\site-packages\\sklearn\\linear_model\\_sag.py:350: ConvergenceWarning: The max_iter was reached which means the coef_ did not converge\n",
      "  warnings.warn(\n",
      "C:\\Users\\Windows 10\\anaconda3\\lib\\site-packages\\sklearn\\linear_model\\_sag.py:350: ConvergenceWarning: The max_iter was reached which means the coef_ did not converge\n",
      "  warnings.warn(\n",
      "C:\\Users\\Windows 10\\anaconda3\\lib\\site-packages\\sklearn\\linear_model\\_sag.py:350: ConvergenceWarning: The max_iter was reached which means the coef_ did not converge\n",
      "  warnings.warn(\n",
      "C:\\Users\\Windows 10\\anaconda3\\lib\\site-packages\\sklearn\\linear_model\\_sag.py:350: ConvergenceWarning: The max_iter was reached which means the coef_ did not converge\n",
      "  warnings.warn(\n",
      "C:\\Users\\Windows 10\\anaconda3\\lib\\site-packages\\sklearn\\linear_model\\_sag.py:350: ConvergenceWarning: The max_iter was reached which means the coef_ did not converge\n",
      "  warnings.warn(\n",
      "C:\\Users\\Windows 10\\anaconda3\\lib\\site-packages\\sklearn\\linear_model\\_sag.py:350: ConvergenceWarning: The max_iter was reached which means the coef_ did not converge\n",
      "  warnings.warn(\n",
      "C:\\Users\\Windows 10\\anaconda3\\lib\\site-packages\\sklearn\\linear_model\\_sag.py:350: ConvergenceWarning: The max_iter was reached which means the coef_ did not converge\n",
      "  warnings.warn(\n",
      "C:\\Users\\Windows 10\\anaconda3\\lib\\site-packages\\sklearn\\linear_model\\_sag.py:350: ConvergenceWarning: The max_iter was reached which means the coef_ did not converge\n",
      "  warnings.warn(\n",
      "C:\\Users\\Windows 10\\anaconda3\\lib\\site-packages\\sklearn\\linear_model\\_sag.py:350: ConvergenceWarning: The max_iter was reached which means the coef_ did not converge\n",
      "  warnings.warn(\n",
      "C:\\Users\\Windows 10\\anaconda3\\lib\\site-packages\\sklearn\\linear_model\\_sag.py:350: ConvergenceWarning: The max_iter was reached which means the coef_ did not converge\n",
      "  warnings.warn(\n",
      "C:\\Users\\Windows 10\\anaconda3\\lib\\site-packages\\sklearn\\linear_model\\_sag.py:350: ConvergenceWarning: The max_iter was reached which means the coef_ did not converge\n",
      "  warnings.warn(\n"
     ]
    },
    {
     "data": {
      "text/html": [
       "<style>#sk-container-id-2 {color: black;}#sk-container-id-2 pre{padding: 0;}#sk-container-id-2 div.sk-toggleable {background-color: white;}#sk-container-id-2 label.sk-toggleable__label {cursor: pointer;display: block;width: 100%;margin-bottom: 0;padding: 0.3em;box-sizing: border-box;text-align: center;}#sk-container-id-2 label.sk-toggleable__label-arrow:before {content: \"▸\";float: left;margin-right: 0.25em;color: #696969;}#sk-container-id-2 label.sk-toggleable__label-arrow:hover:before {color: black;}#sk-container-id-2 div.sk-estimator:hover label.sk-toggleable__label-arrow:before {color: black;}#sk-container-id-2 div.sk-toggleable__content {max-height: 0;max-width: 0;overflow: hidden;text-align: left;background-color: #f0f8ff;}#sk-container-id-2 div.sk-toggleable__content pre {margin: 0.2em;color: black;border-radius: 0.25em;background-color: #f0f8ff;}#sk-container-id-2 input.sk-toggleable__control:checked~div.sk-toggleable__content {max-height: 200px;max-width: 100%;overflow: auto;}#sk-container-id-2 input.sk-toggleable__control:checked~label.sk-toggleable__label-arrow:before {content: \"▾\";}#sk-container-id-2 div.sk-estimator input.sk-toggleable__control:checked~label.sk-toggleable__label {background-color: #d4ebff;}#sk-container-id-2 div.sk-label input.sk-toggleable__control:checked~label.sk-toggleable__label {background-color: #d4ebff;}#sk-container-id-2 input.sk-hidden--visually {border: 0;clip: rect(1px 1px 1px 1px);clip: rect(1px, 1px, 1px, 1px);height: 1px;margin: -1px;overflow: hidden;padding: 0;position: absolute;width: 1px;}#sk-container-id-2 div.sk-estimator {font-family: monospace;background-color: #f0f8ff;border: 1px dotted black;border-radius: 0.25em;box-sizing: border-box;margin-bottom: 0.5em;}#sk-container-id-2 div.sk-estimator:hover {background-color: #d4ebff;}#sk-container-id-2 div.sk-parallel-item::after {content: \"\";width: 100%;border-bottom: 1px solid gray;flex-grow: 1;}#sk-container-id-2 div.sk-label:hover label.sk-toggleable__label {background-color: #d4ebff;}#sk-container-id-2 div.sk-serial::before {content: \"\";position: absolute;border-left: 1px solid gray;box-sizing: border-box;top: 0;bottom: 0;left: 50%;z-index: 0;}#sk-container-id-2 div.sk-serial {display: flex;flex-direction: column;align-items: center;background-color: white;padding-right: 0.2em;padding-left: 0.2em;position: relative;}#sk-container-id-2 div.sk-item {position: relative;z-index: 1;}#sk-container-id-2 div.sk-parallel {display: flex;align-items: stretch;justify-content: center;background-color: white;position: relative;}#sk-container-id-2 div.sk-item::before, #sk-container-id-2 div.sk-parallel-item::before {content: \"\";position: absolute;border-left: 1px solid gray;box-sizing: border-box;top: 0;bottom: 0;left: 50%;z-index: -1;}#sk-container-id-2 div.sk-parallel-item {display: flex;flex-direction: column;z-index: 1;position: relative;background-color: white;}#sk-container-id-2 div.sk-parallel-item:first-child::after {align-self: flex-end;width: 50%;}#sk-container-id-2 div.sk-parallel-item:last-child::after {align-self: flex-start;width: 50%;}#sk-container-id-2 div.sk-parallel-item:only-child::after {width: 0;}#sk-container-id-2 div.sk-dashed-wrapped {border: 1px dashed gray;margin: 0 0.4em 0.5em 0.4em;box-sizing: border-box;padding-bottom: 0.4em;background-color: white;}#sk-container-id-2 div.sk-label label {font-family: monospace;font-weight: bold;display: inline-block;line-height: 1.2em;}#sk-container-id-2 div.sk-label-container {text-align: center;}#sk-container-id-2 div.sk-container {/* jupyter's `normalize.less` sets `[hidden] { display: none; }` but bootstrap.min.css set `[hidden] { display: none !important; }` so we also need the `!important` here to be able to override the default hidden behavior on the sphinx rendered scikit-learn.org. See: https://github.com/scikit-learn/scikit-learn/issues/21755 */display: inline-block !important;position: relative;}#sk-container-id-2 div.sk-text-repr-fallback {display: none;}</style><div id=\"sk-container-id-2\" class=\"sk-top-container\"><div class=\"sk-text-repr-fallback\"><pre>RandomizedSearchCV(cv=5,\n",
       "                   estimator=LogisticRegression(multi_class=&#x27;multinomial&#x27;),\n",
       "                   n_iter=50,\n",
       "                   param_distributions={&#x27;C&#x27;: [0.001, 0.01, 0.1, 1, 10, 100],\n",
       "                                        &#x27;class_weight&#x27;: [None, &#x27;balanced&#x27;],\n",
       "                                        &#x27;fit_intercept&#x27;: [True, False],\n",
       "                                        &#x27;max_iter&#x27;: [1000, 2000, 3000, 4000,\n",
       "                                                     5000, 10000],\n",
       "                                        &#x27;solver&#x27;: [&#x27;lbfgs&#x27;, &#x27;newton-cg&#x27;,\n",
       "                                                   &#x27;sag&#x27;]},\n",
       "                   random_state=42)</pre><b>In a Jupyter environment, please rerun this cell to show the HTML representation or trust the notebook. <br />On GitHub, the HTML representation is unable to render, please try loading this page with nbviewer.org.</b></div><div class=\"sk-container\" hidden><div class=\"sk-item sk-dashed-wrapped\"><div class=\"sk-label-container\"><div class=\"sk-label sk-toggleable\"><input class=\"sk-toggleable__control sk-hidden--visually\" id=\"sk-estimator-id-2\" type=\"checkbox\" ><label for=\"sk-estimator-id-2\" class=\"sk-toggleable__label sk-toggleable__label-arrow\">RandomizedSearchCV</label><div class=\"sk-toggleable__content\"><pre>RandomizedSearchCV(cv=5,\n",
       "                   estimator=LogisticRegression(multi_class=&#x27;multinomial&#x27;),\n",
       "                   n_iter=50,\n",
       "                   param_distributions={&#x27;C&#x27;: [0.001, 0.01, 0.1, 1, 10, 100],\n",
       "                                        &#x27;class_weight&#x27;: [None, &#x27;balanced&#x27;],\n",
       "                                        &#x27;fit_intercept&#x27;: [True, False],\n",
       "                                        &#x27;max_iter&#x27;: [1000, 2000, 3000, 4000,\n",
       "                                                     5000, 10000],\n",
       "                                        &#x27;solver&#x27;: [&#x27;lbfgs&#x27;, &#x27;newton-cg&#x27;,\n",
       "                                                   &#x27;sag&#x27;]},\n",
       "                   random_state=42)</pre></div></div></div><div class=\"sk-parallel\"><div class=\"sk-parallel-item\"><div class=\"sk-item\"><div class=\"sk-label-container\"><div class=\"sk-label sk-toggleable\"><input class=\"sk-toggleable__control sk-hidden--visually\" id=\"sk-estimator-id-3\" type=\"checkbox\" ><label for=\"sk-estimator-id-3\" class=\"sk-toggleable__label sk-toggleable__label-arrow\">estimator: LogisticRegression</label><div class=\"sk-toggleable__content\"><pre>LogisticRegression(multi_class=&#x27;multinomial&#x27;)</pre></div></div></div><div class=\"sk-serial\"><div class=\"sk-item\"><div class=\"sk-estimator sk-toggleable\"><input class=\"sk-toggleable__control sk-hidden--visually\" id=\"sk-estimator-id-4\" type=\"checkbox\" ><label for=\"sk-estimator-id-4\" class=\"sk-toggleable__label sk-toggleable__label-arrow\">LogisticRegression</label><div class=\"sk-toggleable__content\"><pre>LogisticRegression(multi_class=&#x27;multinomial&#x27;)</pre></div></div></div></div></div></div></div></div></div></div>"
      ],
      "text/plain": [
       "RandomizedSearchCV(cv=5,\n",
       "                   estimator=LogisticRegression(multi_class='multinomial'),\n",
       "                   n_iter=50,\n",
       "                   param_distributions={'C': [0.001, 0.01, 0.1, 1, 10, 100],\n",
       "                                        'class_weight': [None, 'balanced'],\n",
       "                                        'fit_intercept': [True, False],\n",
       "                                        'max_iter': [1000, 2000, 3000, 4000,\n",
       "                                                     5000, 10000],\n",
       "                                        'solver': ['lbfgs', 'newton-cg',\n",
       "                                                   'sag']},\n",
       "                   random_state=42)"
      ]
     },
     "execution_count": 44,
     "metadata": {},
     "output_type": "execute_result"
    }
   ],
   "source": [
    "# write code here\n",
    "rsr = RandomizedSearchCV(estimator = model, param_distributions=param_grid, cv = 5, random_state = 42, n_iter = 50)\n",
    "rsr.fit(X_train, y_train)"
   ]
  },
  {
   "cell_type": "markdown",
   "id": "cd6e9e59",
   "metadata": {},
   "source": [
    "This cell above performs the RandomizedSearchCV to hypertune the Logistic Regression classifier. Now, let's output the best parameters from the Randomized search hypertuning."
   ]
  },
  {
   "cell_type": "code",
   "execution_count": 45,
   "id": "ad4cc6c9",
   "metadata": {},
   "outputs": [],
   "source": [
    "# Get the best parameters and the best model\n",
    "best_params = rsr.best_params_\n",
    "best_model = rsr.best_estimator_"
   ]
  },
  {
   "cell_type": "code",
   "execution_count": 46,
   "id": "5ab7641d",
   "metadata": {},
   "outputs": [
    {
     "data": {
      "text/plain": [
       "{'solver': 'newton-cg',\n",
       " 'max_iter': 4000,\n",
       " 'fit_intercept': True,\n",
       " 'class_weight': None,\n",
       " 'C': 0.1}"
      ]
     },
     "execution_count": 46,
     "metadata": {},
     "output_type": "execute_result"
    }
   ],
   "source": [
    "best_params"
   ]
  },
  {
   "cell_type": "markdown",
   "id": "c46e3929",
   "metadata": {},
   "source": [
    "Let us predict and check the score of the predictions against the validation set using our best model."
   ]
  },
  {
   "cell_type": "code",
   "execution_count": 47,
   "id": "a22b7afd",
   "metadata": {},
   "outputs": [],
   "source": [
    "y_val_pred = best_model.predict(X_validation)"
   ]
  },
  {
   "cell_type": "markdown",
   "id": "db280bcd",
   "metadata": {},
   "source": [
    "We can check the accuracy  and check the score of the predictions against the validation set using our best model."
   ]
  },
  {
   "cell_type": "code",
   "execution_count": 48,
   "id": "b466eea9",
   "metadata": {},
   "outputs": [],
   "source": [
    "val_accuracy = accuracy_score(y_validation, y_val_pred)\n",
    "val_report = classification_report(y_validation, y_val_pred)"
   ]
  },
  {
   "cell_type": "code",
   "execution_count": 49,
   "id": "d38977c6",
   "metadata": {},
   "outputs": [
    {
     "name": "stdout",
     "output_type": "stream",
     "text": [
      "Validation Set Results:\n",
      "Best Hyperparameters: {'solver': 'newton-cg', 'max_iter': 4000, 'fit_intercept': True, 'class_weight': None, 'C': 0.1}\n",
      "Validation Accuracy: 0.7824427480916031\n"
     ]
    },
    {
     "data": {
      "text/html": [
       "<div>\n",
       "<style scoped>\n",
       "    .dataframe tbody tr th:only-of-type {\n",
       "        vertical-align: middle;\n",
       "    }\n",
       "\n",
       "    .dataframe tbody tr th {\n",
       "        vertical-align: top;\n",
       "    }\n",
       "\n",
       "    .dataframe thead th {\n",
       "        text-align: right;\n",
       "    }\n",
       "</style>\n",
       "<table border=\"1\" class=\"dataframe\">\n",
       "  <thead>\n",
       "    <tr style=\"text-align: right;\">\n",
       "      <th></th>\n",
       "      <th>precision</th>\n",
       "      <th>recall</th>\n",
       "      <th>f1-score</th>\n",
       "      <th>support</th>\n",
       "    </tr>\n",
       "  </thead>\n",
       "  <tbody>\n",
       "    <tr>\n",
       "      <th>Away Advantage</th>\n",
       "      <td>0.784672</td>\n",
       "      <td>0.657492</td>\n",
       "      <td>0.715474</td>\n",
       "      <td>327.000000</td>\n",
       "    </tr>\n",
       "    <tr>\n",
       "      <th>Home Advantage</th>\n",
       "      <td>0.781250</td>\n",
       "      <td>0.871460</td>\n",
       "      <td>0.823893</td>\n",
       "      <td>459.000000</td>\n",
       "    </tr>\n",
       "    <tr>\n",
       "      <th>accuracy</th>\n",
       "      <td>0.782443</td>\n",
       "      <td>0.782443</td>\n",
       "      <td>0.782443</td>\n",
       "      <td>0.782443</td>\n",
       "    </tr>\n",
       "    <tr>\n",
       "      <th>macro avg</th>\n",
       "      <td>0.782961</td>\n",
       "      <td>0.764476</td>\n",
       "      <td>0.769684</td>\n",
       "      <td>786.000000</td>\n",
       "    </tr>\n",
       "    <tr>\n",
       "      <th>weighted avg</th>\n",
       "      <td>0.782673</td>\n",
       "      <td>0.782443</td>\n",
       "      <td>0.778787</td>\n",
       "      <td>786.000000</td>\n",
       "    </tr>\n",
       "  </tbody>\n",
       "</table>\n",
       "</div>"
      ],
      "text/plain": [
       "                precision    recall  f1-score     support\n",
       "Away Advantage   0.784672  0.657492  0.715474  327.000000\n",
       "Home Advantage   0.781250  0.871460  0.823893  459.000000\n",
       "accuracy         0.782443  0.782443  0.782443    0.782443\n",
       "macro avg        0.782961  0.764476  0.769684  786.000000\n",
       "weighted avg     0.782673  0.782443  0.778787  786.000000"
      ]
     },
     "execution_count": 49,
     "metadata": {},
     "output_type": "execute_result"
    }
   ],
   "source": [
    "# Calculate accuracy\n",
    "val_accuracy = accuracy_score(y_validation, y_val_pred)\n",
    "\n",
    "# Generate the classification report as a dictionary\n",
    "val_report_dict = classification_report(y_validation, y_val_pred, output_dict=True)\n",
    "\n",
    "# Convert the classification report dictionary to a DataFrame\n",
    "val_report_df = pd.DataFrame(val_report_dict).transpose()\n",
    "\n",
    "# Print the results\n",
    "print(\"Validation Set Results:\")\n",
    "print(f\"Best Hyperparameters: {best_params}\")\n",
    "print(f\"Validation Accuracy: {val_accuracy}\")\n",
    "val_report_df"
   ]
  },
  {
   "cell_type": "markdown",
   "id": "1bb29a2e",
   "metadata": {},
   "source": [
    "**Insights:**\n",
    "  - The model performs best for the \"Balanced\" class, indicating good precision, recall, and F1-Score.\n",
    "  - The model struggles with precision for the \"Away Advantage\" class, indicating a higher rate of false positives.\n",
    "  - A balanced F1-Score suggests that the model maintains a reasonable trade-off between precision and recall across classes.\n",
    "  - The weighted average F1-Score (0.5867) reflects an overall decent performance, considering the class distribution.\n",
    "\n",
    "**Recommendations:**\n",
    "  - Further investigate and potentially address the false positives in predicting \"Away Advantage.\""
   ]
  },
  {
   "cell_type": "markdown",
   "id": "f4a4f96c",
   "metadata": {},
   "source": [
    "#### Try our trained model on the test data"
   ]
  },
  {
   "cell_type": "markdown",
   "id": "f0f70921",
   "metadata": {},
   "source": [
    "Let's first get the prediction results on the train data."
   ]
  },
  {
   "cell_type": "code",
   "execution_count": 50,
   "id": "bc6df45d",
   "metadata": {},
   "outputs": [
    {
     "name": "stdout",
     "output_type": "stream",
     "text": [
      "Logistic Regression Training Set Accuracy:  77.66454352441615\n"
     ]
    }
   ],
   "source": [
    "y_train_pred = best_model.predict(X_train)\n",
    "tuned_acc_train_lr = accuracy_score(y_train, y_train_pred) * 100\n",
    "print(\"Logistic Regression Training Set Accuracy: \", acc_train_lr)"
   ]
  },
  {
   "cell_type": "markdown",
   "id": "b6d6a055",
   "metadata": {},
   "source": [
    "Now, let's get the prediction results on the test data to see if our model can handle unseen instances."
   ]
  },
  {
   "cell_type": "code",
   "execution_count": 51,
   "id": "ad81d1b6",
   "metadata": {},
   "outputs": [],
   "source": [
    "y_test_pred = best_model.predict(X_test)"
   ]
  },
  {
   "cell_type": "code",
   "execution_count": 52,
   "id": "ddf3814d",
   "metadata": {},
   "outputs": [
    {
     "name": "stdout",
     "output_type": "stream",
     "text": [
      "\n",
      "Test Set Results:\n",
      "Test Accuracy: 78.49872773536896\n"
     ]
    },
    {
     "data": {
      "text/html": [
       "<div>\n",
       "<style scoped>\n",
       "    .dataframe tbody tr th:only-of-type {\n",
       "        vertical-align: middle;\n",
       "    }\n",
       "\n",
       "    .dataframe tbody tr th {\n",
       "        vertical-align: top;\n",
       "    }\n",
       "\n",
       "    .dataframe thead th {\n",
       "        text-align: right;\n",
       "    }\n",
       "</style>\n",
       "<table border=\"1\" class=\"dataframe\">\n",
       "  <thead>\n",
       "    <tr style=\"text-align: right;\">\n",
       "      <th></th>\n",
       "      <th>precision</th>\n",
       "      <th>recall</th>\n",
       "      <th>f1-score</th>\n",
       "      <th>support</th>\n",
       "    </tr>\n",
       "  </thead>\n",
       "  <tbody>\n",
       "    <tr>\n",
       "      <th>Away Advantage</th>\n",
       "      <td>0.816901</td>\n",
       "      <td>0.664756</td>\n",
       "      <td>0.733017</td>\n",
       "      <td>349.000000</td>\n",
       "    </tr>\n",
       "    <tr>\n",
       "      <th>Home Advantage</th>\n",
       "      <td>0.766932</td>\n",
       "      <td>0.881007</td>\n",
       "      <td>0.820021</td>\n",
       "      <td>437.000000</td>\n",
       "    </tr>\n",
       "    <tr>\n",
       "      <th>accuracy</th>\n",
       "      <td>0.784987</td>\n",
       "      <td>0.784987</td>\n",
       "      <td>0.784987</td>\n",
       "      <td>0.784987</td>\n",
       "    </tr>\n",
       "    <tr>\n",
       "      <th>macro avg</th>\n",
       "      <td>0.791917</td>\n",
       "      <td>0.772882</td>\n",
       "      <td>0.776519</td>\n",
       "      <td>786.000000</td>\n",
       "    </tr>\n",
       "    <tr>\n",
       "      <th>weighted avg</th>\n",
       "      <td>0.789120</td>\n",
       "      <td>0.784987</td>\n",
       "      <td>0.781390</td>\n",
       "      <td>786.000000</td>\n",
       "    </tr>\n",
       "  </tbody>\n",
       "</table>\n",
       "</div>"
      ],
      "text/plain": [
       "                precision    recall  f1-score     support\n",
       "Away Advantage   0.816901  0.664756  0.733017  349.000000\n",
       "Home Advantage   0.766932  0.881007  0.820021  437.000000\n",
       "accuracy         0.784987  0.784987  0.784987    0.784987\n",
       "macro avg        0.791917  0.772882  0.776519  786.000000\n",
       "weighted avg     0.789120  0.784987  0.781390  786.000000"
      ]
     },
     "execution_count": 52,
     "metadata": {},
     "output_type": "execute_result"
    }
   ],
   "source": [
    "# Calculate accuracy\n",
    "tuned_acc_test_lr = accuracy_score(y_test, y_test_pred) * 100\n",
    "\n",
    "# Generate the classification report as a dictionary\n",
    "test_report_dict = classification_report(y_test, y_test_pred, output_dict=True)\n",
    "\n",
    "# Convert the classification report dictionary to a DataFrame\n",
    "test_report_df = pd.DataFrame(test_report_dict).transpose()\n",
    "\n",
    "# Print the results\n",
    "print(\"\\nTest Set Results:\")\n",
    "print(f\"Test Accuracy: {tuned_acc_test_lr}\")\n",
    "test_report_df"
   ]
  },
  {
   "cell_type": "markdown",
   "id": "b995d381",
   "metadata": {},
   "source": [
    "**Insights:**\n",
    "  - The model performs well in distinguishing between \"Home Advantage\" and \"Away Advantage\" classes, with high precision and recall values for both.\n",
    "  - A balanced F1-Score suggests that the model maintains a reasonable trade-off between precision and recall across classes.\n",
    "  - The weighted average F1-Score (0.7814) reflects an overall strong performance, considering the class distribution in the test set."
   ]
  },
  {
   "cell_type": "markdown",
   "id": "8e37f5f8-bba3-44f0-995d-02011f53030c",
   "metadata": {},
   "source": [
    "### Random Forest"
   ]
  },
  {
   "cell_type": "markdown",
   "id": "a8c4de93-5005-40ae-b250-c1bfab081221",
   "metadata": {},
   "source": [
    "For the third model, random forest was chosen for its benefits including being less prone to overfitting, and being able to extract the importances of each feature used in training *(What is Random Forest?, n.d.)*. Given that random forest extends decision trees' predictive power by taking the average of multiple trees, it better captures the general trend of the provided training data. Additionally, by knowing which features have higher importance in influencing the model's predictions, feature selection could happen where less important features can be removed, resulting in a less complex model."
   ]
  },
  {
   "cell_type": "markdown",
   "id": "dba26ae4-3a80-4ee1-a24d-de2b2990beb0",
   "metadata": {},
   "source": [
    "#### Random Forest Training"
   ]
  },
  {
   "cell_type": "markdown",
   "id": "d42775a1-c3c4-4bcb-9985-90428eb3578f",
   "metadata": {},
   "source": [
    "To begin training, irrelevant rows and columns the feature matrix and target vector are split into train and test sets."
   ]
  },
  {
   "cell_type": "code",
   "execution_count": 53,
   "id": "d20efe70-9530-4aa3-b34b-b9a97e29acb0",
   "metadata": {},
   "outputs": [],
   "source": [
    "rf_data = data.drop([\"home_score\", \"away_score\"], axis=1)\n",
    "rf_data = rf_data[rf_data['target'] != 'Balanced']"
   ]
  },
  {
   "cell_type": "code",
   "execution_count": 54,
   "id": "cf0b3656-9823-452d-943c-08d5d4baaf7d",
   "metadata": {},
   "outputs": [
    {
     "name": "stdout",
     "output_type": "stream",
     "text": [
      "Shape of X: (3927, 17)\n",
      "Shape of y: (3927,)\n"
     ]
    }
   ],
   "source": [
    "X = rf_data.iloc[:, :-1].values\n",
    "y = rf_data.iloc[:, -1].values\n",
    "\n",
    "print(f\"Shape of X: {X.shape}\")\n",
    "print(f\"Shape of y: {y.shape}\")"
   ]
  },
  {
   "cell_type": "code",
   "execution_count": 55,
   "id": "a38d59ba-2254-4df1-8f7a-cb39a33f3887",
   "metadata": {},
   "outputs": [],
   "source": [
    "X_train, X_test, y_train, y_test = train_test_split(X, y, random_state=random_state, stratify=y)"
   ]
  },
  {
   "cell_type": "markdown",
   "id": "76de81ff-5d29-488b-88ac-f5272a57ade6",
   "metadata": {},
   "source": [
    "A `RandomForestClassifer` object is created and trained with default hyperparameters (as documented [here](https://scikit-learn.org/stable/modules/generated/sklearn.ensemble.RandomForestClassifier.html)). The following are the hyperparameters (and initial values) we will be working with and tuning later on.\n",
    "\n",
    "- n_estimators = 100\n",
    "- criterion = \"gini\"\n",
    "- min_samples_leaf = 2\n",
    "- max_features = \"sqrt\"\n",
    "- max_samples = None\n",
    "\n",
    "These hyperparameters were selected given that they were described to have most influence on performance and extraction of feature importance *(Probst et al., 2019)*."
   ]
  },
  {
   "cell_type": "code",
   "execution_count": 56,
   "id": "2c87325d-bd3c-4a46-a9de-72b73618338b",
   "metadata": {},
   "outputs": [
    {
     "data": {
      "text/html": [
       "<style>#sk-container-id-3 {color: black;}#sk-container-id-3 pre{padding: 0;}#sk-container-id-3 div.sk-toggleable {background-color: white;}#sk-container-id-3 label.sk-toggleable__label {cursor: pointer;display: block;width: 100%;margin-bottom: 0;padding: 0.3em;box-sizing: border-box;text-align: center;}#sk-container-id-3 label.sk-toggleable__label-arrow:before {content: \"▸\";float: left;margin-right: 0.25em;color: #696969;}#sk-container-id-3 label.sk-toggleable__label-arrow:hover:before {color: black;}#sk-container-id-3 div.sk-estimator:hover label.sk-toggleable__label-arrow:before {color: black;}#sk-container-id-3 div.sk-toggleable__content {max-height: 0;max-width: 0;overflow: hidden;text-align: left;background-color: #f0f8ff;}#sk-container-id-3 div.sk-toggleable__content pre {margin: 0.2em;color: black;border-radius: 0.25em;background-color: #f0f8ff;}#sk-container-id-3 input.sk-toggleable__control:checked~div.sk-toggleable__content {max-height: 200px;max-width: 100%;overflow: auto;}#sk-container-id-3 input.sk-toggleable__control:checked~label.sk-toggleable__label-arrow:before {content: \"▾\";}#sk-container-id-3 div.sk-estimator input.sk-toggleable__control:checked~label.sk-toggleable__label {background-color: #d4ebff;}#sk-container-id-3 div.sk-label input.sk-toggleable__control:checked~label.sk-toggleable__label {background-color: #d4ebff;}#sk-container-id-3 input.sk-hidden--visually {border: 0;clip: rect(1px 1px 1px 1px);clip: rect(1px, 1px, 1px, 1px);height: 1px;margin: -1px;overflow: hidden;padding: 0;position: absolute;width: 1px;}#sk-container-id-3 div.sk-estimator {font-family: monospace;background-color: #f0f8ff;border: 1px dotted black;border-radius: 0.25em;box-sizing: border-box;margin-bottom: 0.5em;}#sk-container-id-3 div.sk-estimator:hover {background-color: #d4ebff;}#sk-container-id-3 div.sk-parallel-item::after {content: \"\";width: 100%;border-bottom: 1px solid gray;flex-grow: 1;}#sk-container-id-3 div.sk-label:hover label.sk-toggleable__label {background-color: #d4ebff;}#sk-container-id-3 div.sk-serial::before {content: \"\";position: absolute;border-left: 1px solid gray;box-sizing: border-box;top: 0;bottom: 0;left: 50%;z-index: 0;}#sk-container-id-3 div.sk-serial {display: flex;flex-direction: column;align-items: center;background-color: white;padding-right: 0.2em;padding-left: 0.2em;position: relative;}#sk-container-id-3 div.sk-item {position: relative;z-index: 1;}#sk-container-id-3 div.sk-parallel {display: flex;align-items: stretch;justify-content: center;background-color: white;position: relative;}#sk-container-id-3 div.sk-item::before, #sk-container-id-3 div.sk-parallel-item::before {content: \"\";position: absolute;border-left: 1px solid gray;box-sizing: border-box;top: 0;bottom: 0;left: 50%;z-index: -1;}#sk-container-id-3 div.sk-parallel-item {display: flex;flex-direction: column;z-index: 1;position: relative;background-color: white;}#sk-container-id-3 div.sk-parallel-item:first-child::after {align-self: flex-end;width: 50%;}#sk-container-id-3 div.sk-parallel-item:last-child::after {align-self: flex-start;width: 50%;}#sk-container-id-3 div.sk-parallel-item:only-child::after {width: 0;}#sk-container-id-3 div.sk-dashed-wrapped {border: 1px dashed gray;margin: 0 0.4em 0.5em 0.4em;box-sizing: border-box;padding-bottom: 0.4em;background-color: white;}#sk-container-id-3 div.sk-label label {font-family: monospace;font-weight: bold;display: inline-block;line-height: 1.2em;}#sk-container-id-3 div.sk-label-container {text-align: center;}#sk-container-id-3 div.sk-container {/* jupyter's `normalize.less` sets `[hidden] { display: none; }` but bootstrap.min.css set `[hidden] { display: none !important; }` so we also need the `!important` here to be able to override the default hidden behavior on the sphinx rendered scikit-learn.org. See: https://github.com/scikit-learn/scikit-learn/issues/21755 */display: inline-block !important;position: relative;}#sk-container-id-3 div.sk-text-repr-fallback {display: none;}</style><div id=\"sk-container-id-3\" class=\"sk-top-container\"><div class=\"sk-text-repr-fallback\"><pre>RandomForestClassifier(n_jobs=-1, random_state=42)</pre><b>In a Jupyter environment, please rerun this cell to show the HTML representation or trust the notebook. <br />On GitHub, the HTML representation is unable to render, please try loading this page with nbviewer.org.</b></div><div class=\"sk-container\" hidden><div class=\"sk-item\"><div class=\"sk-estimator sk-toggleable\"><input class=\"sk-toggleable__control sk-hidden--visually\" id=\"sk-estimator-id-5\" type=\"checkbox\" checked><label for=\"sk-estimator-id-5\" class=\"sk-toggleable__label sk-toggleable__label-arrow\">RandomForestClassifier</label><div class=\"sk-toggleable__content\"><pre>RandomForestClassifier(n_jobs=-1, random_state=42)</pre></div></div></div></div></div>"
      ],
      "text/plain": [
       "RandomForestClassifier(n_jobs=-1, random_state=42)"
      ]
     },
     "execution_count": 56,
     "metadata": {},
     "output_type": "execute_result"
    }
   ],
   "source": [
    "rfc = RandomForestClassifier(random_state=random_state, n_jobs=-1)\n",
    "rfc.fit(X_train, y_train)"
   ]
  },
  {
   "cell_type": "markdown",
   "id": "9d7f88ad-bc8b-4e10-afaa-ec16e2a54596",
   "metadata": {},
   "source": [
    "Predictions can now be made on both the training set and test set."
   ]
  },
  {
   "cell_type": "code",
   "execution_count": 57,
   "id": "af0bce6f-8b59-4256-9d56-5268e0b5620d",
   "metadata": {},
   "outputs": [
    {
     "name": "stdout",
     "output_type": "stream",
     "text": [
      "Random forest classifier train accuracy: 98.3022 %\n"
     ]
    }
   ],
   "source": [
    "predictions_train = rfc.predict(X_train)\n",
    "acc_train_rf = compute_accuracy(predictions_train, y_train)\n",
    "print(\"Random forest classifier train accuracy:\", acc_train_rf, \"%\")"
   ]
  },
  {
   "cell_type": "code",
   "execution_count": 58,
   "id": "7117ee47-94e1-4440-aae7-496f959a613d",
   "metadata": {},
   "outputs": [
    {
     "name": "stdout",
     "output_type": "stream",
     "text": [
      "Random forest classifier test accuracy: 76.2729 %\n"
     ]
    }
   ],
   "source": [
    "predictions_test = rfc.predict(X_test)\n",
    "acc_test_rf = compute_accuracy(predictions_test, y_test)\n",
    "print(\"Random forest classifier test accuracy:\", acc_test_rf, \"%\")"
   ]
  },
  {
   "cell_type": "markdown",
   "id": "08f77bbb-e6a1-4b02-adee-739ae09055af",
   "metadata": {},
   "source": [
    "The above accuracies show that the model performs very well on the training set but performs poorly on the test set. This shows that the model has **high variance** and is **overfitting**."
   ]
  },
  {
   "cell_type": "markdown",
   "id": "bcce3523-c301-45aa-8bbb-7da20fbe6eaf",
   "metadata": {},
   "source": [
    "#### Random Forest Hyperparameter Tuning"
   ]
  },
  {
   "cell_type": "markdown",
   "id": "e28712aa-990d-4507-9955-21b39a6f3a0b",
   "metadata": {},
   "source": [
    "We define the search space for hyperparameter tuning:"
   ]
  },
  {
   "cell_type": "code",
   "execution_count": 59,
   "id": "ca6fcfb5-6c2d-43eb-a181-8c2d2b5c50ed",
   "metadata": {},
   "outputs": [],
   "source": [
    "hyperparameters_rf = {\n",
    "    'n_estimators': [100, 120, 140, 300],\n",
    "    'criterion': ['gini', 'entropy', 'log_loss'],\n",
    "    'min_samples_leaf': randint(1, 10),\n",
    "    'max_features': ['sqrt', None],\n",
    "    'max_samples': uniform(0.1, 0.9)\n",
    "}"
   ]
  },
  {
   "cell_type": "markdown",
   "id": "36d81895-fa5d-40b1-beee-d6b0253e7ec4",
   "metadata": {},
   "source": [
    "To tune the hyperparameters of the Random Forest model, the `RandomizedSearchCV` class will be used. We set the the number of combinations to try (n_iter) to `50` and the number of cross valdiation folds to `7`."
   ]
  },
  {
   "cell_type": "code",
   "execution_count": 60,
   "id": "da3f69fe-8aa8-4679-96ac-8e375e60a78e",
   "metadata": {},
   "outputs": [],
   "source": [
    "rsr = RandomizedSearchCV(estimator=rfc, param_distributions=hyperparameters_rf, n_iter=50, cv=7, random_state=42)"
   ]
  },
  {
   "cell_type": "markdown",
   "id": "ae01dfea-0c8c-49a1-88de-9c1f3e7c3206",
   "metadata": {},
   "source": [
    "The models are then trained on the training data to produce the best hyperparameters."
   ]
  },
  {
   "cell_type": "code",
   "execution_count": 61,
   "id": "77ac2f06-ec37-4985-a85c-147278cc2e8b",
   "metadata": {
    "scrolled": true
   },
   "outputs": [
    {
     "data": {
      "text/html": [
       "<style>#sk-container-id-4 {color: black;}#sk-container-id-4 pre{padding: 0;}#sk-container-id-4 div.sk-toggleable {background-color: white;}#sk-container-id-4 label.sk-toggleable__label {cursor: pointer;display: block;width: 100%;margin-bottom: 0;padding: 0.3em;box-sizing: border-box;text-align: center;}#sk-container-id-4 label.sk-toggleable__label-arrow:before {content: \"▸\";float: left;margin-right: 0.25em;color: #696969;}#sk-container-id-4 label.sk-toggleable__label-arrow:hover:before {color: black;}#sk-container-id-4 div.sk-estimator:hover label.sk-toggleable__label-arrow:before {color: black;}#sk-container-id-4 div.sk-toggleable__content {max-height: 0;max-width: 0;overflow: hidden;text-align: left;background-color: #f0f8ff;}#sk-container-id-4 div.sk-toggleable__content pre {margin: 0.2em;color: black;border-radius: 0.25em;background-color: #f0f8ff;}#sk-container-id-4 input.sk-toggleable__control:checked~div.sk-toggleable__content {max-height: 200px;max-width: 100%;overflow: auto;}#sk-container-id-4 input.sk-toggleable__control:checked~label.sk-toggleable__label-arrow:before {content: \"▾\";}#sk-container-id-4 div.sk-estimator input.sk-toggleable__control:checked~label.sk-toggleable__label {background-color: #d4ebff;}#sk-container-id-4 div.sk-label input.sk-toggleable__control:checked~label.sk-toggleable__label {background-color: #d4ebff;}#sk-container-id-4 input.sk-hidden--visually {border: 0;clip: rect(1px 1px 1px 1px);clip: rect(1px, 1px, 1px, 1px);height: 1px;margin: -1px;overflow: hidden;padding: 0;position: absolute;width: 1px;}#sk-container-id-4 div.sk-estimator {font-family: monospace;background-color: #f0f8ff;border: 1px dotted black;border-radius: 0.25em;box-sizing: border-box;margin-bottom: 0.5em;}#sk-container-id-4 div.sk-estimator:hover {background-color: #d4ebff;}#sk-container-id-4 div.sk-parallel-item::after {content: \"\";width: 100%;border-bottom: 1px solid gray;flex-grow: 1;}#sk-container-id-4 div.sk-label:hover label.sk-toggleable__label {background-color: #d4ebff;}#sk-container-id-4 div.sk-serial::before {content: \"\";position: absolute;border-left: 1px solid gray;box-sizing: border-box;top: 0;bottom: 0;left: 50%;z-index: 0;}#sk-container-id-4 div.sk-serial {display: flex;flex-direction: column;align-items: center;background-color: white;padding-right: 0.2em;padding-left: 0.2em;position: relative;}#sk-container-id-4 div.sk-item {position: relative;z-index: 1;}#sk-container-id-4 div.sk-parallel {display: flex;align-items: stretch;justify-content: center;background-color: white;position: relative;}#sk-container-id-4 div.sk-item::before, #sk-container-id-4 div.sk-parallel-item::before {content: \"\";position: absolute;border-left: 1px solid gray;box-sizing: border-box;top: 0;bottom: 0;left: 50%;z-index: -1;}#sk-container-id-4 div.sk-parallel-item {display: flex;flex-direction: column;z-index: 1;position: relative;background-color: white;}#sk-container-id-4 div.sk-parallel-item:first-child::after {align-self: flex-end;width: 50%;}#sk-container-id-4 div.sk-parallel-item:last-child::after {align-self: flex-start;width: 50%;}#sk-container-id-4 div.sk-parallel-item:only-child::after {width: 0;}#sk-container-id-4 div.sk-dashed-wrapped {border: 1px dashed gray;margin: 0 0.4em 0.5em 0.4em;box-sizing: border-box;padding-bottom: 0.4em;background-color: white;}#sk-container-id-4 div.sk-label label {font-family: monospace;font-weight: bold;display: inline-block;line-height: 1.2em;}#sk-container-id-4 div.sk-label-container {text-align: center;}#sk-container-id-4 div.sk-container {/* jupyter's `normalize.less` sets `[hidden] { display: none; }` but bootstrap.min.css set `[hidden] { display: none !important; }` so we also need the `!important` here to be able to override the default hidden behavior on the sphinx rendered scikit-learn.org. See: https://github.com/scikit-learn/scikit-learn/issues/21755 */display: inline-block !important;position: relative;}#sk-container-id-4 div.sk-text-repr-fallback {display: none;}</style><div id=\"sk-container-id-4\" class=\"sk-top-container\"><div class=\"sk-text-repr-fallback\"><pre>RandomizedSearchCV(cv=7,\n",
       "                   estimator=RandomForestClassifier(n_jobs=-1, random_state=42),\n",
       "                   n_iter=50,\n",
       "                   param_distributions={&#x27;criterion&#x27;: [&#x27;gini&#x27;, &#x27;entropy&#x27;,\n",
       "                                                      &#x27;log_loss&#x27;],\n",
       "                                        &#x27;max_features&#x27;: [&#x27;sqrt&#x27;, None],\n",
       "                                        &#x27;max_samples&#x27;: &lt;scipy.stats._distn_infrastructure.rv_frozen object at 0x000002C9035A5D90&gt;,\n",
       "                                        &#x27;min_samples_leaf&#x27;: &lt;scipy.stats._distn_infrastructure.rv_frozen object at 0x000002C903810EB0&gt;,\n",
       "                                        &#x27;n_estimators&#x27;: [100, 120, 140, 300]},\n",
       "                   random_state=42)</pre><b>In a Jupyter environment, please rerun this cell to show the HTML representation or trust the notebook. <br />On GitHub, the HTML representation is unable to render, please try loading this page with nbviewer.org.</b></div><div class=\"sk-container\" hidden><div class=\"sk-item sk-dashed-wrapped\"><div class=\"sk-label-container\"><div class=\"sk-label sk-toggleable\"><input class=\"sk-toggleable__control sk-hidden--visually\" id=\"sk-estimator-id-6\" type=\"checkbox\" ><label for=\"sk-estimator-id-6\" class=\"sk-toggleable__label sk-toggleable__label-arrow\">RandomizedSearchCV</label><div class=\"sk-toggleable__content\"><pre>RandomizedSearchCV(cv=7,\n",
       "                   estimator=RandomForestClassifier(n_jobs=-1, random_state=42),\n",
       "                   n_iter=50,\n",
       "                   param_distributions={&#x27;criterion&#x27;: [&#x27;gini&#x27;, &#x27;entropy&#x27;,\n",
       "                                                      &#x27;log_loss&#x27;],\n",
       "                                        &#x27;max_features&#x27;: [&#x27;sqrt&#x27;, None],\n",
       "                                        &#x27;max_samples&#x27;: &lt;scipy.stats._distn_infrastructure.rv_frozen object at 0x000002C9035A5D90&gt;,\n",
       "                                        &#x27;min_samples_leaf&#x27;: &lt;scipy.stats._distn_infrastructure.rv_frozen object at 0x000002C903810EB0&gt;,\n",
       "                                        &#x27;n_estimators&#x27;: [100, 120, 140, 300]},\n",
       "                   random_state=42)</pre></div></div></div><div class=\"sk-parallel\"><div class=\"sk-parallel-item\"><div class=\"sk-item\"><div class=\"sk-label-container\"><div class=\"sk-label sk-toggleable\"><input class=\"sk-toggleable__control sk-hidden--visually\" id=\"sk-estimator-id-7\" type=\"checkbox\" ><label for=\"sk-estimator-id-7\" class=\"sk-toggleable__label sk-toggleable__label-arrow\">estimator: RandomForestClassifier</label><div class=\"sk-toggleable__content\"><pre>RandomForestClassifier(n_jobs=-1, random_state=42)</pre></div></div></div><div class=\"sk-serial\"><div class=\"sk-item\"><div class=\"sk-estimator sk-toggleable\"><input class=\"sk-toggleable__control sk-hidden--visually\" id=\"sk-estimator-id-8\" type=\"checkbox\" ><label for=\"sk-estimator-id-8\" class=\"sk-toggleable__label sk-toggleable__label-arrow\">RandomForestClassifier</label><div class=\"sk-toggleable__content\"><pre>RandomForestClassifier(n_jobs=-1, random_state=42)</pre></div></div></div></div></div></div></div></div></div></div>"
      ],
      "text/plain": [
       "RandomizedSearchCV(cv=7,\n",
       "                   estimator=RandomForestClassifier(n_jobs=-1, random_state=42),\n",
       "                   n_iter=50,\n",
       "                   param_distributions={'criterion': ['gini', 'entropy',\n",
       "                                                      'log_loss'],\n",
       "                                        'max_features': ['sqrt', None],\n",
       "                                        'max_samples': <scipy.stats._distn_infrastructure.rv_frozen object at 0x000002C9035A5D90>,\n",
       "                                        'min_samples_leaf': <scipy.stats._distn_infrastructure.rv_frozen object at 0x000002C903810EB0>,\n",
       "                                        'n_estimators': [100, 120, 140, 300]},\n",
       "                   random_state=42)"
      ]
     },
     "execution_count": 61,
     "metadata": {},
     "output_type": "execute_result"
    }
   ],
   "source": [
    "rsr.fit(X_train, y_train)"
   ]
  },
  {
   "cell_type": "code",
   "execution_count": 62,
   "id": "bdcb47aa-6876-4ebd-b9a7-6636ac263f17",
   "metadata": {},
   "outputs": [
    {
     "data": {
      "text/plain": [
       "{'criterion': 'log_loss',\n",
       " 'max_features': 'sqrt',\n",
       " 'max_samples': 0.725306439735734,\n",
       " 'min_samples_leaf': 2,\n",
       " 'n_estimators': 120}"
      ]
     },
     "execution_count": 62,
     "metadata": {},
     "output_type": "execute_result"
    }
   ],
   "source": [
    "hyperparameters_rf_best = rsr.best_params_\n",
    "hyperparameters_rf_best"
   ]
  },
  {
   "cell_type": "markdown",
   "id": "4cb7facb-9f18-454e-814a-e88001f3ccd8",
   "metadata": {},
   "source": [
    "Based on these hyperparameters, we can access the best estimator using these identified hyperparameters as well as its feature importances."
   ]
  },
  {
   "cell_type": "code",
   "execution_count": 63,
   "id": "e1d12e42-73c1-4897-86a2-8b93e1b7173a",
   "metadata": {},
   "outputs": [
    {
     "data": {
      "text/html": [
       "<div>\n",
       "<style scoped>\n",
       "    .dataframe tbody tr th:only-of-type {\n",
       "        vertical-align: middle;\n",
       "    }\n",
       "\n",
       "    .dataframe tbody tr th {\n",
       "        vertical-align: top;\n",
       "    }\n",
       "\n",
       "    .dataframe thead th {\n",
       "        text-align: right;\n",
       "    }\n",
       "</style>\n",
       "<table border=\"1\" class=\"dataframe\">\n",
       "  <thead>\n",
       "    <tr style=\"text-align: right;\">\n",
       "      <th></th>\n",
       "      <th>importance</th>\n",
       "    </tr>\n",
       "  </thead>\n",
       "  <tbody>\n",
       "    <tr>\n",
       "      <th>home_on_target</th>\n",
       "      <td>0.185931</td>\n",
       "    </tr>\n",
       "    <tr>\n",
       "      <th>away_on_target</th>\n",
       "      <td>0.177006</td>\n",
       "    </tr>\n",
       "    <tr>\n",
       "      <th>current_minute</th>\n",
       "      <td>0.078129</td>\n",
       "    </tr>\n",
       "    <tr>\n",
       "      <th>home_attacks</th>\n",
       "      <td>0.066965</td>\n",
       "    </tr>\n",
       "    <tr>\n",
       "      <th>away_attacks</th>\n",
       "      <td>0.066869</td>\n",
       "    </tr>\n",
       "    <tr>\n",
       "      <th>away_dangerous_attacks</th>\n",
       "      <td>0.064793</td>\n",
       "    </tr>\n",
       "    <tr>\n",
       "      <th>home_dangerous_attacks</th>\n",
       "      <td>0.064610</td>\n",
       "    </tr>\n",
       "    <tr>\n",
       "      <th>away_possession</th>\n",
       "      <td>0.049333</td>\n",
       "    </tr>\n",
       "    <tr>\n",
       "      <th>home_possession</th>\n",
       "      <td>0.046679</td>\n",
       "    </tr>\n",
       "    <tr>\n",
       "      <th>home_off_target</th>\n",
       "      <td>0.040480</td>\n",
       "    </tr>\n",
       "    <tr>\n",
       "      <th>away_off_target</th>\n",
       "      <td>0.039971</td>\n",
       "    </tr>\n",
       "    <tr>\n",
       "      <th>home_corners</th>\n",
       "      <td>0.037776</td>\n",
       "    </tr>\n",
       "    <tr>\n",
       "      <th>away_corners</th>\n",
       "      <td>0.035664</td>\n",
       "    </tr>\n",
       "    <tr>\n",
       "      <th>away_yellow_cards</th>\n",
       "      <td>0.021821</td>\n",
       "    </tr>\n",
       "    <tr>\n",
       "      <th>home_yellow_cards</th>\n",
       "      <td>0.020501</td>\n",
       "    </tr>\n",
       "    <tr>\n",
       "      <th>away_red_cards</th>\n",
       "      <td>0.002569</td>\n",
       "    </tr>\n",
       "    <tr>\n",
       "      <th>home_red_cards</th>\n",
       "      <td>0.000902</td>\n",
       "    </tr>\n",
       "  </tbody>\n",
       "</table>\n",
       "</div>"
      ],
      "text/plain": [
       "                        importance\n",
       "home_on_target            0.185931\n",
       "away_on_target            0.177006\n",
       "current_minute            0.078129\n",
       "home_attacks              0.066965\n",
       "away_attacks              0.066869\n",
       "away_dangerous_attacks    0.064793\n",
       "home_dangerous_attacks    0.064610\n",
       "away_possession           0.049333\n",
       "home_possession           0.046679\n",
       "home_off_target           0.040480\n",
       "away_off_target           0.039971\n",
       "home_corners              0.037776\n",
       "away_corners              0.035664\n",
       "away_yellow_cards         0.021821\n",
       "home_yellow_cards         0.020501\n",
       "away_red_cards            0.002569\n",
       "home_red_cards            0.000902"
      ]
     },
     "execution_count": 63,
     "metadata": {},
     "output_type": "execute_result"
    }
   ],
   "source": [
    "best_estimator_rf = rsr.best_estimator_\n",
    "\n",
    "feature_importance = best_estimator_rf.feature_importances_\n",
    "df_rfc_importance = pd.DataFrame(data=feature_importance, index=rf_data.drop([\"target\"], axis=1).columns, columns=[\"importance\"])\n",
    "df_rfc_importance.sort_values(by=\"importance\", ascending=False)"
   ]
  },
  {
   "cell_type": "markdown",
   "id": "1e086061-b164-4c72-b6c2-9e39bd1461c6",
   "metadata": {},
   "source": [
    "This shows that the 3 most important features are `home_on_target`, `current_minute`, and `away_on_target` while the 3 least important features are `home_yellow_cards`, `away_red_cards`, `home_red_cards`."
   ]
  },
  {
   "cell_type": "markdown",
   "id": "695b3c11-8444-4a71-a9c4-16ee60e4c8f1",
   "metadata": {},
   "source": [
    "Here are the relevant results and metrics from each iteration of random combinations."
   ]
  },
  {
   "cell_type": "code",
   "execution_count": 64,
   "id": "c03d41a6-a556-46ec-9f35-0722da13f15a",
   "metadata": {
    "scrolled": true
   },
   "outputs": [
    {
     "data": {
      "text/html": [
       "<div>\n",
       "<style scoped>\n",
       "    .dataframe tbody tr th:only-of-type {\n",
       "        vertical-align: middle;\n",
       "    }\n",
       "\n",
       "    .dataframe tbody tr th {\n",
       "        vertical-align: top;\n",
       "    }\n",
       "\n",
       "    .dataframe thead th {\n",
       "        text-align: right;\n",
       "    }\n",
       "</style>\n",
       "<table border=\"1\" class=\"dataframe\">\n",
       "  <thead>\n",
       "    <tr style=\"text-align: right;\">\n",
       "      <th></th>\n",
       "      <th>mean_fit_time</th>\n",
       "      <th>std_fit_time</th>\n",
       "      <th>mean_score_time</th>\n",
       "      <th>std_score_time</th>\n",
       "      <th>param_criterion</th>\n",
       "      <th>param_max_features</th>\n",
       "      <th>param_max_samples</th>\n",
       "      <th>param_min_samples_leaf</th>\n",
       "      <th>param_n_estimators</th>\n",
       "      <th>params</th>\n",
       "      <th>split0_test_score</th>\n",
       "      <th>split1_test_score</th>\n",
       "      <th>split2_test_score</th>\n",
       "      <th>split3_test_score</th>\n",
       "      <th>split4_test_score</th>\n",
       "      <th>split5_test_score</th>\n",
       "      <th>split6_test_score</th>\n",
       "      <th>mean_test_score</th>\n",
       "      <th>std_test_score</th>\n",
       "      <th>rank_test_score</th>\n",
       "    </tr>\n",
       "  </thead>\n",
       "  <tbody>\n",
       "    <tr>\n",
       "      <th>29</th>\n",
       "      <td>0.233429</td>\n",
       "      <td>0.005068</td>\n",
       "      <td>0.032429</td>\n",
       "      <td>0.000495</td>\n",
       "      <td>log_loss</td>\n",
       "      <td>sqrt</td>\n",
       "      <td>0.725306</td>\n",
       "      <td>2</td>\n",
       "      <td>120</td>\n",
       "      <td>{'criterion': 'log_loss', 'max_features': 'sqr...</td>\n",
       "      <td>0.769596</td>\n",
       "      <td>0.788599</td>\n",
       "      <td>0.757720</td>\n",
       "      <td>0.786223</td>\n",
       "      <td>0.783848</td>\n",
       "      <td>0.800000</td>\n",
       "      <td>0.759524</td>\n",
       "      <td>0.777930</td>\n",
       "      <td>0.014743</td>\n",
       "      <td>1</td>\n",
       "    </tr>\n",
       "    <tr>\n",
       "      <th>32</th>\n",
       "      <td>0.205429</td>\n",
       "      <td>0.005628</td>\n",
       "      <td>0.032571</td>\n",
       "      <td>0.000729</td>\n",
       "      <td>gini</td>\n",
       "      <td>sqrt</td>\n",
       "      <td>0.916146</td>\n",
       "      <td>1</td>\n",
       "      <td>100</td>\n",
       "      <td>{'criterion': 'gini', 'max_features': 'sqrt', ...</td>\n",
       "      <td>0.767221</td>\n",
       "      <td>0.779097</td>\n",
       "      <td>0.752969</td>\n",
       "      <td>0.769596</td>\n",
       "      <td>0.795724</td>\n",
       "      <td>0.792857</td>\n",
       "      <td>0.771429</td>\n",
       "      <td>0.775556</td>\n",
       "      <td>0.013892</td>\n",
       "      <td>2</td>\n",
       "    </tr>\n",
       "    <tr>\n",
       "      <th>38</th>\n",
       "      <td>0.189000</td>\n",
       "      <td>0.000926</td>\n",
       "      <td>0.032715</td>\n",
       "      <td>0.000452</td>\n",
       "      <td>entropy</td>\n",
       "      <td>sqrt</td>\n",
       "      <td>0.547524</td>\n",
       "      <td>1</td>\n",
       "      <td>100</td>\n",
       "      <td>{'criterion': 'entropy', 'max_features': 'sqrt...</td>\n",
       "      <td>0.767221</td>\n",
       "      <td>0.790974</td>\n",
       "      <td>0.767221</td>\n",
       "      <td>0.779097</td>\n",
       "      <td>0.786223</td>\n",
       "      <td>0.783333</td>\n",
       "      <td>0.754762</td>\n",
       "      <td>0.775547</td>\n",
       "      <td>0.011928</td>\n",
       "      <td>3</td>\n",
       "    </tr>\n",
       "    <tr>\n",
       "      <th>45</th>\n",
       "      <td>0.203428</td>\n",
       "      <td>0.002260</td>\n",
       "      <td>0.032575</td>\n",
       "      <td>0.000497</td>\n",
       "      <td>entropy</td>\n",
       "      <td>sqrt</td>\n",
       "      <td>0.834789</td>\n",
       "      <td>1</td>\n",
       "      <td>100</td>\n",
       "      <td>{'criterion': 'entropy', 'max_features': 'sqrt...</td>\n",
       "      <td>0.774347</td>\n",
       "      <td>0.769596</td>\n",
       "      <td>0.752969</td>\n",
       "      <td>0.774347</td>\n",
       "      <td>0.795724</td>\n",
       "      <td>0.790476</td>\n",
       "      <td>0.764286</td>\n",
       "      <td>0.774535</td>\n",
       "      <td>0.013616</td>\n",
       "      <td>4</td>\n",
       "    </tr>\n",
       "    <tr>\n",
       "      <th>13</th>\n",
       "      <td>0.238401</td>\n",
       "      <td>0.006474</td>\n",
       "      <td>0.032573</td>\n",
       "      <td>0.000729</td>\n",
       "      <td>entropy</td>\n",
       "      <td>None</td>\n",
       "      <td>0.266369</td>\n",
       "      <td>2</td>\n",
       "      <td>120</td>\n",
       "      <td>{'criterion': 'entropy', 'max_features': None,...</td>\n",
       "      <td>0.771971</td>\n",
       "      <td>0.788599</td>\n",
       "      <td>0.755344</td>\n",
       "      <td>0.764846</td>\n",
       "      <td>0.781473</td>\n",
       "      <td>0.780952</td>\n",
       "      <td>0.766667</td>\n",
       "      <td>0.772836</td>\n",
       "      <td>0.010674</td>\n",
       "      <td>5</td>\n",
       "    </tr>\n",
       "    <tr>\n",
       "      <th>49</th>\n",
       "      <td>0.643857</td>\n",
       "      <td>0.007080</td>\n",
       "      <td>0.064715</td>\n",
       "      <td>0.000700</td>\n",
       "      <td>gini</td>\n",
       "      <td>None</td>\n",
       "      <td>0.448062</td>\n",
       "      <td>2</td>\n",
       "      <td>300</td>\n",
       "      <td>{'criterion': 'gini', 'max_features': None, 'm...</td>\n",
       "      <td>0.764846</td>\n",
       "      <td>0.779097</td>\n",
       "      <td>0.743468</td>\n",
       "      <td>0.776722</td>\n",
       "      <td>0.798100</td>\n",
       "      <td>0.778571</td>\n",
       "      <td>0.764286</td>\n",
       "      <td>0.772156</td>\n",
       "      <td>0.015683</td>\n",
       "      <td>6</td>\n",
       "    </tr>\n",
       "    <tr>\n",
       "      <th>44</th>\n",
       "      <td>0.302429</td>\n",
       "      <td>0.005233</td>\n",
       "      <td>0.032715</td>\n",
       "      <td>0.000453</td>\n",
       "      <td>entropy</td>\n",
       "      <td>None</td>\n",
       "      <td>0.523271</td>\n",
       "      <td>2</td>\n",
       "      <td>120</td>\n",
       "      <td>{'criterion': 'entropy', 'max_features': None,...</td>\n",
       "      <td>0.764846</td>\n",
       "      <td>0.795724</td>\n",
       "      <td>0.733967</td>\n",
       "      <td>0.771971</td>\n",
       "      <td>0.790974</td>\n",
       "      <td>0.773810</td>\n",
       "      <td>0.771429</td>\n",
       "      <td>0.771817</td>\n",
       "      <td>0.018609</td>\n",
       "      <td>7</td>\n",
       "    </tr>\n",
       "    <tr>\n",
       "      <th>43</th>\n",
       "      <td>0.250571</td>\n",
       "      <td>0.001400</td>\n",
       "      <td>0.032572</td>\n",
       "      <td>0.000903</td>\n",
       "      <td>log_loss</td>\n",
       "      <td>sqrt</td>\n",
       "      <td>0.432689</td>\n",
       "      <td>1</td>\n",
       "      <td>140</td>\n",
       "      <td>{'criterion': 'log_loss', 'max_features': 'sqr...</td>\n",
       "      <td>0.755344</td>\n",
       "      <td>0.783848</td>\n",
       "      <td>0.764846</td>\n",
       "      <td>0.760095</td>\n",
       "      <td>0.788599</td>\n",
       "      <td>0.780952</td>\n",
       "      <td>0.766667</td>\n",
       "      <td>0.771479</td>\n",
       "      <td>0.011910</td>\n",
       "      <td>8</td>\n",
       "    </tr>\n",
       "    <tr>\n",
       "      <th>11</th>\n",
       "      <td>0.474606</td>\n",
       "      <td>0.002852</td>\n",
       "      <td>0.064562</td>\n",
       "      <td>0.000740</td>\n",
       "      <td>gini</td>\n",
       "      <td>None</td>\n",
       "      <td>0.13095</td>\n",
       "      <td>1</td>\n",
       "      <td>300</td>\n",
       "      <td>{'criterion': 'gini', 'max_features': None, 'm...</td>\n",
       "      <td>0.767221</td>\n",
       "      <td>0.774347</td>\n",
       "      <td>0.755344</td>\n",
       "      <td>0.767221</td>\n",
       "      <td>0.795724</td>\n",
       "      <td>0.780952</td>\n",
       "      <td>0.759524</td>\n",
       "      <td>0.771476</td>\n",
       "      <td>0.012679</td>\n",
       "      <td>9</td>\n",
       "    </tr>\n",
       "    <tr>\n",
       "      <th>20</th>\n",
       "      <td>0.220428</td>\n",
       "      <td>0.001179</td>\n",
       "      <td>0.032144</td>\n",
       "      <td>0.001246</td>\n",
       "      <td>log_loss</td>\n",
       "      <td>sqrt</td>\n",
       "      <td>0.794143</td>\n",
       "      <td>5</td>\n",
       "      <td>120</td>\n",
       "      <td>{'criterion': 'log_loss', 'max_features': 'sqr...</td>\n",
       "      <td>0.750594</td>\n",
       "      <td>0.776722</td>\n",
       "      <td>0.760095</td>\n",
       "      <td>0.767221</td>\n",
       "      <td>0.788599</td>\n",
       "      <td>0.792857</td>\n",
       "      <td>0.761905</td>\n",
       "      <td>0.771142</td>\n",
       "      <td>0.014404</td>\n",
       "      <td>10</td>\n",
       "    </tr>\n",
       "    <tr>\n",
       "      <th>19</th>\n",
       "      <td>0.210000</td>\n",
       "      <td>0.006187</td>\n",
       "      <td>0.031715</td>\n",
       "      <td>0.000700</td>\n",
       "      <td>gini</td>\n",
       "      <td>None</td>\n",
       "      <td>0.364139</td>\n",
       "      <td>3</td>\n",
       "      <td>100</td>\n",
       "      <td>{'criterion': 'gini', 'max_features': None, 'm...</td>\n",
       "      <td>0.752969</td>\n",
       "      <td>0.781473</td>\n",
       "      <td>0.762470</td>\n",
       "      <td>0.786223</td>\n",
       "      <td>0.786223</td>\n",
       "      <td>0.773810</td>\n",
       "      <td>0.754762</td>\n",
       "      <td>0.771133</td>\n",
       "      <td>0.013323</td>\n",
       "      <td>11</td>\n",
       "    </tr>\n",
       "    <tr>\n",
       "      <th>12</th>\n",
       "      <td>0.283569</td>\n",
       "      <td>0.001049</td>\n",
       "      <td>0.032859</td>\n",
       "      <td>0.000350</td>\n",
       "      <td>entropy</td>\n",
       "      <td>None</td>\n",
       "      <td>0.779825</td>\n",
       "      <td>6</td>\n",
       "      <td>120</td>\n",
       "      <td>{'criterion': 'entropy', 'max_features': None,...</td>\n",
       "      <td>0.743468</td>\n",
       "      <td>0.790974</td>\n",
       "      <td>0.745843</td>\n",
       "      <td>0.779097</td>\n",
       "      <td>0.783848</td>\n",
       "      <td>0.780952</td>\n",
       "      <td>0.766667</td>\n",
       "      <td>0.770121</td>\n",
       "      <td>0.017456</td>\n",
       "      <td>12</td>\n",
       "    </tr>\n",
       "    <tr>\n",
       "      <th>7</th>\n",
       "      <td>0.259715</td>\n",
       "      <td>0.008242</td>\n",
       "      <td>0.032572</td>\n",
       "      <td>0.000904</td>\n",
       "      <td>log_loss</td>\n",
       "      <td>None</td>\n",
       "      <td>0.633173</td>\n",
       "      <td>3</td>\n",
       "      <td>100</td>\n",
       "      <td>{'criterion': 'log_loss', 'max_features': None...</td>\n",
       "      <td>0.752969</td>\n",
       "      <td>0.783848</td>\n",
       "      <td>0.736342</td>\n",
       "      <td>0.786223</td>\n",
       "      <td>0.786223</td>\n",
       "      <td>0.780952</td>\n",
       "      <td>0.764286</td>\n",
       "      <td>0.770121</td>\n",
       "      <td>0.018101</td>\n",
       "      <td>13</td>\n",
       "    </tr>\n",
       "    <tr>\n",
       "      <th>30</th>\n",
       "      <td>0.655572</td>\n",
       "      <td>0.014322</td>\n",
       "      <td>0.066715</td>\n",
       "      <td>0.006362</td>\n",
       "      <td>gini</td>\n",
       "      <td>None</td>\n",
       "      <td>0.670063</td>\n",
       "      <td>6</td>\n",
       "      <td>300</td>\n",
       "      <td>{'criterion': 'gini', 'max_features': None, 'm...</td>\n",
       "      <td>0.760095</td>\n",
       "      <td>0.788599</td>\n",
       "      <td>0.741093</td>\n",
       "      <td>0.771971</td>\n",
       "      <td>0.793349</td>\n",
       "      <td>0.771429</td>\n",
       "      <td>0.764286</td>\n",
       "      <td>0.770117</td>\n",
       "      <td>0.016315</td>\n",
       "      <td>14</td>\n",
       "    </tr>\n",
       "    <tr>\n",
       "      <th>6</th>\n",
       "      <td>0.488175</td>\n",
       "      <td>0.006947</td>\n",
       "      <td>0.064113</td>\n",
       "      <td>0.000467</td>\n",
       "      <td>log_loss</td>\n",
       "      <td>sqrt</td>\n",
       "      <td>0.459875</td>\n",
       "      <td>3</td>\n",
       "      <td>300</td>\n",
       "      <td>{'criterion': 'log_loss', 'max_features': 'sqr...</td>\n",
       "      <td>0.750594</td>\n",
       "      <td>0.776722</td>\n",
       "      <td>0.764846</td>\n",
       "      <td>0.762470</td>\n",
       "      <td>0.788599</td>\n",
       "      <td>0.788095</td>\n",
       "      <td>0.757143</td>\n",
       "      <td>0.769781</td>\n",
       "      <td>0.013853</td>\n",
       "      <td>15</td>\n",
       "    </tr>\n",
       "    <tr>\n",
       "      <th>24</th>\n",
       "      <td>0.178858</td>\n",
       "      <td>0.006937</td>\n",
       "      <td>0.032286</td>\n",
       "      <td>0.001031</td>\n",
       "      <td>log_loss</td>\n",
       "      <td>sqrt</td>\n",
       "      <td>0.444634</td>\n",
       "      <td>3</td>\n",
       "      <td>100</td>\n",
       "      <td>{'criterion': 'log_loss', 'max_features': 'sqr...</td>\n",
       "      <td>0.750594</td>\n",
       "      <td>0.764846</td>\n",
       "      <td>0.769596</td>\n",
       "      <td>0.769596</td>\n",
       "      <td>0.795724</td>\n",
       "      <td>0.797619</td>\n",
       "      <td>0.740476</td>\n",
       "      <td>0.769779</td>\n",
       "      <td>0.019637</td>\n",
       "      <td>16</td>\n",
       "    </tr>\n",
       "    <tr>\n",
       "      <th>1</th>\n",
       "      <td>0.226291</td>\n",
       "      <td>0.008025</td>\n",
       "      <td>0.032699</td>\n",
       "      <td>0.000354</td>\n",
       "      <td>gini</td>\n",
       "      <td>sqrt</td>\n",
       "      <td>0.501249</td>\n",
       "      <td>7</td>\n",
       "      <td>140</td>\n",
       "      <td>{'criterion': 'gini', 'max_features': 'sqrt', ...</td>\n",
       "      <td>0.745843</td>\n",
       "      <td>0.771971</td>\n",
       "      <td>0.774347</td>\n",
       "      <td>0.755344</td>\n",
       "      <td>0.781473</td>\n",
       "      <td>0.800000</td>\n",
       "      <td>0.754762</td>\n",
       "      <td>0.769106</td>\n",
       "      <td>0.017235</td>\n",
       "      <td>17</td>\n",
       "    </tr>\n",
       "    <tr>\n",
       "      <th>42</th>\n",
       "      <td>0.641143</td>\n",
       "      <td>0.006979</td>\n",
       "      <td>0.063858</td>\n",
       "      <td>0.001245</td>\n",
       "      <td>entropy</td>\n",
       "      <td>None</td>\n",
       "      <td>0.597604</td>\n",
       "      <td>7</td>\n",
       "      <td>300</td>\n",
       "      <td>{'criterion': 'entropy', 'max_features': None,...</td>\n",
       "      <td>0.752969</td>\n",
       "      <td>0.776722</td>\n",
       "      <td>0.748219</td>\n",
       "      <td>0.776722</td>\n",
       "      <td>0.793349</td>\n",
       "      <td>0.766667</td>\n",
       "      <td>0.761905</td>\n",
       "      <td>0.768079</td>\n",
       "      <td>0.014397</td>\n",
       "      <td>18</td>\n",
       "    </tr>\n",
       "    <tr>\n",
       "      <th>27</th>\n",
       "      <td>0.205286</td>\n",
       "      <td>0.001161</td>\n",
       "      <td>0.032429</td>\n",
       "      <td>0.001050</td>\n",
       "      <td>log_loss</td>\n",
       "      <td>sqrt</td>\n",
       "      <td>0.38292</td>\n",
       "      <td>4</td>\n",
       "      <td>120</td>\n",
       "      <td>{'criterion': 'log_loss', 'max_features': 'sqr...</td>\n",
       "      <td>0.738717</td>\n",
       "      <td>0.781473</td>\n",
       "      <td>0.771971</td>\n",
       "      <td>0.757720</td>\n",
       "      <td>0.776722</td>\n",
       "      <td>0.792857</td>\n",
       "      <td>0.752381</td>\n",
       "      <td>0.767406</td>\n",
       "      <td>0.017304</td>\n",
       "      <td>19</td>\n",
       "    </tr>\n",
       "    <tr>\n",
       "      <th>48</th>\n",
       "      <td>0.252158</td>\n",
       "      <td>0.001124</td>\n",
       "      <td>0.032859</td>\n",
       "      <td>0.000350</td>\n",
       "      <td>log_loss</td>\n",
       "      <td>None</td>\n",
       "      <td>0.680656</td>\n",
       "      <td>4</td>\n",
       "      <td>100</td>\n",
       "      <td>{'criterion': 'log_loss', 'max_features': None...</td>\n",
       "      <td>0.750594</td>\n",
       "      <td>0.798100</td>\n",
       "      <td>0.726841</td>\n",
       "      <td>0.779097</td>\n",
       "      <td>0.781473</td>\n",
       "      <td>0.778571</td>\n",
       "      <td>0.757143</td>\n",
       "      <td>0.767403</td>\n",
       "      <td>0.022152</td>\n",
       "      <td>20</td>\n",
       "    </tr>\n",
       "    <tr>\n",
       "      <th>31</th>\n",
       "      <td>0.667429</td>\n",
       "      <td>0.016500</td>\n",
       "      <td>0.064428</td>\n",
       "      <td>0.001048</td>\n",
       "      <td>entropy</td>\n",
       "      <td>None</td>\n",
       "      <td>0.585408</td>\n",
       "      <td>7</td>\n",
       "      <td>300</td>\n",
       "      <td>{'criterion': 'entropy', 'max_features': None,...</td>\n",
       "      <td>0.750594</td>\n",
       "      <td>0.771971</td>\n",
       "      <td>0.750594</td>\n",
       "      <td>0.774347</td>\n",
       "      <td>0.798100</td>\n",
       "      <td>0.766667</td>\n",
       "      <td>0.759524</td>\n",
       "      <td>0.767399</td>\n",
       "      <td>0.015302</td>\n",
       "      <td>21</td>\n",
       "    </tr>\n",
       "    <tr>\n",
       "      <th>28</th>\n",
       "      <td>0.179429</td>\n",
       "      <td>0.007247</td>\n",
       "      <td>0.032857</td>\n",
       "      <td>0.000639</td>\n",
       "      <td>gini</td>\n",
       "      <td>sqrt</td>\n",
       "      <td>0.643976</td>\n",
       "      <td>4</td>\n",
       "      <td>100</td>\n",
       "      <td>{'criterion': 'gini', 'max_features': 'sqrt', ...</td>\n",
       "      <td>0.733967</td>\n",
       "      <td>0.774347</td>\n",
       "      <td>0.769596</td>\n",
       "      <td>0.762470</td>\n",
       "      <td>0.776722</td>\n",
       "      <td>0.795238</td>\n",
       "      <td>0.757143</td>\n",
       "      <td>0.767069</td>\n",
       "      <td>0.017572</td>\n",
       "      <td>22</td>\n",
       "    </tr>\n",
       "    <tr>\n",
       "      <th>40</th>\n",
       "      <td>0.474000</td>\n",
       "      <td>0.008384</td>\n",
       "      <td>0.064144</td>\n",
       "      <td>0.000990</td>\n",
       "      <td>entropy</td>\n",
       "      <td>None</td>\n",
       "      <td>0.146331</td>\n",
       "      <td>5</td>\n",
       "      <td>300</td>\n",
       "      <td>{'criterion': 'entropy', 'max_features': None,...</td>\n",
       "      <td>0.748219</td>\n",
       "      <td>0.764846</td>\n",
       "      <td>0.757720</td>\n",
       "      <td>0.767221</td>\n",
       "      <td>0.788599</td>\n",
       "      <td>0.780952</td>\n",
       "      <td>0.761905</td>\n",
       "      <td>0.767066</td>\n",
       "      <td>0.012709</td>\n",
       "      <td>23</td>\n",
       "    </tr>\n",
       "    <tr>\n",
       "      <th>16</th>\n",
       "      <td>0.254143</td>\n",
       "      <td>0.009731</td>\n",
       "      <td>0.032429</td>\n",
       "      <td>0.000729</td>\n",
       "      <td>gini</td>\n",
       "      <td>None</td>\n",
       "      <td>0.585723</td>\n",
       "      <td>8</td>\n",
       "      <td>120</td>\n",
       "      <td>{'criterion': 'gini', 'max_features': None, 'm...</td>\n",
       "      <td>0.748219</td>\n",
       "      <td>0.774347</td>\n",
       "      <td>0.757720</td>\n",
       "      <td>0.769596</td>\n",
       "      <td>0.783848</td>\n",
       "      <td>0.780952</td>\n",
       "      <td>0.754762</td>\n",
       "      <td>0.767063</td>\n",
       "      <td>0.012693</td>\n",
       "      <td>24</td>\n",
       "    </tr>\n",
       "    <tr>\n",
       "      <th>10</th>\n",
       "      <td>0.632713</td>\n",
       "      <td>0.009036</td>\n",
       "      <td>0.064921</td>\n",
       "      <td>0.000580</td>\n",
       "      <td>gini</td>\n",
       "      <td>None</td>\n",
       "      <td>0.71581</td>\n",
       "      <td>7</td>\n",
       "      <td>300</td>\n",
       "      <td>{'criterion': 'gini', 'max_features': None, 'm...</td>\n",
       "      <td>0.755344</td>\n",
       "      <td>0.783848</td>\n",
       "      <td>0.741093</td>\n",
       "      <td>0.774347</td>\n",
       "      <td>0.790974</td>\n",
       "      <td>0.766667</td>\n",
       "      <td>0.757143</td>\n",
       "      <td>0.767059</td>\n",
       "      <td>0.016111</td>\n",
       "      <td>25</td>\n",
       "    </tr>\n",
       "    <tr>\n",
       "      <th>5</th>\n",
       "      <td>0.156359</td>\n",
       "      <td>0.000767</td>\n",
       "      <td>0.032387</td>\n",
       "      <td>0.000439</td>\n",
       "      <td>entropy</td>\n",
       "      <td>None</td>\n",
       "      <td>0.10636</td>\n",
       "      <td>9</td>\n",
       "      <td>100</td>\n",
       "      <td>{'criterion': 'entropy', 'max_features': None,...</td>\n",
       "      <td>0.736342</td>\n",
       "      <td>0.769596</td>\n",
       "      <td>0.757720</td>\n",
       "      <td>0.764846</td>\n",
       "      <td>0.776722</td>\n",
       "      <td>0.804762</td>\n",
       "      <td>0.757143</td>\n",
       "      <td>0.766733</td>\n",
       "      <td>0.019474</td>\n",
       "      <td>26</td>\n",
       "    </tr>\n",
       "    <tr>\n",
       "      <th>46</th>\n",
       "      <td>0.767075</td>\n",
       "      <td>0.013343</td>\n",
       "      <td>0.063721</td>\n",
       "      <td>0.000885</td>\n",
       "      <td>log_loss</td>\n",
       "      <td>None</td>\n",
       "      <td>0.726232</td>\n",
       "      <td>3</td>\n",
       "      <td>300</td>\n",
       "      <td>{'criterion': 'log_loss', 'max_features': None...</td>\n",
       "      <td>0.743468</td>\n",
       "      <td>0.790974</td>\n",
       "      <td>0.726841</td>\n",
       "      <td>0.776722</td>\n",
       "      <td>0.790974</td>\n",
       "      <td>0.776190</td>\n",
       "      <td>0.761905</td>\n",
       "      <td>0.766725</td>\n",
       "      <td>0.022426</td>\n",
       "      <td>27</td>\n",
       "    </tr>\n",
       "    <tr>\n",
       "      <th>26</th>\n",
       "      <td>0.234857</td>\n",
       "      <td>0.001726</td>\n",
       "      <td>0.041715</td>\n",
       "      <td>0.021770</td>\n",
       "      <td>gini</td>\n",
       "      <td>sqrt</td>\n",
       "      <td>0.484787</td>\n",
       "      <td>3</td>\n",
       "      <td>140</td>\n",
       "      <td>{'criterion': 'gini', 'max_features': 'sqrt', ...</td>\n",
       "      <td>0.752969</td>\n",
       "      <td>0.781473</td>\n",
       "      <td>0.757720</td>\n",
       "      <td>0.762470</td>\n",
       "      <td>0.779097</td>\n",
       "      <td>0.778571</td>\n",
       "      <td>0.754762</td>\n",
       "      <td>0.766723</td>\n",
       "      <td>0.011603</td>\n",
       "      <td>28</td>\n",
       "    </tr>\n",
       "    <tr>\n",
       "      <th>33</th>\n",
       "      <td>0.215715</td>\n",
       "      <td>0.006840</td>\n",
       "      <td>0.032429</td>\n",
       "      <td>0.000495</td>\n",
       "      <td>log_loss</td>\n",
       "      <td>None</td>\n",
       "      <td>0.100468</td>\n",
       "      <td>9</td>\n",
       "      <td>140</td>\n",
       "      <td>{'criterion': 'log_loss', 'max_features': None...</td>\n",
       "      <td>0.752969</td>\n",
       "      <td>0.767221</td>\n",
       "      <td>0.750594</td>\n",
       "      <td>0.748219</td>\n",
       "      <td>0.776722</td>\n",
       "      <td>0.807143</td>\n",
       "      <td>0.761905</td>\n",
       "      <td>0.766396</td>\n",
       "      <td>0.019080</td>\n",
       "      <td>29</td>\n",
       "    </tr>\n",
       "    <tr>\n",
       "      <th>34</th>\n",
       "      <td>0.248571</td>\n",
       "      <td>0.004866</td>\n",
       "      <td>0.032430</td>\n",
       "      <td>0.000495</td>\n",
       "      <td>log_loss</td>\n",
       "      <td>None</td>\n",
       "      <td>0.559673</td>\n",
       "      <td>9</td>\n",
       "      <td>120</td>\n",
       "      <td>{'criterion': 'log_loss', 'max_features': None...</td>\n",
       "      <td>0.748219</td>\n",
       "      <td>0.776722</td>\n",
       "      <td>0.750594</td>\n",
       "      <td>0.762470</td>\n",
       "      <td>0.790974</td>\n",
       "      <td>0.783333</td>\n",
       "      <td>0.750000</td>\n",
       "      <td>0.766045</td>\n",
       "      <td>0.016305</td>\n",
       "      <td>30</td>\n",
       "    </tr>\n",
       "    <tr>\n",
       "      <th>9</th>\n",
       "      <td>0.247572</td>\n",
       "      <td>0.006543</td>\n",
       "      <td>0.041286</td>\n",
       "      <td>0.021526</td>\n",
       "      <td>gini</td>\n",
       "      <td>None</td>\n",
       "      <td>0.606959</td>\n",
       "      <td>9</td>\n",
       "      <td>120</td>\n",
       "      <td>{'criterion': 'gini', 'max_features': None, 'm...</td>\n",
       "      <td>0.752969</td>\n",
       "      <td>0.774347</td>\n",
       "      <td>0.748219</td>\n",
       "      <td>0.764846</td>\n",
       "      <td>0.793349</td>\n",
       "      <td>0.776190</td>\n",
       "      <td>0.752381</td>\n",
       "      <td>0.766043</td>\n",
       "      <td>0.015092</td>\n",
       "      <td>31</td>\n",
       "    </tr>\n",
       "    <tr>\n",
       "      <th>17</th>\n",
       "      <td>0.223857</td>\n",
       "      <td>0.006833</td>\n",
       "      <td>0.032715</td>\n",
       "      <td>0.000451</td>\n",
       "      <td>gini</td>\n",
       "      <td>None</td>\n",
       "      <td>0.646331</td>\n",
       "      <td>9</td>\n",
       "      <td>100</td>\n",
       "      <td>{'criterion': 'gini', 'max_features': None, 'm...</td>\n",
       "      <td>0.743468</td>\n",
       "      <td>0.779097</td>\n",
       "      <td>0.748219</td>\n",
       "      <td>0.771971</td>\n",
       "      <td>0.793349</td>\n",
       "      <td>0.769048</td>\n",
       "      <td>0.757143</td>\n",
       "      <td>0.766042</td>\n",
       "      <td>0.016330</td>\n",
       "      <td>32</td>\n",
       "    </tr>\n",
       "    <tr>\n",
       "      <th>4</th>\n",
       "      <td>0.154861</td>\n",
       "      <td>0.002170</td>\n",
       "      <td>0.032054</td>\n",
       "      <td>0.000749</td>\n",
       "      <td>entropy</td>\n",
       "      <td>None</td>\n",
       "      <td>0.100701</td>\n",
       "      <td>5</td>\n",
       "      <td>100</td>\n",
       "      <td>{'criterion': 'entropy', 'max_features': None,...</td>\n",
       "      <td>0.752969</td>\n",
       "      <td>0.783848</td>\n",
       "      <td>0.750594</td>\n",
       "      <td>0.755344</td>\n",
       "      <td>0.762470</td>\n",
       "      <td>0.804762</td>\n",
       "      <td>0.750000</td>\n",
       "      <td>0.765713</td>\n",
       "      <td>0.019308</td>\n",
       "      <td>33</td>\n",
       "    </tr>\n",
       "    <tr>\n",
       "      <th>22</th>\n",
       "      <td>0.188429</td>\n",
       "      <td>0.001401</td>\n",
       "      <td>0.032287</td>\n",
       "      <td>0.000453</td>\n",
       "      <td>entropy</td>\n",
       "      <td>sqrt</td>\n",
       "      <td>0.157203</td>\n",
       "      <td>7</td>\n",
       "      <td>120</td>\n",
       "      <td>{'criterion': 'entropy', 'max_features': 'sqrt...</td>\n",
       "      <td>0.752969</td>\n",
       "      <td>0.774347</td>\n",
       "      <td>0.767221</td>\n",
       "      <td>0.738717</td>\n",
       "      <td>0.781473</td>\n",
       "      <td>0.807143</td>\n",
       "      <td>0.738095</td>\n",
       "      <td>0.765709</td>\n",
       "      <td>0.022977</td>\n",
       "      <td>34</td>\n",
       "    </tr>\n",
       "    <tr>\n",
       "      <th>0</th>\n",
       "      <td>0.252569</td>\n",
       "      <td>0.007836</td>\n",
       "      <td>0.032147</td>\n",
       "      <td>0.000637</td>\n",
       "      <td>log_loss</td>\n",
       "      <td>None</td>\n",
       "      <td>0.955643</td>\n",
       "      <td>8</td>\n",
       "      <td>100</td>\n",
       "      <td>{'criterion': 'log_loss', 'max_features': None...</td>\n",
       "      <td>0.745843</td>\n",
       "      <td>0.783848</td>\n",
       "      <td>0.738717</td>\n",
       "      <td>0.767221</td>\n",
       "      <td>0.774347</td>\n",
       "      <td>0.776190</td>\n",
       "      <td>0.771429</td>\n",
       "      <td>0.765371</td>\n",
       "      <td>0.015450</td>\n",
       "      <td>35</td>\n",
       "    </tr>\n",
       "    <tr>\n",
       "      <th>14</th>\n",
       "      <td>0.292570</td>\n",
       "      <td>0.007799</td>\n",
       "      <td>0.032715</td>\n",
       "      <td>0.000452</td>\n",
       "      <td>entropy</td>\n",
       "      <td>None</td>\n",
       "      <td>0.905345</td>\n",
       "      <td>8</td>\n",
       "      <td>120</td>\n",
       "      <td>{'criterion': 'entropy', 'max_features': None,...</td>\n",
       "      <td>0.752969</td>\n",
       "      <td>0.781473</td>\n",
       "      <td>0.741093</td>\n",
       "      <td>0.781473</td>\n",
       "      <td>0.776722</td>\n",
       "      <td>0.757143</td>\n",
       "      <td>0.766667</td>\n",
       "      <td>0.765363</td>\n",
       "      <td>0.014442</td>\n",
       "      <td>36</td>\n",
       "    </tr>\n",
       "    <tr>\n",
       "      <th>35</th>\n",
       "      <td>0.213714</td>\n",
       "      <td>0.007362</td>\n",
       "      <td>0.032859</td>\n",
       "      <td>0.000350</td>\n",
       "      <td>gini</td>\n",
       "      <td>sqrt</td>\n",
       "      <td>0.207879</td>\n",
       "      <td>8</td>\n",
       "      <td>140</td>\n",
       "      <td>{'criterion': 'gini', 'max_features': 'sqrt', ...</td>\n",
       "      <td>0.741093</td>\n",
       "      <td>0.769596</td>\n",
       "      <td>0.779097</td>\n",
       "      <td>0.738717</td>\n",
       "      <td>0.771971</td>\n",
       "      <td>0.807143</td>\n",
       "      <td>0.745238</td>\n",
       "      <td>0.764694</td>\n",
       "      <td>0.022980</td>\n",
       "      <td>37</td>\n",
       "    </tr>\n",
       "    <tr>\n",
       "      <th>18</th>\n",
       "      <td>0.160285</td>\n",
       "      <td>0.006519</td>\n",
       "      <td>0.032001</td>\n",
       "      <td>0.000535</td>\n",
       "      <td>log_loss</td>\n",
       "      <td>sqrt</td>\n",
       "      <td>0.167096</td>\n",
       "      <td>7</td>\n",
       "      <td>100</td>\n",
       "      <td>{'criterion': 'log_loss', 'max_features': 'sqr...</td>\n",
       "      <td>0.738717</td>\n",
       "      <td>0.774347</td>\n",
       "      <td>0.771971</td>\n",
       "      <td>0.748219</td>\n",
       "      <td>0.771971</td>\n",
       "      <td>0.802381</td>\n",
       "      <td>0.745238</td>\n",
       "      <td>0.764692</td>\n",
       "      <td>0.020508</td>\n",
       "      <td>38</td>\n",
       "    </tr>\n",
       "    <tr>\n",
       "      <th>47</th>\n",
       "      <td>0.222280</td>\n",
       "      <td>0.004264</td>\n",
       "      <td>0.032651</td>\n",
       "      <td>0.000421</td>\n",
       "      <td>log_loss</td>\n",
       "      <td>None</td>\n",
       "      <td>0.114929</td>\n",
       "      <td>3</td>\n",
       "      <td>140</td>\n",
       "      <td>{'criterion': 'log_loss', 'max_features': None...</td>\n",
       "      <td>0.733967</td>\n",
       "      <td>0.779097</td>\n",
       "      <td>0.748219</td>\n",
       "      <td>0.762470</td>\n",
       "      <td>0.781473</td>\n",
       "      <td>0.780952</td>\n",
       "      <td>0.766667</td>\n",
       "      <td>0.764692</td>\n",
       "      <td>0.016809</td>\n",
       "      <td>38</td>\n",
       "    </tr>\n",
       "    <tr>\n",
       "      <th>41</th>\n",
       "      <td>0.172714</td>\n",
       "      <td>0.000881</td>\n",
       "      <td>0.042002</td>\n",
       "      <td>0.022051</td>\n",
       "      <td>gini</td>\n",
       "      <td>sqrt</td>\n",
       "      <td>0.315606</td>\n",
       "      <td>2</td>\n",
       "      <td>100</td>\n",
       "      <td>{'criterion': 'gini', 'max_features': 'sqrt', ...</td>\n",
       "      <td>0.748219</td>\n",
       "      <td>0.764846</td>\n",
       "      <td>0.762470</td>\n",
       "      <td>0.760095</td>\n",
       "      <td>0.776722</td>\n",
       "      <td>0.785714</td>\n",
       "      <td>0.750000</td>\n",
       "      <td>0.764009</td>\n",
       "      <td>0.012517</td>\n",
       "      <td>40</td>\n",
       "    </tr>\n",
       "    <tr>\n",
       "      <th>8</th>\n",
       "      <td>0.194146</td>\n",
       "      <td>0.005720</td>\n",
       "      <td>0.032428</td>\n",
       "      <td>0.001180</td>\n",
       "      <td>log_loss</td>\n",
       "      <td>sqrt</td>\n",
       "      <td>0.253472</td>\n",
       "      <td>7</td>\n",
       "      <td>120</td>\n",
       "      <td>{'criterion': 'log_loss', 'max_features': 'sqr...</td>\n",
       "      <td>0.757720</td>\n",
       "      <td>0.769596</td>\n",
       "      <td>0.764846</td>\n",
       "      <td>0.743468</td>\n",
       "      <td>0.764846</td>\n",
       "      <td>0.800000</td>\n",
       "      <td>0.745238</td>\n",
       "      <td>0.763673</td>\n",
       "      <td>0.017489</td>\n",
       "      <td>41</td>\n",
       "    </tr>\n",
       "    <tr>\n",
       "      <th>15</th>\n",
       "      <td>0.164102</td>\n",
       "      <td>0.007198</td>\n",
       "      <td>0.032155</td>\n",
       "      <td>0.000992</td>\n",
       "      <td>log_loss</td>\n",
       "      <td>None</td>\n",
       "      <td>0.140705</td>\n",
       "      <td>8</td>\n",
       "      <td>100</td>\n",
       "      <td>{'criterion': 'log_loss', 'max_features': None...</td>\n",
       "      <td>0.748219</td>\n",
       "      <td>0.771971</td>\n",
       "      <td>0.755344</td>\n",
       "      <td>0.755344</td>\n",
       "      <td>0.771971</td>\n",
       "      <td>0.778571</td>\n",
       "      <td>0.764286</td>\n",
       "      <td>0.763672</td>\n",
       "      <td>0.010265</td>\n",
       "      <td>42</td>\n",
       "    </tr>\n",
       "    <tr>\n",
       "      <th>39</th>\n",
       "      <td>0.209143</td>\n",
       "      <td>0.007529</td>\n",
       "      <td>0.032573</td>\n",
       "      <td>0.000495</td>\n",
       "      <td>gini</td>\n",
       "      <td>None</td>\n",
       "      <td>0.133198</td>\n",
       "      <td>1</td>\n",
       "      <td>120</td>\n",
       "      <td>{'criterion': 'gini', 'max_features': None, 'm...</td>\n",
       "      <td>0.755344</td>\n",
       "      <td>0.764846</td>\n",
       "      <td>0.752969</td>\n",
       "      <td>0.757720</td>\n",
       "      <td>0.776722</td>\n",
       "      <td>0.778571</td>\n",
       "      <td>0.759524</td>\n",
       "      <td>0.763671</td>\n",
       "      <td>0.009488</td>\n",
       "      <td>43</td>\n",
       "    </tr>\n",
       "    <tr>\n",
       "      <th>25</th>\n",
       "      <td>0.251714</td>\n",
       "      <td>0.001031</td>\n",
       "      <td>0.032859</td>\n",
       "      <td>0.000639</td>\n",
       "      <td>gini</td>\n",
       "      <td>None</td>\n",
       "      <td>0.312386</td>\n",
       "      <td>7</td>\n",
       "      <td>140</td>\n",
       "      <td>{'criterion': 'gini', 'max_features': None, 'm...</td>\n",
       "      <td>0.750594</td>\n",
       "      <td>0.764846</td>\n",
       "      <td>0.752969</td>\n",
       "      <td>0.757720</td>\n",
       "      <td>0.788599</td>\n",
       "      <td>0.778571</td>\n",
       "      <td>0.752381</td>\n",
       "      <td>0.763668</td>\n",
       "      <td>0.013592</td>\n",
       "      <td>44</td>\n",
       "    </tr>\n",
       "    <tr>\n",
       "      <th>3</th>\n",
       "      <td>0.450234</td>\n",
       "      <td>0.008031</td>\n",
       "      <td>0.064105</td>\n",
       "      <td>0.000817</td>\n",
       "      <td>log_loss</td>\n",
       "      <td>None</td>\n",
       "      <td>0.15077</td>\n",
       "      <td>8</td>\n",
       "      <td>300</td>\n",
       "      <td>{'criterion': 'log_loss', 'max_features': None...</td>\n",
       "      <td>0.750594</td>\n",
       "      <td>0.762470</td>\n",
       "      <td>0.743468</td>\n",
       "      <td>0.764846</td>\n",
       "      <td>0.779097</td>\n",
       "      <td>0.776190</td>\n",
       "      <td>0.764286</td>\n",
       "      <td>0.762993</td>\n",
       "      <td>0.011795</td>\n",
       "      <td>45</td>\n",
       "    </tr>\n",
       "    <tr>\n",
       "      <th>37</th>\n",
       "      <td>0.796429</td>\n",
       "      <td>0.020763</td>\n",
       "      <td>0.071429</td>\n",
       "      <td>0.008015</td>\n",
       "      <td>gini</td>\n",
       "      <td>None</td>\n",
       "      <td>0.974604</td>\n",
       "      <td>4</td>\n",
       "      <td>300</td>\n",
       "      <td>{'criterion': 'gini', 'max_features': None, 'm...</td>\n",
       "      <td>0.738717</td>\n",
       "      <td>0.776722</td>\n",
       "      <td>0.738717</td>\n",
       "      <td>0.767221</td>\n",
       "      <td>0.790974</td>\n",
       "      <td>0.769048</td>\n",
       "      <td>0.759524</td>\n",
       "      <td>0.762989</td>\n",
       "      <td>0.017795</td>\n",
       "      <td>46</td>\n",
       "    </tr>\n",
       "    <tr>\n",
       "      <th>36</th>\n",
       "      <td>0.188428</td>\n",
       "      <td>0.002259</td>\n",
       "      <td>0.032144</td>\n",
       "      <td>0.000639</td>\n",
       "      <td>log_loss</td>\n",
       "      <td>None</td>\n",
       "      <td>0.296888</td>\n",
       "      <td>8</td>\n",
       "      <td>100</td>\n",
       "      <td>{'criterion': 'log_loss', 'max_features': None...</td>\n",
       "      <td>0.750594</td>\n",
       "      <td>0.764846</td>\n",
       "      <td>0.755344</td>\n",
       "      <td>0.755344</td>\n",
       "      <td>0.781473</td>\n",
       "      <td>0.759524</td>\n",
       "      <td>0.766667</td>\n",
       "      <td>0.761970</td>\n",
       "      <td>0.009516</td>\n",
       "      <td>47</td>\n",
       "    </tr>\n",
       "    <tr>\n",
       "      <th>2</th>\n",
       "      <td>0.562185</td>\n",
       "      <td>0.011880</td>\n",
       "      <td>0.068006</td>\n",
       "      <td>0.006090</td>\n",
       "      <td>log_loss</td>\n",
       "      <td>None</td>\n",
       "      <td>0.400338</td>\n",
       "      <td>8</td>\n",
       "      <td>300</td>\n",
       "      <td>{'criterion': 'log_loss', 'max_features': None...</td>\n",
       "      <td>0.748219</td>\n",
       "      <td>0.762470</td>\n",
       "      <td>0.752969</td>\n",
       "      <td>0.764846</td>\n",
       "      <td>0.783848</td>\n",
       "      <td>0.764286</td>\n",
       "      <td>0.754762</td>\n",
       "      <td>0.761628</td>\n",
       "      <td>0.010782</td>\n",
       "      <td>48</td>\n",
       "    </tr>\n",
       "    <tr>\n",
       "      <th>23</th>\n",
       "      <td>0.235000</td>\n",
       "      <td>0.001309</td>\n",
       "      <td>0.034715</td>\n",
       "      <td>0.005092</td>\n",
       "      <td>gini</td>\n",
       "      <td>sqrt</td>\n",
       "      <td>0.632168</td>\n",
       "      <td>6</td>\n",
       "      <td>140</td>\n",
       "      <td>{'criterion': 'gini', 'max_features': 'sqrt', ...</td>\n",
       "      <td>0.743468</td>\n",
       "      <td>0.764846</td>\n",
       "      <td>0.767221</td>\n",
       "      <td>0.743468</td>\n",
       "      <td>0.783848</td>\n",
       "      <td>0.790476</td>\n",
       "      <td>0.735714</td>\n",
       "      <td>0.761292</td>\n",
       "      <td>0.019632</td>\n",
       "      <td>49</td>\n",
       "    </tr>\n",
       "    <tr>\n",
       "      <th>21</th>\n",
       "      <td>0.174857</td>\n",
       "      <td>0.005083</td>\n",
       "      <td>0.032572</td>\n",
       "      <td>0.000730</td>\n",
       "      <td>log_loss</td>\n",
       "      <td>None</td>\n",
       "      <td>0.204282</td>\n",
       "      <td>7</td>\n",
       "      <td>100</td>\n",
       "      <td>{'criterion': 'log_loss', 'max_features': None...</td>\n",
       "      <td>0.755344</td>\n",
       "      <td>0.750594</td>\n",
       "      <td>0.755344</td>\n",
       "      <td>0.764846</td>\n",
       "      <td>0.779097</td>\n",
       "      <td>0.769048</td>\n",
       "      <td>0.752381</td>\n",
       "      <td>0.760951</td>\n",
       "      <td>0.009663</td>\n",
       "      <td>50</td>\n",
       "    </tr>\n",
       "  </tbody>\n",
       "</table>\n",
       "</div>"
      ],
      "text/plain": [
       "    mean_fit_time  std_fit_time  mean_score_time  std_score_time  \\\n",
       "29       0.233429      0.005068         0.032429        0.000495   \n",
       "32       0.205429      0.005628         0.032571        0.000729   \n",
       "38       0.189000      0.000926         0.032715        0.000452   \n",
       "45       0.203428      0.002260         0.032575        0.000497   \n",
       "13       0.238401      0.006474         0.032573        0.000729   \n",
       "49       0.643857      0.007080         0.064715        0.000700   \n",
       "44       0.302429      0.005233         0.032715        0.000453   \n",
       "43       0.250571      0.001400         0.032572        0.000903   \n",
       "11       0.474606      0.002852         0.064562        0.000740   \n",
       "20       0.220428      0.001179         0.032144        0.001246   \n",
       "19       0.210000      0.006187         0.031715        0.000700   \n",
       "12       0.283569      0.001049         0.032859        0.000350   \n",
       "7        0.259715      0.008242         0.032572        0.000904   \n",
       "30       0.655572      0.014322         0.066715        0.006362   \n",
       "6        0.488175      0.006947         0.064113        0.000467   \n",
       "24       0.178858      0.006937         0.032286        0.001031   \n",
       "1        0.226291      0.008025         0.032699        0.000354   \n",
       "42       0.641143      0.006979         0.063858        0.001245   \n",
       "27       0.205286      0.001161         0.032429        0.001050   \n",
       "48       0.252158      0.001124         0.032859        0.000350   \n",
       "31       0.667429      0.016500         0.064428        0.001048   \n",
       "28       0.179429      0.007247         0.032857        0.000639   \n",
       "40       0.474000      0.008384         0.064144        0.000990   \n",
       "16       0.254143      0.009731         0.032429        0.000729   \n",
       "10       0.632713      0.009036         0.064921        0.000580   \n",
       "5        0.156359      0.000767         0.032387        0.000439   \n",
       "46       0.767075      0.013343         0.063721        0.000885   \n",
       "26       0.234857      0.001726         0.041715        0.021770   \n",
       "33       0.215715      0.006840         0.032429        0.000495   \n",
       "34       0.248571      0.004866         0.032430        0.000495   \n",
       "9        0.247572      0.006543         0.041286        0.021526   \n",
       "17       0.223857      0.006833         0.032715        0.000451   \n",
       "4        0.154861      0.002170         0.032054        0.000749   \n",
       "22       0.188429      0.001401         0.032287        0.000453   \n",
       "0        0.252569      0.007836         0.032147        0.000637   \n",
       "14       0.292570      0.007799         0.032715        0.000452   \n",
       "35       0.213714      0.007362         0.032859        0.000350   \n",
       "18       0.160285      0.006519         0.032001        0.000535   \n",
       "47       0.222280      0.004264         0.032651        0.000421   \n",
       "41       0.172714      0.000881         0.042002        0.022051   \n",
       "8        0.194146      0.005720         0.032428        0.001180   \n",
       "15       0.164102      0.007198         0.032155        0.000992   \n",
       "39       0.209143      0.007529         0.032573        0.000495   \n",
       "25       0.251714      0.001031         0.032859        0.000639   \n",
       "3        0.450234      0.008031         0.064105        0.000817   \n",
       "37       0.796429      0.020763         0.071429        0.008015   \n",
       "36       0.188428      0.002259         0.032144        0.000639   \n",
       "2        0.562185      0.011880         0.068006        0.006090   \n",
       "23       0.235000      0.001309         0.034715        0.005092   \n",
       "21       0.174857      0.005083         0.032572        0.000730   \n",
       "\n",
       "   param_criterion param_max_features param_max_samples  \\\n",
       "29        log_loss               sqrt          0.725306   \n",
       "32            gini               sqrt          0.916146   \n",
       "38         entropy               sqrt          0.547524   \n",
       "45         entropy               sqrt          0.834789   \n",
       "13         entropy               None          0.266369   \n",
       "49            gini               None          0.448062   \n",
       "44         entropy               None          0.523271   \n",
       "43        log_loss               sqrt          0.432689   \n",
       "11            gini               None           0.13095   \n",
       "20        log_loss               sqrt          0.794143   \n",
       "19            gini               None          0.364139   \n",
       "12         entropy               None          0.779825   \n",
       "7         log_loss               None          0.633173   \n",
       "30            gini               None          0.670063   \n",
       "6         log_loss               sqrt          0.459875   \n",
       "24        log_loss               sqrt          0.444634   \n",
       "1             gini               sqrt          0.501249   \n",
       "42         entropy               None          0.597604   \n",
       "27        log_loss               sqrt           0.38292   \n",
       "48        log_loss               None          0.680656   \n",
       "31         entropy               None          0.585408   \n",
       "28            gini               sqrt          0.643976   \n",
       "40         entropy               None          0.146331   \n",
       "16            gini               None          0.585723   \n",
       "10            gini               None           0.71581   \n",
       "5          entropy               None           0.10636   \n",
       "46        log_loss               None          0.726232   \n",
       "26            gini               sqrt          0.484787   \n",
       "33        log_loss               None          0.100468   \n",
       "34        log_loss               None          0.559673   \n",
       "9             gini               None          0.606959   \n",
       "17            gini               None          0.646331   \n",
       "4          entropy               None          0.100701   \n",
       "22         entropy               sqrt          0.157203   \n",
       "0         log_loss               None          0.955643   \n",
       "14         entropy               None          0.905345   \n",
       "35            gini               sqrt          0.207879   \n",
       "18        log_loss               sqrt          0.167096   \n",
       "47        log_loss               None          0.114929   \n",
       "41            gini               sqrt          0.315606   \n",
       "8         log_loss               sqrt          0.253472   \n",
       "15        log_loss               None          0.140705   \n",
       "39            gini               None          0.133198   \n",
       "25            gini               None          0.312386   \n",
       "3         log_loss               None           0.15077   \n",
       "37            gini               None          0.974604   \n",
       "36        log_loss               None          0.296888   \n",
       "2         log_loss               None          0.400338   \n",
       "23            gini               sqrt          0.632168   \n",
       "21        log_loss               None          0.204282   \n",
       "\n",
       "   param_min_samples_leaf param_n_estimators  \\\n",
       "29                      2                120   \n",
       "32                      1                100   \n",
       "38                      1                100   \n",
       "45                      1                100   \n",
       "13                      2                120   \n",
       "49                      2                300   \n",
       "44                      2                120   \n",
       "43                      1                140   \n",
       "11                      1                300   \n",
       "20                      5                120   \n",
       "19                      3                100   \n",
       "12                      6                120   \n",
       "7                       3                100   \n",
       "30                      6                300   \n",
       "6                       3                300   \n",
       "24                      3                100   \n",
       "1                       7                140   \n",
       "42                      7                300   \n",
       "27                      4                120   \n",
       "48                      4                100   \n",
       "31                      7                300   \n",
       "28                      4                100   \n",
       "40                      5                300   \n",
       "16                      8                120   \n",
       "10                      7                300   \n",
       "5                       9                100   \n",
       "46                      3                300   \n",
       "26                      3                140   \n",
       "33                      9                140   \n",
       "34                      9                120   \n",
       "9                       9                120   \n",
       "17                      9                100   \n",
       "4                       5                100   \n",
       "22                      7                120   \n",
       "0                       8                100   \n",
       "14                      8                120   \n",
       "35                      8                140   \n",
       "18                      7                100   \n",
       "47                      3                140   \n",
       "41                      2                100   \n",
       "8                       7                120   \n",
       "15                      8                100   \n",
       "39                      1                120   \n",
       "25                      7                140   \n",
       "3                       8                300   \n",
       "37                      4                300   \n",
       "36                      8                100   \n",
       "2                       8                300   \n",
       "23                      6                140   \n",
       "21                      7                100   \n",
       "\n",
       "                                               params  split0_test_score  \\\n",
       "29  {'criterion': 'log_loss', 'max_features': 'sqr...           0.769596   \n",
       "32  {'criterion': 'gini', 'max_features': 'sqrt', ...           0.767221   \n",
       "38  {'criterion': 'entropy', 'max_features': 'sqrt...           0.767221   \n",
       "45  {'criterion': 'entropy', 'max_features': 'sqrt...           0.774347   \n",
       "13  {'criterion': 'entropy', 'max_features': None,...           0.771971   \n",
       "49  {'criterion': 'gini', 'max_features': None, 'm...           0.764846   \n",
       "44  {'criterion': 'entropy', 'max_features': None,...           0.764846   \n",
       "43  {'criterion': 'log_loss', 'max_features': 'sqr...           0.755344   \n",
       "11  {'criterion': 'gini', 'max_features': None, 'm...           0.767221   \n",
       "20  {'criterion': 'log_loss', 'max_features': 'sqr...           0.750594   \n",
       "19  {'criterion': 'gini', 'max_features': None, 'm...           0.752969   \n",
       "12  {'criterion': 'entropy', 'max_features': None,...           0.743468   \n",
       "7   {'criterion': 'log_loss', 'max_features': None...           0.752969   \n",
       "30  {'criterion': 'gini', 'max_features': None, 'm...           0.760095   \n",
       "6   {'criterion': 'log_loss', 'max_features': 'sqr...           0.750594   \n",
       "24  {'criterion': 'log_loss', 'max_features': 'sqr...           0.750594   \n",
       "1   {'criterion': 'gini', 'max_features': 'sqrt', ...           0.745843   \n",
       "42  {'criterion': 'entropy', 'max_features': None,...           0.752969   \n",
       "27  {'criterion': 'log_loss', 'max_features': 'sqr...           0.738717   \n",
       "48  {'criterion': 'log_loss', 'max_features': None...           0.750594   \n",
       "31  {'criterion': 'entropy', 'max_features': None,...           0.750594   \n",
       "28  {'criterion': 'gini', 'max_features': 'sqrt', ...           0.733967   \n",
       "40  {'criterion': 'entropy', 'max_features': None,...           0.748219   \n",
       "16  {'criterion': 'gini', 'max_features': None, 'm...           0.748219   \n",
       "10  {'criterion': 'gini', 'max_features': None, 'm...           0.755344   \n",
       "5   {'criterion': 'entropy', 'max_features': None,...           0.736342   \n",
       "46  {'criterion': 'log_loss', 'max_features': None...           0.743468   \n",
       "26  {'criterion': 'gini', 'max_features': 'sqrt', ...           0.752969   \n",
       "33  {'criterion': 'log_loss', 'max_features': None...           0.752969   \n",
       "34  {'criterion': 'log_loss', 'max_features': None...           0.748219   \n",
       "9   {'criterion': 'gini', 'max_features': None, 'm...           0.752969   \n",
       "17  {'criterion': 'gini', 'max_features': None, 'm...           0.743468   \n",
       "4   {'criterion': 'entropy', 'max_features': None,...           0.752969   \n",
       "22  {'criterion': 'entropy', 'max_features': 'sqrt...           0.752969   \n",
       "0   {'criterion': 'log_loss', 'max_features': None...           0.745843   \n",
       "14  {'criterion': 'entropy', 'max_features': None,...           0.752969   \n",
       "35  {'criterion': 'gini', 'max_features': 'sqrt', ...           0.741093   \n",
       "18  {'criterion': 'log_loss', 'max_features': 'sqr...           0.738717   \n",
       "47  {'criterion': 'log_loss', 'max_features': None...           0.733967   \n",
       "41  {'criterion': 'gini', 'max_features': 'sqrt', ...           0.748219   \n",
       "8   {'criterion': 'log_loss', 'max_features': 'sqr...           0.757720   \n",
       "15  {'criterion': 'log_loss', 'max_features': None...           0.748219   \n",
       "39  {'criterion': 'gini', 'max_features': None, 'm...           0.755344   \n",
       "25  {'criterion': 'gini', 'max_features': None, 'm...           0.750594   \n",
       "3   {'criterion': 'log_loss', 'max_features': None...           0.750594   \n",
       "37  {'criterion': 'gini', 'max_features': None, 'm...           0.738717   \n",
       "36  {'criterion': 'log_loss', 'max_features': None...           0.750594   \n",
       "2   {'criterion': 'log_loss', 'max_features': None...           0.748219   \n",
       "23  {'criterion': 'gini', 'max_features': 'sqrt', ...           0.743468   \n",
       "21  {'criterion': 'log_loss', 'max_features': None...           0.755344   \n",
       "\n",
       "    split1_test_score  split2_test_score  split3_test_score  \\\n",
       "29           0.788599           0.757720           0.786223   \n",
       "32           0.779097           0.752969           0.769596   \n",
       "38           0.790974           0.767221           0.779097   \n",
       "45           0.769596           0.752969           0.774347   \n",
       "13           0.788599           0.755344           0.764846   \n",
       "49           0.779097           0.743468           0.776722   \n",
       "44           0.795724           0.733967           0.771971   \n",
       "43           0.783848           0.764846           0.760095   \n",
       "11           0.774347           0.755344           0.767221   \n",
       "20           0.776722           0.760095           0.767221   \n",
       "19           0.781473           0.762470           0.786223   \n",
       "12           0.790974           0.745843           0.779097   \n",
       "7            0.783848           0.736342           0.786223   \n",
       "30           0.788599           0.741093           0.771971   \n",
       "6            0.776722           0.764846           0.762470   \n",
       "24           0.764846           0.769596           0.769596   \n",
       "1            0.771971           0.774347           0.755344   \n",
       "42           0.776722           0.748219           0.776722   \n",
       "27           0.781473           0.771971           0.757720   \n",
       "48           0.798100           0.726841           0.779097   \n",
       "31           0.771971           0.750594           0.774347   \n",
       "28           0.774347           0.769596           0.762470   \n",
       "40           0.764846           0.757720           0.767221   \n",
       "16           0.774347           0.757720           0.769596   \n",
       "10           0.783848           0.741093           0.774347   \n",
       "5            0.769596           0.757720           0.764846   \n",
       "46           0.790974           0.726841           0.776722   \n",
       "26           0.781473           0.757720           0.762470   \n",
       "33           0.767221           0.750594           0.748219   \n",
       "34           0.776722           0.750594           0.762470   \n",
       "9            0.774347           0.748219           0.764846   \n",
       "17           0.779097           0.748219           0.771971   \n",
       "4            0.783848           0.750594           0.755344   \n",
       "22           0.774347           0.767221           0.738717   \n",
       "0            0.783848           0.738717           0.767221   \n",
       "14           0.781473           0.741093           0.781473   \n",
       "35           0.769596           0.779097           0.738717   \n",
       "18           0.774347           0.771971           0.748219   \n",
       "47           0.779097           0.748219           0.762470   \n",
       "41           0.764846           0.762470           0.760095   \n",
       "8            0.769596           0.764846           0.743468   \n",
       "15           0.771971           0.755344           0.755344   \n",
       "39           0.764846           0.752969           0.757720   \n",
       "25           0.764846           0.752969           0.757720   \n",
       "3            0.762470           0.743468           0.764846   \n",
       "37           0.776722           0.738717           0.767221   \n",
       "36           0.764846           0.755344           0.755344   \n",
       "2            0.762470           0.752969           0.764846   \n",
       "23           0.764846           0.767221           0.743468   \n",
       "21           0.750594           0.755344           0.764846   \n",
       "\n",
       "    split4_test_score  split5_test_score  split6_test_score  mean_test_score  \\\n",
       "29           0.783848           0.800000           0.759524         0.777930   \n",
       "32           0.795724           0.792857           0.771429         0.775556   \n",
       "38           0.786223           0.783333           0.754762         0.775547   \n",
       "45           0.795724           0.790476           0.764286         0.774535   \n",
       "13           0.781473           0.780952           0.766667         0.772836   \n",
       "49           0.798100           0.778571           0.764286         0.772156   \n",
       "44           0.790974           0.773810           0.771429         0.771817   \n",
       "43           0.788599           0.780952           0.766667         0.771479   \n",
       "11           0.795724           0.780952           0.759524         0.771476   \n",
       "20           0.788599           0.792857           0.761905         0.771142   \n",
       "19           0.786223           0.773810           0.754762         0.771133   \n",
       "12           0.783848           0.780952           0.766667         0.770121   \n",
       "7            0.786223           0.780952           0.764286         0.770121   \n",
       "30           0.793349           0.771429           0.764286         0.770117   \n",
       "6            0.788599           0.788095           0.757143         0.769781   \n",
       "24           0.795724           0.797619           0.740476         0.769779   \n",
       "1            0.781473           0.800000           0.754762         0.769106   \n",
       "42           0.793349           0.766667           0.761905         0.768079   \n",
       "27           0.776722           0.792857           0.752381         0.767406   \n",
       "48           0.781473           0.778571           0.757143         0.767403   \n",
       "31           0.798100           0.766667           0.759524         0.767399   \n",
       "28           0.776722           0.795238           0.757143         0.767069   \n",
       "40           0.788599           0.780952           0.761905         0.767066   \n",
       "16           0.783848           0.780952           0.754762         0.767063   \n",
       "10           0.790974           0.766667           0.757143         0.767059   \n",
       "5            0.776722           0.804762           0.757143         0.766733   \n",
       "46           0.790974           0.776190           0.761905         0.766725   \n",
       "26           0.779097           0.778571           0.754762         0.766723   \n",
       "33           0.776722           0.807143           0.761905         0.766396   \n",
       "34           0.790974           0.783333           0.750000         0.766045   \n",
       "9            0.793349           0.776190           0.752381         0.766043   \n",
       "17           0.793349           0.769048           0.757143         0.766042   \n",
       "4            0.762470           0.804762           0.750000         0.765713   \n",
       "22           0.781473           0.807143           0.738095         0.765709   \n",
       "0            0.774347           0.776190           0.771429         0.765371   \n",
       "14           0.776722           0.757143           0.766667         0.765363   \n",
       "35           0.771971           0.807143           0.745238         0.764694   \n",
       "18           0.771971           0.802381           0.745238         0.764692   \n",
       "47           0.781473           0.780952           0.766667         0.764692   \n",
       "41           0.776722           0.785714           0.750000         0.764009   \n",
       "8            0.764846           0.800000           0.745238         0.763673   \n",
       "15           0.771971           0.778571           0.764286         0.763672   \n",
       "39           0.776722           0.778571           0.759524         0.763671   \n",
       "25           0.788599           0.778571           0.752381         0.763668   \n",
       "3            0.779097           0.776190           0.764286         0.762993   \n",
       "37           0.790974           0.769048           0.759524         0.762989   \n",
       "36           0.781473           0.759524           0.766667         0.761970   \n",
       "2            0.783848           0.764286           0.754762         0.761628   \n",
       "23           0.783848           0.790476           0.735714         0.761292   \n",
       "21           0.779097           0.769048           0.752381         0.760951   \n",
       "\n",
       "    std_test_score  rank_test_score  \n",
       "29        0.014743                1  \n",
       "32        0.013892                2  \n",
       "38        0.011928                3  \n",
       "45        0.013616                4  \n",
       "13        0.010674                5  \n",
       "49        0.015683                6  \n",
       "44        0.018609                7  \n",
       "43        0.011910                8  \n",
       "11        0.012679                9  \n",
       "20        0.014404               10  \n",
       "19        0.013323               11  \n",
       "12        0.017456               12  \n",
       "7         0.018101               13  \n",
       "30        0.016315               14  \n",
       "6         0.013853               15  \n",
       "24        0.019637               16  \n",
       "1         0.017235               17  \n",
       "42        0.014397               18  \n",
       "27        0.017304               19  \n",
       "48        0.022152               20  \n",
       "31        0.015302               21  \n",
       "28        0.017572               22  \n",
       "40        0.012709               23  \n",
       "16        0.012693               24  \n",
       "10        0.016111               25  \n",
       "5         0.019474               26  \n",
       "46        0.022426               27  \n",
       "26        0.011603               28  \n",
       "33        0.019080               29  \n",
       "34        0.016305               30  \n",
       "9         0.015092               31  \n",
       "17        0.016330               32  \n",
       "4         0.019308               33  \n",
       "22        0.022977               34  \n",
       "0         0.015450               35  \n",
       "14        0.014442               36  \n",
       "35        0.022980               37  \n",
       "18        0.020508               38  \n",
       "47        0.016809               38  \n",
       "41        0.012517               40  \n",
       "8         0.017489               41  \n",
       "15        0.010265               42  \n",
       "39        0.009488               43  \n",
       "25        0.013592               44  \n",
       "3         0.011795               45  \n",
       "37        0.017795               46  \n",
       "36        0.009516               47  \n",
       "2         0.010782               48  \n",
       "23        0.019632               49  \n",
       "21        0.009663               50  "
      ]
     },
     "execution_count": 64,
     "metadata": {},
     "output_type": "execute_result"
    }
   ],
   "source": [
    "rsr_results = pd.DataFrame(rsr.cv_results_).sort_values(by=[\"rank_test_score\"])\n",
    "rsr_results"
   ]
  },
  {
   "cell_type": "markdown",
   "id": "f0e67e5c-d4d8-4363-968c-6f513b4d9611",
   "metadata": {},
   "source": [
    "The updated predictions are as follows:"
   ]
  },
  {
   "cell_type": "code",
   "execution_count": 65,
   "id": "42b32aa3-e418-490d-95d7-6de90ffdc4ec",
   "metadata": {},
   "outputs": [
    {
     "name": "stdout",
     "output_type": "stream",
     "text": [
      "Random forest classifier train accuracy: 95.2801 %\n"
     ]
    }
   ],
   "source": [
    "tuned_predictions_train = best_estimator_rf.predict(X_train)\n",
    "tuned_acc_train_rf = compute_accuracy(tuned_predictions_train, y_train)\n",
    "print(\"Random forest classifier train accuracy:\", tuned_acc_train_rf, \"%\")"
   ]
  },
  {
   "cell_type": "code",
   "execution_count": 66,
   "id": "3389d0f9-6e98-4118-a4f8-c1b4ab06be4c",
   "metadata": {},
   "outputs": [
    {
     "name": "stdout",
     "output_type": "stream",
     "text": [
      "Random forest classifier test accuracy: 76.1711 %\n"
     ]
    }
   ],
   "source": [
    "tuned_predictions_test = best_estimator_rf.predict(X_test)\n",
    "tuned_acc_test_rf = compute_accuracy(tuned_predictions_test, y_test)\n",
    "print(\"Random forest classifier test accuracy:\", tuned_acc_test_rf, \"%\")"
   ]
  },
  {
   "cell_type": "markdown",
   "id": "247a8ebd-efa5-48fd-81df-b9ba6ec317ef",
   "metadata": {},
   "source": [
    "Compared to the model's initial performance on default hyperparameter values, the accuracy of the model trained with the \"best\" hyperparameters performed worse."
   ]
  },
  {
   "cell_type": "markdown",
   "id": "06ebca6a-44c4-4eda-85a8-be7199aa9328",
   "metadata": {},
   "source": [
    "## 7. Model Selection"
   ]
  },
  {
   "cell_type": "markdown",
   "id": "4bd05768-2c46-439e-9a8d-8016c198ac95",
   "metadata": {},
   "source": [
    "Here, we exhibit each model's initial configurations and best sets of hyperparameters after tuning. The following are the search spaces defined to find hyperparameters that improve accuracy:"
   ]
  },
  {
   "cell_type": "markdown",
   "id": "65520aca-d789-4902-b379-41a7fe4dc14d",
   "metadata": {},
   "source": [
    "The `RandomizedSearchCV` hyperparameter tuning method was used. The initial hyperparameters were updated to the best ones found as follows:"
   ]
  },
  {
   "cell_type": "code",
   "execution_count": 67,
   "id": "581267e2-b3b2-4654-9fc9-070901b45bc0",
   "metadata": {},
   "outputs": [],
   "source": [
    "def printInitialBestParams(modelName, originalModel, tunedModel, hyperparameterSearchSpace):\n",
    "    print(f\"Initial and Best hyperparameters for {modelName}:\")\n",
    "    params_df = pd.DataFrame({\n",
    "        'Parameter': list(hyperparameterSearchSpace.keys()),\n",
    "        'Initial': [originalModel.get_params()[key] for key in hyperparameterSearchSpace.keys()],\n",
    "        'Best': [tunedModel.get_params()[key] for key in hyperparameterSearchSpace.keys()],\n",
    "    })\n",
    "    return params_df"
   ]
  },
  {
   "cell_type": "code",
   "execution_count": 68,
   "id": "a4a746e8-692d-4b73-86bd-ecd60deb9e8c",
   "metadata": {},
   "outputs": [
    {
     "name": "stdout",
     "output_type": "stream",
     "text": [
      "Initial and Best hyperparameters for K-Nearest Neighbors:\n"
     ]
    },
    {
     "data": {
      "text/html": [
       "<div>\n",
       "<style scoped>\n",
       "    .dataframe tbody tr th:only-of-type {\n",
       "        vertical-align: middle;\n",
       "    }\n",
       "\n",
       "    .dataframe tbody tr th {\n",
       "        vertical-align: top;\n",
       "    }\n",
       "\n",
       "    .dataframe thead th {\n",
       "        text-align: right;\n",
       "    }\n",
       "</style>\n",
       "<table border=\"1\" class=\"dataframe\">\n",
       "  <thead>\n",
       "    <tr style=\"text-align: right;\">\n",
       "      <th></th>\n",
       "      <th>Parameter</th>\n",
       "      <th>Initial</th>\n",
       "      <th>Best</th>\n",
       "    </tr>\n",
       "  </thead>\n",
       "  <tbody>\n",
       "    <tr>\n",
       "      <th>0</th>\n",
       "      <td>n_neighbors</td>\n",
       "      <td>36</td>\n",
       "      <td>36</td>\n",
       "    </tr>\n",
       "  </tbody>\n",
       "</table>\n",
       "</div>"
      ],
      "text/plain": [
       "     Parameter  Initial  Best\n",
       "0  n_neighbors       36    36"
      ]
     },
     "execution_count": 68,
     "metadata": {},
     "output_type": "execute_result"
    }
   ],
   "source": [
    "# Replace params with knn stuff\n",
    "printInitialBestParams(\"K-Nearest Neighbors\", knn, knn, hyperparameters_knn_best)"
   ]
  },
  {
   "cell_type": "code",
   "execution_count": 69,
   "id": "712103b9-5e55-4f74-9157-ebb1a5536fad",
   "metadata": {},
   "outputs": [
    {
     "name": "stdout",
     "output_type": "stream",
     "text": [
      "Initial and Best hyperparameters for Logistic Regression:\n"
     ]
    },
    {
     "data": {
      "text/html": [
       "<div>\n",
       "<style scoped>\n",
       "    .dataframe tbody tr th:only-of-type {\n",
       "        vertical-align: middle;\n",
       "    }\n",
       "\n",
       "    .dataframe tbody tr th {\n",
       "        vertical-align: top;\n",
       "    }\n",
       "\n",
       "    .dataframe thead th {\n",
       "        text-align: right;\n",
       "    }\n",
       "</style>\n",
       "<table border=\"1\" class=\"dataframe\">\n",
       "  <thead>\n",
       "    <tr style=\"text-align: right;\">\n",
       "      <th></th>\n",
       "      <th>Parameter</th>\n",
       "      <th>Initial</th>\n",
       "      <th>Best</th>\n",
       "    </tr>\n",
       "  </thead>\n",
       "  <tbody>\n",
       "    <tr>\n",
       "      <th>0</th>\n",
       "      <td>C</td>\n",
       "      <td>1.0</td>\n",
       "      <td>1.0</td>\n",
       "    </tr>\n",
       "    <tr>\n",
       "      <th>1</th>\n",
       "      <td>class_weight</td>\n",
       "      <td>None</td>\n",
       "      <td>None</td>\n",
       "    </tr>\n",
       "    <tr>\n",
       "      <th>2</th>\n",
       "      <td>fit_intercept</td>\n",
       "      <td>True</td>\n",
       "      <td>True</td>\n",
       "    </tr>\n",
       "    <tr>\n",
       "      <th>3</th>\n",
       "      <td>solver</td>\n",
       "      <td>lbfgs</td>\n",
       "      <td>lbfgs</td>\n",
       "    </tr>\n",
       "    <tr>\n",
       "      <th>4</th>\n",
       "      <td>max_iter</td>\n",
       "      <td>100</td>\n",
       "      <td>100</td>\n",
       "    </tr>\n",
       "  </tbody>\n",
       "</table>\n",
       "</div>"
      ],
      "text/plain": [
       "       Parameter Initial   Best\n",
       "0              C     1.0    1.0\n",
       "1   class_weight    None   None\n",
       "2  fit_intercept    True   True\n",
       "3         solver   lbfgs  lbfgs\n",
       "4       max_iter     100    100"
      ]
     },
     "execution_count": 69,
     "metadata": {},
     "output_type": "execute_result"
    }
   ],
   "source": [
    "# Replace params with Logistic regression stuff\n",
    "printInitialBestParams(\"Logistic Regression\", model, model, param_grid)"
   ]
  },
  {
   "cell_type": "code",
   "execution_count": 70,
   "id": "6ba333d9-2987-462e-b47a-2d76529c4ff2",
   "metadata": {},
   "outputs": [
    {
     "name": "stdout",
     "output_type": "stream",
     "text": [
      "Initial and Best hyperparameters for Random Forest:\n"
     ]
    },
    {
     "data": {
      "text/html": [
       "<div>\n",
       "<style scoped>\n",
       "    .dataframe tbody tr th:only-of-type {\n",
       "        vertical-align: middle;\n",
       "    }\n",
       "\n",
       "    .dataframe tbody tr th {\n",
       "        vertical-align: top;\n",
       "    }\n",
       "\n",
       "    .dataframe thead th {\n",
       "        text-align: right;\n",
       "    }\n",
       "</style>\n",
       "<table border=\"1\" class=\"dataframe\">\n",
       "  <thead>\n",
       "    <tr style=\"text-align: right;\">\n",
       "      <th></th>\n",
       "      <th>Parameter</th>\n",
       "      <th>Initial</th>\n",
       "      <th>Best</th>\n",
       "    </tr>\n",
       "  </thead>\n",
       "  <tbody>\n",
       "    <tr>\n",
       "      <th>0</th>\n",
       "      <td>n_estimators</td>\n",
       "      <td>100</td>\n",
       "      <td>120</td>\n",
       "    </tr>\n",
       "    <tr>\n",
       "      <th>1</th>\n",
       "      <td>criterion</td>\n",
       "      <td>gini</td>\n",
       "      <td>log_loss</td>\n",
       "    </tr>\n",
       "    <tr>\n",
       "      <th>2</th>\n",
       "      <td>min_samples_leaf</td>\n",
       "      <td>1</td>\n",
       "      <td>2</td>\n",
       "    </tr>\n",
       "    <tr>\n",
       "      <th>3</th>\n",
       "      <td>max_features</td>\n",
       "      <td>sqrt</td>\n",
       "      <td>sqrt</td>\n",
       "    </tr>\n",
       "    <tr>\n",
       "      <th>4</th>\n",
       "      <td>max_samples</td>\n",
       "      <td>None</td>\n",
       "      <td>0.725306</td>\n",
       "    </tr>\n",
       "  </tbody>\n",
       "</table>\n",
       "</div>"
      ],
      "text/plain": [
       "          Parameter Initial      Best\n",
       "0      n_estimators     100       120\n",
       "1         criterion    gini  log_loss\n",
       "2  min_samples_leaf       1         2\n",
       "3      max_features    sqrt      sqrt\n",
       "4       max_samples    None  0.725306"
      ]
     },
     "execution_count": 70,
     "metadata": {},
     "output_type": "execute_result"
    }
   ],
   "source": [
    "printInitialBestParams(\"Random Forest\", rfc, best_estimator_rf, hyperparameters_rf)"
   ]
  },
  {
   "cell_type": "markdown",
   "id": "452817dc-c985-4001-a79c-1e40c4c4c8c6",
   "metadata": {},
   "source": [
    "Using the best hyperparameters identified, the following are the accuracies that were computed for each model."
   ]
  },
  {
   "cell_type": "code",
   "execution_count": 71,
   "id": "99df9432-9c24-48d6-996e-5b09fc699ff8",
   "metadata": {},
   "outputs": [
    {
     "data": {
      "text/html": [
       "<div>\n",
       "<style scoped>\n",
       "    .dataframe tbody tr th:only-of-type {\n",
       "        vertical-align: middle;\n",
       "    }\n",
       "\n",
       "    .dataframe tbody tr th {\n",
       "        vertical-align: top;\n",
       "    }\n",
       "\n",
       "    .dataframe thead th {\n",
       "        text-align: right;\n",
       "    }\n",
       "</style>\n",
       "<table border=\"1\" class=\"dataframe\">\n",
       "  <thead>\n",
       "    <tr style=\"text-align: right;\">\n",
       "      <th></th>\n",
       "      <th>Model</th>\n",
       "      <th>Initial (Train, Test)</th>\n",
       "      <th>Best (Train, Test)</th>\n",
       "    </tr>\n",
       "  </thead>\n",
       "  <tbody>\n",
       "    <tr>\n",
       "      <th>0</th>\n",
       "      <td>K-Nearest Neighbors</td>\n",
       "      <td>[84.7889, 68.4478]</td>\n",
       "      <td>[76.4556, 72.5191]</td>\n",
       "    </tr>\n",
       "    <tr>\n",
       "      <th>1</th>\n",
       "      <td>Logistic Regression</td>\n",
       "      <td>[77.6645, 78.2443]</td>\n",
       "      <td>[77.2399, 78.4987]</td>\n",
       "    </tr>\n",
       "    <tr>\n",
       "      <th>2</th>\n",
       "      <td>Random Forest</td>\n",
       "      <td>[98.3022, 76.2729]</td>\n",
       "      <td>[95.2801, 76.1711]</td>\n",
       "    </tr>\n",
       "  </tbody>\n",
       "</table>\n",
       "</div>"
      ],
      "text/plain": [
       "                 Model Initial (Train, Test)  Best (Train, Test)\n",
       "0  K-Nearest Neighbors    [84.7889, 68.4478]  [76.4556, 72.5191]\n",
       "1  Logistic Regression    [77.6645, 78.2443]  [77.2399, 78.4987]\n",
       "2        Random Forest    [98.3022, 76.2729]  [95.2801, 76.1711]"
      ]
     },
     "execution_count": 71,
     "metadata": {},
     "output_type": "execute_result"
    }
   ],
   "source": [
    "# Replace with ur own models stuff\n",
    "\n",
    "accuracies = [\n",
    "   ['K-Nearest Neighbors', [acc_train_knn, acc_test_knn], [tuned_acc_train_knn, tuned_acc_test_knn]],\n",
    "    ['Logistic Regression', [round(acc_train_lr, 4), round(acc_test_lr, 4)], [round(tuned_acc_train_lr, 4), round(tuned_acc_test_lr, 4)]],\n",
    "    ['Random Forest', [acc_train_rf, acc_test_rf], [tuned_acc_train_rf, tuned_acc_test_rf]]\n",
    "]\n",
    "\n",
    "pd.DataFrame(accuracies, columns=[\"Model\",\"Initial (Train, Test)\", \"Best (Train, Test)\"])"
   ]
  },
  {
   "cell_type": "markdown",
   "id": "248bcdce-7dd6-43ee-8179-2a0892453559",
   "metadata": {},
   "source": [
    "Based on these accuracies, we conclude that the Logistic Regression model is the best suited for the identified task."
   ]
  },
  {
   "cell_type": "markdown",
   "id": "41ff5093-f1a1-4193-9365-3f3764f93d46",
   "metadata": {},
   "source": [
    "## 8. Insights and Conclusions"
   ]
  },
  {
   "cell_type": "markdown",
   "id": "188e2f02",
   "metadata": {},
   "source": [
    "For K-Nearest Neighbor, after fine-tuning the hyperparameters, the model exhibited a marginal improvement in accuracy. Despite this modification, it is not recommended to use this model on the current dataset as it falls short in performance compared to the Logistic Regression and Random Forest. In context, predicting home advantage in sport matches is not guaranteed with 100 percent certainty, but the model's was neither good or bad. The observed performance may be due to the complexity and abundance of characteristics in the dataset. To improve the efficiency and speed of the KNN method, the dimensionality of the data must be reduced. Dimensionality can make distances between data points less distinct, increasing model complexity and decreasing efficacy."
   ]
  },
  {
   "cell_type": "markdown",
   "id": "e756c595-8f39-435b-a6ec-45cce525b496",
   "metadata": {},
   "source": [
    "For Random Forest, despite being designed to mitigate overfitting, both the default hyperparameter configuration and the model fine-tuned with the best-found hyperparameters still demonstrate overfitting tendencies, as shown by relatively lower prediction accuracy on the test set compared to the training set. To address this, an examination of feature importances revealed that certain features may not significantly contribute to the model's performance. Consequently, a potential enhancement involves considering the removal of features with limited influence. Moreover, the process of hyperparameter tuning involved extensive trial and error within the search space, yielding only marginal improvements. To refine this approach, further exploration of hyperparameter combinations, such as the inclusion of parameters like max depth, could be undertaken to achieve more substantial enhancements in model accuracy."
   ]
  },
  {
   "cell_type": "markdown",
   "id": "43766e72",
   "metadata": {},
   "source": [
    "In summary, the logistic regression model, outperforms the other two models, achieving an accuracy of 78.50% on the test set. The model demonstrates a well-balanced precision and recall across classes, with particularly robust discrimination between instances of \"Home Advantage\" and \"Away Advantage.\" This enhanced performance can be attributed to the exclusion of snapshots categorized as \"Balanced,\" where home and away scores are equal."
   ]
  },
  {
   "cell_type": "markdown",
   "id": "6dd8dec4-a413-4639-b799-f6cc01e9b3cc",
   "metadata": {},
   "source": [
    "## 9. References"
   ]
  },
  {
   "cell_type": "markdown",
   "id": "5f8e46a8-d10e-47b9-804f-3f08b44095ab",
   "metadata": {},
   "source": [
    "LaViale, T. (2023, March 16). Deep Dive on KNN: Understanding and Implementing the K-Nearest Neighbors Algorithm. Arize. https://arize.com/blog-course/knn-algorithm-k-nearest-neighbor/"
   ]
  },
  {
   "cell_type": "markdown",
   "id": "7cf9398a",
   "metadata": {},
   "source": [
    "Probst, P., Wright, M. N., & Boulesteix, A. (2019). Hyperparameters and tuning strategies for Random Forest. WIREs Data Mining and Knowledge Discovery, 9(3). https://doi.org/10.1002/widm.1301 "
   ]
  },
  {
   "cell_type": "markdown",
   "id": "f2d09c5e",
   "metadata": {},
   "source": [
    "The World’s Most Watched Sports. (2017, July 17). Sport For Business. https://sportforbusiness.com/the-worlds-most-watched-sports/"
   ]
  },
  {
   "cell_type": "markdown",
   "id": "d19d9bf2",
   "metadata": {},
   "source": [
    "The Most Popular Sports In The World. (n.d.). WorldAtlas. https://www.worldatlas.com/articles/what-are-the-most-popular-sports-in-the-world.html"
   ]
  },
  {
   "cell_type": "markdown",
   "id": "18edb3c2-eb97-4372-b724-4695da880618",
   "metadata": {},
   "source": [
    "What is Random Forest?. IBM. (n.d.). https://www.ibm.com/topics/random-forest "
   ]
  },
  {
   "cell_type": "markdown",
   "id": "4f22d9e3",
   "metadata": {},
   "source": [
    "Zheng, S. (2015). Home Advantage in Soccer. The Pit Journal. https://pitjournal.unc.edu/2023/01/12/home-advantage-in-soccer/"
   ]
  }
 ],
 "metadata": {
  "kernelspec": {
   "display_name": "Python 3 (ipykernel)",
   "language": "python",
   "name": "python3"
  },
  "language_info": {
   "codemirror_mode": {
    "name": "ipython",
    "version": 3
   },
   "file_extension": ".py",
   "mimetype": "text/x-python",
   "name": "python",
   "nbconvert_exporter": "python",
   "pygments_lexer": "ipython3",
   "version": "3.9.12"
  }
 },
 "nbformat": 4,
 "nbformat_minor": 5
}
