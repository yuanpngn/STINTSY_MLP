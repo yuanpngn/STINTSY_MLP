{
  "cells": [
    {
      "cell_type": "markdown",
      "metadata": {
        "id": "zQLkMon0hhrU"
      },
      "source": [
        "---\n",
        "# **Section I: Introduction to the problem/task and dataset**"
      ]
    },
    {
      "cell_type": "markdown",
      "metadata": {
        "id": "_fAtmsISjGnd"
      },
      "source": [
        "## **Introduction to the Task**\n",
        "The primary objective of this project is to predict the likelihood of additional goals in a soccer match based on real-time in-game statistics, with the aim of supporting decision-making in sports trading (e.g., over/under betting). By analyzing game-specific metrics, we can estimate scoring potential and influence live trading models for betting and fan engagement.\n",
        "\n",
        "## **Dataset Overview**\n",
        "This project’s dataset includes 10,000 unique snapshots of soccer matches at various timestamps, capturing the state of a game through different in-game metrics. Each snapshot includes details on the current score, possession percentages, attempts, and cards, providing a rich dataset for building predictive models.\n",
        "\n",
        "\n",
        "## **Problem Motivation**\n",
        "The practical application of predicting match outcomes from live data is significant for team strategy and sports betting, as knowing influential factors—such as possession and dangerous attacks—can improve decision-making and potentially impact match strategies (Kuhn & Johnson, 2013).\n",
        "\n",
        "---\n"
      ]
    },
    {
      "cell_type": "markdown",
      "metadata": {
        "id": "Zu7zhSFohony"
      },
      "source": [
        "# **Section 2: Description of the dataset**"
      ]
    },
    {
      "cell_type": "markdown",
      "metadata": {
        "id": "kBcgLphXmlNX"
      },
      "source": [
        "### Dataset Overview\n",
        "The dataset consists of 10,000 randomly selected snapshots from soccer matches, each capturing the in-game state at a specific timestamp. Each row represents a snapshot, detailing scores, possession, and other match features, which collectively provide a momentary overview of game dynamics (Anguera et al., 2018).\n",
        "\n",
        "### Data Collection\n",
        "This dataset was collected through in-game analytics systems that continuously monitor and record essential match metrics. Although highly detailed, this collection method might introduce minor noise due to the rapid state changes inherent in live sports (Yin & Leong, 2017).\n",
        "\n",
        "### Dataset Structure \n",
        "- **Rows**: Each row represents a single timestamp during a soccer match.\n",
        "- **Columns**: Key features include:\n",
        "  - **Identifier**: `uuid` - Unique identifier for each snapshot.\n",
        "  - **Time**: `current_minute` - Game minute, including a 15-minute half-time, making the total match time 105 minutes.\n",
        "  - **Scores**: `home_score`, `away_score`\n",
        "  - **Cards**: Yellow and red cards for both teams.\n",
        "  - **Gameplay Metrics**: Attacks, dangerous attacks, and shots on/off target for each team.\n",
        "  - **Possession**: Ball possession percentages for each team.\n",
        "  - **Target**: `final_delta` - The number of goals scored by any team. The target value for the prediction.\n",
        "\n",
        "---\n"
      ]
    },
    {
      "cell_type": "markdown",
      "metadata": {
        "id": "Pi0o2tFkht5z"
      },
      "source": [
        "# **Section 3: List of requirements**"
      ]
    },
    {
      "cell_type": "markdown",
      "metadata": {
        "id": "8hIJx0qDnHhn"
      },
      "source": [
        "### Python Libraries\n",
        "\n",
        "\n",
        "> Add more if may gagamitin pa\n",
        "\n",
        "\n",
        "The following libraries are required to support data analysis, model training, and evaluation:\n",
        "- **Data Manipulation**:\n",
        "  - `pandas`: Data manipulation and cleaning (McKinney, 2011).\n",
        "  - `numpy`: Numerical operations (Oliphant, 2006).\n",
        "- **Data Visualization**:\n",
        "  - `matplotlib`: For line and bar charts (Hunter, 2007).\n",
        "  - `seaborn`: For statistical graphics (Waskom, 2021).\n",
        "- **Machine Learning and Model Evaluation**:\n",
        "  - `scikit-learn`: For k-NN, Linear Regression, Neural Networks, and model validation (Pedregosa et al., 2011).\n",
        "  - `tensorflow` or `keras`: For training Neural Networks.\n",
        "- **Hyperparameter Tuning**:\n",
        "  - `scikit-learn`: For grid search and random search.\n",
        "- **Metrics**:\n",
        "  - `scikit-learn.metrics`: For accuracy, precision, recall, and confusion matrices.\n",
        "---\n"
      ]
    },
    {
      "cell_type": "code",
      "execution_count": 1,
      "metadata": {
        "id": "QaJg3H7UVhx6"
      },
      "outputs": [],
      "source": [
        "# Data Manipulation\n",
        "import numpy as np\n",
        "import pandas as pd\n",
        "from scipy import stats\n",
        "\n",
        "# Visualization\n",
        "import matplotlib.pyplot as plt\n",
        "import seaborn as sns\n",
        "\n",
        "# Preprocessing\n",
        "from sklearn.preprocessing import StandardScaler\n",
        "from sklearn.model_selection import train_test_split, GridSearchCV\n",
        "\n",
        "# Machine Learning Models\n",
        "from sklearn.neighbors import KNeighborsClassifier\n",
        "from sklearn.linear_model import LinearRegression\n",
        "from sklearn.ensemble import RandomForestClassifier\n",
        "from sklearn.neural_network import MLPClassifier\n",
        "\n",
        "# Evaluation Metrics\n",
        "from sklearn.metrics import accuracy_score, precision_score, recall_score, confusion_matrix"
      ]
    },
    {
      "cell_type": "markdown",
      "metadata": {
        "id": "RE20JWU4h3_m"
      },
      "source": [
        "# **Section 4: Data preprocessing and cleaning**"
      ]
    },
    {
      "cell_type": "markdown",
      "metadata": {
        "id": "ggfhStKWnSSm"
      },
      "source": [
        "#### Cleaning Steps\n",
        "- **Checking for Duplicates**: Removing redundant rows to ensure unique snapshots.\n",
        "- **Type Conversion**: Ensuring all features are in suitable formats (e.g., integer for score-related features, float for percentages).\n",
        "- **Handling Missing Values**: Uses techniques like imputation if necessary, based on the dataset's nature.\n",
        "- **Outlier Detection**: Detects anomalies in numerical features, which may skew predictions if left unaddressed.\n",
        "\n",
        "#### Preprocessing Techniques\n",
        "Key techniques include:\n",
        "- **Feature Scaling**: Since features have different units (e.g., score vs. possession percentage), scaling is essential to ensure model performance, particularly for k-NN and Neural Networks (Han et al., 2011).\n",
        "- `ADD AS YOU SEE FIT`"
      ]
    },
    {
      "cell_type": "markdown",
      "metadata": {
        "id": "DlgBQWMVC7P4"
      },
      "source": [
        "### **I. Load and Inspect the Data**\n",
        "- Initial Check: Start by inspecting the data types, missing values, and unique values. This helps determine what cleaning actions are necessary (Han et al., 2011).\n",
        "- Data Types: Confirm the data types for each column, ensuring numerical values are correctly identified for calculations and models.\n"
      ]
    },
    {
      "cell_type": "code",
      "execution_count": 2,
      "metadata": {},
      "outputs": [
        {
          "data": {
            "text/html": [
              "<div>\n",
              "<style scoped>\n",
              "    .dataframe tbody tr th:only-of-type {\n",
              "        vertical-align: middle;\n",
              "    }\n",
              "\n",
              "    .dataframe tbody tr th {\n",
              "        vertical-align: top;\n",
              "    }\n",
              "\n",
              "    .dataframe thead th {\n",
              "        text-align: right;\n",
              "    }\n",
              "</style>\n",
              "<table border=\"1\" class=\"dataframe\">\n",
              "  <thead>\n",
              "    <tr style=\"text-align: right;\">\n",
              "      <th></th>\n",
              "      <th>current_minute</th>\n",
              "      <th>home_score</th>\n",
              "      <th>away_score</th>\n",
              "      <th>home_yellow_cards</th>\n",
              "      <th>away_yellow_cards</th>\n",
              "      <th>home_red_cards</th>\n",
              "      <th>away_red_cards</th>\n",
              "      <th>home_attacks</th>\n",
              "      <th>away_attacks</th>\n",
              "      <th>home_dangerous_attacks</th>\n",
              "      <th>away_dangerous_attacks</th>\n",
              "      <th>home_corners</th>\n",
              "      <th>away_corners</th>\n",
              "      <th>home_off_target</th>\n",
              "      <th>away_off_target</th>\n",
              "      <th>home_on_target</th>\n",
              "      <th>away_on_target</th>\n",
              "      <th>home_possession</th>\n",
              "      <th>away_possession</th>\n",
              "      <th>final_delta</th>\n",
              "    </tr>\n",
              "    <tr>\n",
              "      <th>uuid</th>\n",
              "      <th></th>\n",
              "      <th></th>\n",
              "      <th></th>\n",
              "      <th></th>\n",
              "      <th></th>\n",
              "      <th></th>\n",
              "      <th></th>\n",
              "      <th></th>\n",
              "      <th></th>\n",
              "      <th></th>\n",
              "      <th></th>\n",
              "      <th></th>\n",
              "      <th></th>\n",
              "      <th></th>\n",
              "      <th></th>\n",
              "      <th></th>\n",
              "      <th></th>\n",
              "      <th></th>\n",
              "      <th></th>\n",
              "      <th></th>\n",
              "    </tr>\n",
              "  </thead>\n",
              "  <tbody>\n",
              "    <tr>\n",
              "      <th>2f9dd904-8d9d-4aa0-a9d9-4e0f3e50d742</th>\n",
              "      <td>94</td>\n",
              "      <td>1</td>\n",
              "      <td>2</td>\n",
              "      <td>0</td>\n",
              "      <td>0</td>\n",
              "      <td>0</td>\n",
              "      <td>0</td>\n",
              "      <td>39</td>\n",
              "      <td>45</td>\n",
              "      <td>29</td>\n",
              "      <td>26</td>\n",
              "      <td>4</td>\n",
              "      <td>1</td>\n",
              "      <td>4</td>\n",
              "      <td>0</td>\n",
              "      <td>4</td>\n",
              "      <td>6</td>\n",
              "      <td>48</td>\n",
              "      <td>52</td>\n",
              "      <td>1</td>\n",
              "    </tr>\n",
              "    <tr>\n",
              "      <th>869c1420-9153-4d73-8d79-5db31a8a80a4</th>\n",
              "      <td>91</td>\n",
              "      <td>2</td>\n",
              "      <td>0</td>\n",
              "      <td>0</td>\n",
              "      <td>0</td>\n",
              "      <td>0</td>\n",
              "      <td>0</td>\n",
              "      <td>0</td>\n",
              "      <td>0</td>\n",
              "      <td>0</td>\n",
              "      <td>0</td>\n",
              "      <td>0</td>\n",
              "      <td>0</td>\n",
              "      <td>0</td>\n",
              "      <td>0</td>\n",
              "      <td>0</td>\n",
              "      <td>0</td>\n",
              "      <td>50</td>\n",
              "      <td>50</td>\n",
              "      <td>1</td>\n",
              "    </tr>\n",
              "    <tr>\n",
              "      <th>549e25a3-4c93-459d-b115-fb303273c78a</th>\n",
              "      <td>3</td>\n",
              "      <td>0</td>\n",
              "      <td>0</td>\n",
              "      <td>0</td>\n",
              "      <td>0</td>\n",
              "      <td>0</td>\n",
              "      <td>0</td>\n",
              "      <td>3</td>\n",
              "      <td>1</td>\n",
              "      <td>1</td>\n",
              "      <td>0</td>\n",
              "      <td>0</td>\n",
              "      <td>0</td>\n",
              "      <td>0</td>\n",
              "      <td>0</td>\n",
              "      <td>0</td>\n",
              "      <td>0</td>\n",
              "      <td>62</td>\n",
              "      <td>38</td>\n",
              "      <td>4</td>\n",
              "    </tr>\n",
              "    <tr>\n",
              "      <th>287b4be5-9163-4e2e-895d-d11052a97410</th>\n",
              "      <td>17</td>\n",
              "      <td>0</td>\n",
              "      <td>0</td>\n",
              "      <td>1</td>\n",
              "      <td>0</td>\n",
              "      <td>0</td>\n",
              "      <td>0</td>\n",
              "      <td>41</td>\n",
              "      <td>46</td>\n",
              "      <td>11</td>\n",
              "      <td>25</td>\n",
              "      <td>1</td>\n",
              "      <td>0</td>\n",
              "      <td>0</td>\n",
              "      <td>2</td>\n",
              "      <td>0</td>\n",
              "      <td>0</td>\n",
              "      <td>55</td>\n",
              "      <td>45</td>\n",
              "      <td>2</td>\n",
              "    </tr>\n",
              "    <tr>\n",
              "      <th>a607da6a-d6b2-4652-b7a5-6c8e4b61c2b8</th>\n",
              "      <td>76</td>\n",
              "      <td>1</td>\n",
              "      <td>0</td>\n",
              "      <td>1</td>\n",
              "      <td>0</td>\n",
              "      <td>0</td>\n",
              "      <td>0</td>\n",
              "      <td>69</td>\n",
              "      <td>78</td>\n",
              "      <td>21</td>\n",
              "      <td>46</td>\n",
              "      <td>1</td>\n",
              "      <td>1</td>\n",
              "      <td>0</td>\n",
              "      <td>3</td>\n",
              "      <td>4</td>\n",
              "      <td>4</td>\n",
              "      <td>45</td>\n",
              "      <td>55</td>\n",
              "      <td>0</td>\n",
              "    </tr>\n",
              "  </tbody>\n",
              "</table>\n",
              "</div>"
            ],
            "text/plain": [
              "                                      current_minute  home_score  away_score  \\\n",
              "uuid                                                                           \n",
              "2f9dd904-8d9d-4aa0-a9d9-4e0f3e50d742              94           1           2   \n",
              "869c1420-9153-4d73-8d79-5db31a8a80a4              91           2           0   \n",
              "549e25a3-4c93-459d-b115-fb303273c78a               3           0           0   \n",
              "287b4be5-9163-4e2e-895d-d11052a97410              17           0           0   \n",
              "a607da6a-d6b2-4652-b7a5-6c8e4b61c2b8              76           1           0   \n",
              "\n",
              "                                      home_yellow_cards  away_yellow_cards  \\\n",
              "uuid                                                                         \n",
              "2f9dd904-8d9d-4aa0-a9d9-4e0f3e50d742                  0                  0   \n",
              "869c1420-9153-4d73-8d79-5db31a8a80a4                  0                  0   \n",
              "549e25a3-4c93-459d-b115-fb303273c78a                  0                  0   \n",
              "287b4be5-9163-4e2e-895d-d11052a97410                  1                  0   \n",
              "a607da6a-d6b2-4652-b7a5-6c8e4b61c2b8                  1                  0   \n",
              "\n",
              "                                      home_red_cards  away_red_cards  \\\n",
              "uuid                                                                   \n",
              "2f9dd904-8d9d-4aa0-a9d9-4e0f3e50d742               0               0   \n",
              "869c1420-9153-4d73-8d79-5db31a8a80a4               0               0   \n",
              "549e25a3-4c93-459d-b115-fb303273c78a               0               0   \n",
              "287b4be5-9163-4e2e-895d-d11052a97410               0               0   \n",
              "a607da6a-d6b2-4652-b7a5-6c8e4b61c2b8               0               0   \n",
              "\n",
              "                                      home_attacks  away_attacks  \\\n",
              "uuid                                                               \n",
              "2f9dd904-8d9d-4aa0-a9d9-4e0f3e50d742            39            45   \n",
              "869c1420-9153-4d73-8d79-5db31a8a80a4             0             0   \n",
              "549e25a3-4c93-459d-b115-fb303273c78a             3             1   \n",
              "287b4be5-9163-4e2e-895d-d11052a97410            41            46   \n",
              "a607da6a-d6b2-4652-b7a5-6c8e4b61c2b8            69            78   \n",
              "\n",
              "                                      home_dangerous_attacks  \\\n",
              "uuid                                                           \n",
              "2f9dd904-8d9d-4aa0-a9d9-4e0f3e50d742                      29   \n",
              "869c1420-9153-4d73-8d79-5db31a8a80a4                       0   \n",
              "549e25a3-4c93-459d-b115-fb303273c78a                       1   \n",
              "287b4be5-9163-4e2e-895d-d11052a97410                      11   \n",
              "a607da6a-d6b2-4652-b7a5-6c8e4b61c2b8                      21   \n",
              "\n",
              "                                      away_dangerous_attacks  home_corners  \\\n",
              "uuid                                                                         \n",
              "2f9dd904-8d9d-4aa0-a9d9-4e0f3e50d742                      26             4   \n",
              "869c1420-9153-4d73-8d79-5db31a8a80a4                       0             0   \n",
              "549e25a3-4c93-459d-b115-fb303273c78a                       0             0   \n",
              "287b4be5-9163-4e2e-895d-d11052a97410                      25             1   \n",
              "a607da6a-d6b2-4652-b7a5-6c8e4b61c2b8                      46             1   \n",
              "\n",
              "                                      away_corners  home_off_target  \\\n",
              "uuid                                                                  \n",
              "2f9dd904-8d9d-4aa0-a9d9-4e0f3e50d742             1                4   \n",
              "869c1420-9153-4d73-8d79-5db31a8a80a4             0                0   \n",
              "549e25a3-4c93-459d-b115-fb303273c78a             0                0   \n",
              "287b4be5-9163-4e2e-895d-d11052a97410             0                0   \n",
              "a607da6a-d6b2-4652-b7a5-6c8e4b61c2b8             1                0   \n",
              "\n",
              "                                      away_off_target  home_on_target  \\\n",
              "uuid                                                                    \n",
              "2f9dd904-8d9d-4aa0-a9d9-4e0f3e50d742                0               4   \n",
              "869c1420-9153-4d73-8d79-5db31a8a80a4                0               0   \n",
              "549e25a3-4c93-459d-b115-fb303273c78a                0               0   \n",
              "287b4be5-9163-4e2e-895d-d11052a97410                2               0   \n",
              "a607da6a-d6b2-4652-b7a5-6c8e4b61c2b8                3               4   \n",
              "\n",
              "                                      away_on_target  home_possession  \\\n",
              "uuid                                                                    \n",
              "2f9dd904-8d9d-4aa0-a9d9-4e0f3e50d742               6               48   \n",
              "869c1420-9153-4d73-8d79-5db31a8a80a4               0               50   \n",
              "549e25a3-4c93-459d-b115-fb303273c78a               0               62   \n",
              "287b4be5-9163-4e2e-895d-d11052a97410               0               55   \n",
              "a607da6a-d6b2-4652-b7a5-6c8e4b61c2b8               4               45   \n",
              "\n",
              "                                      away_possession  final_delta  \n",
              "uuid                                                                \n",
              "2f9dd904-8d9d-4aa0-a9d9-4e0f3e50d742               52            1  \n",
              "869c1420-9153-4d73-8d79-5db31a8a80a4               50            1  \n",
              "549e25a3-4c93-459d-b115-fb303273c78a               38            4  \n",
              "287b4be5-9163-4e2e-895d-d11052a97410               45            2  \n",
              "a607da6a-d6b2-4652-b7a5-6c8e4b61c2b8               55            0  "
            ]
          },
          "execution_count": 2,
          "metadata": {},
          "output_type": "execute_result"
        }
      ],
      "source": [
        "df = pd.read_csv('sports.csv', index_col=\"uuid\")\n",
        "df.head()"
      ]
    },
    {
      "cell_type": "code",
      "execution_count": 3,
      "metadata": {},
      "outputs": [
        {
          "name": "stdout",
          "output_type": "stream",
          "text": [
            "<class 'pandas.core.frame.DataFrame'>\n",
            "RangeIndex: 7000 entries, 0 to 6999\n",
            "Data columns (total 20 columns):\n",
            " #   Column                  Non-Null Count  Dtype\n",
            "---  ------                  --------------  -----\n",
            " 0   current_minute          7000 non-null   int64\n",
            " 1   home_score              7000 non-null   int64\n",
            " 2   away_score              7000 non-null   int64\n",
            " 3   home_yellow_cards       7000 non-null   int64\n",
            " 4   away_yellow_cards       7000 non-null   int64\n",
            " 5   home_red_cards          7000 non-null   int64\n",
            " 6   away_red_cards          7000 non-null   int64\n",
            " 7   home_attacks            7000 non-null   int64\n",
            " 8   away_attacks            7000 non-null   int64\n",
            " 9   home_dangerous_attacks  7000 non-null   int64\n",
            " 10  away_dangerous_attacks  7000 non-null   int64\n",
            " 11  home_corners            7000 non-null   int64\n",
            " 12  away_corners            7000 non-null   int64\n",
            " 13  home_off_target         7000 non-null   int64\n",
            " 14  away_off_target         7000 non-null   int64\n",
            " 15  home_on_target          7000 non-null   int64\n",
            " 16  away_on_target          7000 non-null   int64\n",
            " 17  home_possession         7000 non-null   int64\n",
            " 18  away_possession         7000 non-null   int64\n",
            " 19  final_delta             7000 non-null   int64\n",
            "dtypes: int64(20)\n",
            "memory usage: 1.1 MB\n"
          ]
        }
      ],
      "source": [
        "df = df.reset_index(col_level=0)\n",
        "df = df.drop('uuid', axis=1)\n",
        "df.info()"
      ]
    },
    {
      "cell_type": "markdown",
      "metadata": {},
      "source": [
        "#### Check ranges of values for each feature to determine invalid / unrealistic values"
      ]
    },
    {
      "cell_type": "code",
      "execution_count": 4,
      "metadata": {},
      "outputs": [
        {
          "data": {
            "text/html": [
              "<div>\n",
              "<style scoped>\n",
              "    .dataframe tbody tr th:only-of-type {\n",
              "        vertical-align: middle;\n",
              "    }\n",
              "\n",
              "    .dataframe tbody tr th {\n",
              "        vertical-align: top;\n",
              "    }\n",
              "\n",
              "    .dataframe thead th {\n",
              "        text-align: right;\n",
              "    }\n",
              "</style>\n",
              "<table border=\"1\" class=\"dataframe\">\n",
              "  <thead>\n",
              "    <tr style=\"text-align: right;\">\n",
              "      <th></th>\n",
              "      <th>min</th>\n",
              "      <th>max</th>\n",
              "      <th>median</th>\n",
              "      <th>mean</th>\n",
              "    </tr>\n",
              "  </thead>\n",
              "  <tbody>\n",
              "    <tr>\n",
              "      <th>current_minute</th>\n",
              "      <td>-348.0</td>\n",
              "      <td>583.0</td>\n",
              "      <td>70.0</td>\n",
              "      <td>59.491571</td>\n",
              "    </tr>\n",
              "    <tr>\n",
              "      <th>home_score</th>\n",
              "      <td>0.0</td>\n",
              "      <td>8.0</td>\n",
              "      <td>0.0</td>\n",
              "      <td>0.796000</td>\n",
              "    </tr>\n",
              "    <tr>\n",
              "      <th>away_score</th>\n",
              "      <td>0.0</td>\n",
              "      <td>9.0</td>\n",
              "      <td>0.0</td>\n",
              "      <td>0.623143</td>\n",
              "    </tr>\n",
              "    <tr>\n",
              "      <th>home_yellow_cards</th>\n",
              "      <td>0.0</td>\n",
              "      <td>8.0</td>\n",
              "      <td>0.0</td>\n",
              "      <td>0.522429</td>\n",
              "    </tr>\n",
              "    <tr>\n",
              "      <th>away_yellow_cards</th>\n",
              "      <td>0.0</td>\n",
              "      <td>8.0</td>\n",
              "      <td>0.0</td>\n",
              "      <td>0.603143</td>\n",
              "    </tr>\n",
              "    <tr>\n",
              "      <th>home_red_cards</th>\n",
              "      <td>0.0</td>\n",
              "      <td>2.0</td>\n",
              "      <td>0.0</td>\n",
              "      <td>0.009286</td>\n",
              "    </tr>\n",
              "    <tr>\n",
              "      <th>away_red_cards</th>\n",
              "      <td>0.0</td>\n",
              "      <td>2.0</td>\n",
              "      <td>0.0</td>\n",
              "      <td>0.015714</td>\n",
              "    </tr>\n",
              "    <tr>\n",
              "      <th>home_attacks</th>\n",
              "      <td>0.0</td>\n",
              "      <td>255.0</td>\n",
              "      <td>43.0</td>\n",
              "      <td>46.365429</td>\n",
              "    </tr>\n",
              "    <tr>\n",
              "      <th>away_attacks</th>\n",
              "      <td>0.0</td>\n",
              "      <td>183.0</td>\n",
              "      <td>41.0</td>\n",
              "      <td>43.325143</td>\n",
              "    </tr>\n",
              "    <tr>\n",
              "      <th>home_dangerous_attacks</th>\n",
              "      <td>0.0</td>\n",
              "      <td>134.0</td>\n",
              "      <td>25.0</td>\n",
              "      <td>27.611429</td>\n",
              "    </tr>\n",
              "    <tr>\n",
              "      <th>away_dangerous_attacks</th>\n",
              "      <td>0.0</td>\n",
              "      <td>140.0</td>\n",
              "      <td>21.0</td>\n",
              "      <td>24.201286</td>\n",
              "    </tr>\n",
              "    <tr>\n",
              "      <th>home_corners</th>\n",
              "      <td>0.0</td>\n",
              "      <td>16.0</td>\n",
              "      <td>2.0</td>\n",
              "      <td>2.377714</td>\n",
              "    </tr>\n",
              "    <tr>\n",
              "      <th>away_corners</th>\n",
              "      <td>0.0</td>\n",
              "      <td>18.0</td>\n",
              "      <td>1.0</td>\n",
              "      <td>1.994286</td>\n",
              "    </tr>\n",
              "    <tr>\n",
              "      <th>home_off_target</th>\n",
              "      <td>0.0</td>\n",
              "      <td>24.0</td>\n",
              "      <td>2.0</td>\n",
              "      <td>3.067857</td>\n",
              "    </tr>\n",
              "    <tr>\n",
              "      <th>away_off_target</th>\n",
              "      <td>0.0</td>\n",
              "      <td>18.0</td>\n",
              "      <td>2.0</td>\n",
              "      <td>2.592286</td>\n",
              "    </tr>\n",
              "    <tr>\n",
              "      <th>home_on_target</th>\n",
              "      <td>0.0</td>\n",
              "      <td>22.0</td>\n",
              "      <td>2.0</td>\n",
              "      <td>2.172143</td>\n",
              "    </tr>\n",
              "    <tr>\n",
              "      <th>away_on_target</th>\n",
              "      <td>0.0</td>\n",
              "      <td>19.0</td>\n",
              "      <td>1.0</td>\n",
              "      <td>1.796000</td>\n",
              "    </tr>\n",
              "    <tr>\n",
              "      <th>home_possession</th>\n",
              "      <td>0.0</td>\n",
              "      <td>100.0</td>\n",
              "      <td>51.0</td>\n",
              "      <td>51.584286</td>\n",
              "    </tr>\n",
              "    <tr>\n",
              "      <th>away_possession</th>\n",
              "      <td>0.0</td>\n",
              "      <td>100.0</td>\n",
              "      <td>49.0</td>\n",
              "      <td>48.412571</td>\n",
              "    </tr>\n",
              "    <tr>\n",
              "      <th>final_delta</th>\n",
              "      <td>-2.0</td>\n",
              "      <td>10.0</td>\n",
              "      <td>1.0</td>\n",
              "      <td>1.416857</td>\n",
              "    </tr>\n",
              "  </tbody>\n",
              "</table>\n",
              "</div>"
            ],
            "text/plain": [
              "                          min    max  median       mean\n",
              "current_minute         -348.0  583.0    70.0  59.491571\n",
              "home_score                0.0    8.0     0.0   0.796000\n",
              "away_score                0.0    9.0     0.0   0.623143\n",
              "home_yellow_cards         0.0    8.0     0.0   0.522429\n",
              "away_yellow_cards         0.0    8.0     0.0   0.603143\n",
              "home_red_cards            0.0    2.0     0.0   0.009286\n",
              "away_red_cards            0.0    2.0     0.0   0.015714\n",
              "home_attacks              0.0  255.0    43.0  46.365429\n",
              "away_attacks              0.0  183.0    41.0  43.325143\n",
              "home_dangerous_attacks    0.0  134.0    25.0  27.611429\n",
              "away_dangerous_attacks    0.0  140.0    21.0  24.201286\n",
              "home_corners              0.0   16.0     2.0   2.377714\n",
              "away_corners              0.0   18.0     1.0   1.994286\n",
              "home_off_target           0.0   24.0     2.0   3.067857\n",
              "away_off_target           0.0   18.0     2.0   2.592286\n",
              "home_on_target            0.0   22.0     2.0   2.172143\n",
              "away_on_target            0.0   19.0     1.0   1.796000\n",
              "home_possession           0.0  100.0    51.0  51.584286\n",
              "away_possession           0.0  100.0    49.0  48.412571\n",
              "final_delta              -2.0   10.0     1.0   1.416857"
            ]
          },
          "execution_count": 4,
          "metadata": {},
          "output_type": "execute_result"
        }
      ],
      "source": [
        "# Statistical Summaries of All Feature \n",
        "df.agg(['min', 'max', 'median', 'mean']).T"
      ]
    },
    {
      "cell_type": "markdown",
      "metadata": {
        "id": "UpNlw79oDQTy"
      },
      "source": [
        "### II. Remove Unrealistic Values and Outliers\n",
        "- Current Minute: Limit values between 0 and 105 (including a 90-minute match plus 15 minutes for half-time).\n",
        "- Yellow Cards: Set a threshold of 5 yellow cards per team, as higher values are rare.\n",
        "Attacks and Dangerous Attacks: Apply upper bounds of 150 for attacks and 100 for dangerous attacks, considering typical gameplay stats.\n",
        "`may citation ba 2 / src?`\n",
        "\n",
        "- Possession Percentages: Filter for rows where the sum of home_possession and away_possession is close to 100%, with a tolerance of ±2% to give way for rounding discrepancies\n",
        "\n",
        "- final_delta: Filter out negative values, since goals should be a nonnegative value"
      ]
    },
    {
      "cell_type": "code",
      "execution_count": 5,
      "metadata": {
        "id": "RgeLJw_gDepa"
      },
      "outputs": [],
      "source": [
        "# Filter for realistic match time\n",
        "df = df[(df['current_minute'] >= 0) & (df['current_minute'] <= 105)]\n",
        "\n",
        "# Limit yellow cards to realistic maximum\n",
        "df = df[(df['home_yellow_cards'] <= 5) & (df['away_yellow_cards'] <= 5)]\n",
        "\n",
        "# Limit attacks and dangerous attacks\n",
        "df = df[(df['home_attacks'] <= 150) & (df['away_attacks'] <= 150)]\n",
        "df = df[(df['home_dangerous_attacks'] <= 100) & (df['away_dangerous_attacks'] <= 100)]\n",
        "\n",
        "# Check possession totals with a tolerance\n",
        "df = df[np.isclose(df['home_possession'] + df['away_possession'], 100, atol=2)]\n",
        "\n"
      ]
    },
    {
      "cell_type": "code",
      "execution_count": 6,
      "metadata": {},
      "outputs": [
        {
          "name": "stdout",
          "output_type": "stream",
          "text": [
            "Number of rows: 6732\n",
            "After dropping: 6729 (-3)\n"
          ]
        }
      ],
      "source": [
        "# Only include rows with nonnegative final_delta\n",
        "df_len = len(df)\n",
        "print(f'Number of rows: {df_len}')\n",
        "df = df.drop(df[df['final_delta'] < 0].index)\n",
        "print(f'After dropping: {len(df)} (-{df_len- len(df)})')"
      ]
    },
    {
      "cell_type": "code",
      "execution_count": 7,
      "metadata": {},
      "outputs": [
        {
          "name": "stdout",
          "output_type": "stream",
          "text": [
            "Number of duplicate rows: 103\n"
          ]
        }
      ],
      "source": [
        "dupes = df.duplicated().sum()\n",
        "print(f'Number of duplicate rows: {dupes}')\n",
        "\n",
        "df = df.drop_duplicates()"
      ]
    },
    {
      "cell_type": "markdown",
      "metadata": {},
      "source": [
        "### **III. Normalize Features**\n",
        "- For `current_minute`, disregard half-time break of 15 minutes since the snapshot does not change within this period"
      ]
    },
    {
      "cell_type": "code",
      "execution_count": 8,
      "metadata": {},
      "outputs": [
        {
          "name": "stdout",
          "output_type": "stream",
          "text": [
            "Number of rows affected: 3749\n"
          ]
        }
      ],
      "source": [
        "# if current_minute in (45,60) then set to 45 (currently on break)\n",
        "# if current_minute > 60, subtract by 15\n",
        "\n",
        "original_minutes = df['current_minute'].copy()\n",
        "\n",
        "df['current_minute'] = df['current_minute'].apply(\n",
        "    lambda x: 45 if x in [45, 60] else (x - 15 if x > 60 else x)\n",
        ")\n",
        "\n",
        "# Count the number of rows affected\n",
        "rows_affected = (df['current_minute'] != original_minutes).sum()\n",
        "print(f'Number of rows affected: {rows_affected}')"
      ]
    },
    {
      "cell_type": "markdown",
      "metadata": {
        "id": "i-Ew31hAFVkA"
      },
      "source": [
        "### **IV. Feature Engineering**\n",
        "- Adding new features can capture dynamics between the two teams and improve predictive performance:\n",
        "  * Goal Difference: A feature that shows the goal lead or deficit, useful in classification tasks related to match outcome (Kuhn & Johnson, 2013).\n",
        "  * Attack Efficiency: Calculate the ratio of on-target shots to total shots, showing how effectively each team converts attacks into potential goals.\n",
        "  * Possession Balance: Calculating the difference in possession provides insight into the team that controls the game."
      ]
    },
    {
      "cell_type": "code",
      "execution_count": 9,
      "metadata": {
        "id": "_WhwFm6XFfct"
      },
      "outputs": [],
      "source": [
        "# Create engineered features\n",
        "df['goal_difference'] = df['home_score'] - df['away_score'] \n",
        "df['home_attack_efficiency'] = df['home_on_target'] / (df['home_on_target'] + df['home_off_target'] + 1e-5)\n",
        "df['away_attack_efficiency'] = df['away_on_target'] / (df['away_on_target'] + df['away_off_target'] + 1e-5)\n",
        "df['possession_balance'] = df['home_possession'] - df['away_possession']\n",
        "\n",
        "df = df.drop([\"home_score\", \"away_score\", \n",
        "              \"home_on_target\", \"away_on_target\",\n",
        "              \"home_off_target\",\"away_off_target\", \n",
        "              \"home_possession\", \"away_possession\"], \n",
        "              axis=1)"
      ]
    },
    {
      "cell_type": "markdown",
      "metadata": {
        "id": "Z4ar4GAyMiHY"
      },
      "source": [
        "### VI. Final Checks\n",
        "- Cap Extreme Efficiency Ratios: Limit values for home_attack_efficiency and away_attack_efficiency to a reasonable upper bound (e.g., 1 for 100% efficiency).\n",
        "- Recheck for NaNs: After calculating efficiency ratios and capping values, ensure no NaNs were introduced.\n"
      ]
    },
    {
      "cell_type": "code",
      "execution_count": 24,
      "metadata": {
        "colab": {
          "base_uri": "https://localhost:8080/"
        },
        "id": "eiYXMVXoMgS_",
        "outputId": "cffc0dcd-eb91-4342-8b62-d12c54928feb"
      },
      "outputs": [
        {
          "name": "stdout",
          "output_type": "stream",
          "text": [
            "count    6629.000000\n",
            "mean        0.336934\n",
            "std         0.300913\n",
            "min         0.000000\n",
            "25%         0.000000\n",
            "50%         0.333332\n",
            "75%         0.499999\n",
            "max         0.999999\n",
            "Name: home_attack_efficiency, dtype: float64\n",
            "count    6629.000000\n",
            "mean        0.323278\n",
            "std         0.307077\n",
            "min         0.000000\n",
            "25%         0.000000\n",
            "50%         0.333332\n",
            "75%         0.499999\n",
            "max         0.999999\n",
            "Name: away_attack_efficiency, dtype: float64\n",
            "Number of NaNs:  current_minute            0\n",
            "home_yellow_cards         0\n",
            "away_yellow_cards         0\n",
            "home_red_cards            0\n",
            "away_red_cards            0\n",
            "home_attacks              0\n",
            "away_attacks              0\n",
            "home_dangerous_attacks    0\n",
            "away_dangerous_attacks    0\n",
            "home_corners              0\n",
            "away_corners              0\n",
            "final_delta               0\n",
            "goal_difference           0\n",
            "home_attack_efficiency    0\n",
            "away_attack_efficiency    0\n",
            "possession_balance        0\n",
            "dtype: int64\n"
          ]
        }
      ],
      "source": [
        "print(df['home_attack_efficiency'].describe())\n",
        "print(df['away_attack_efficiency'].describe())\n",
        "print(\"Number of NaNs: \", df.isna().sum())  # Confirm no missing values remain\n"
      ]
    },
    {
      "cell_type": "markdown",
      "metadata": {
        "id": "xGdFQQdfF_NO"
      },
      "source": [
        "### VIII. Final Validation:\n",
        "- Data Type Validation: Ensure all features are correctly typed as either integer or float.\n",
        "- Feature Correlation: Check correlations to identify highly correlated variables, which may inform feature selection (if necessary)."
      ]
    },
    {
      "cell_type": "code",
      "execution_count": 26,
      "metadata": {
        "colab": {
          "base_uri": "https://localhost:8080/"
        },
        "id": "GmVtqlRtGIod",
        "outputId": "52d7cbba-b61c-49ba-bb7c-7d6212511e80"
      },
      "outputs": [
        {
          "data": {
            "text/html": [
              "<div>\n",
              "<style scoped>\n",
              "    .dataframe tbody tr th:only-of-type {\n",
              "        vertical-align: middle;\n",
              "    }\n",
              "\n",
              "    .dataframe tbody tr th {\n",
              "        vertical-align: top;\n",
              "    }\n",
              "\n",
              "    .dataframe thead th {\n",
              "        text-align: right;\n",
              "    }\n",
              "</style>\n",
              "<table border=\"1\" class=\"dataframe\">\n",
              "  <thead>\n",
              "    <tr style=\"text-align: right;\">\n",
              "      <th></th>\n",
              "      <th>min</th>\n",
              "      <th>max</th>\n",
              "      <th>median</th>\n",
              "      <th>mean</th>\n",
              "    </tr>\n",
              "  </thead>\n",
              "  <tbody>\n",
              "    <tr>\n",
              "      <th>current_minute</th>\n",
              "      <td>0.0</td>\n",
              "      <td>90.000000</td>\n",
              "      <td>54.000000</td>\n",
              "      <td>49.603711</td>\n",
              "    </tr>\n",
              "    <tr>\n",
              "      <th>home_yellow_cards</th>\n",
              "      <td>0.0</td>\n",
              "      <td>5.000000</td>\n",
              "      <td>0.000000</td>\n",
              "      <td>0.497360</td>\n",
              "    </tr>\n",
              "    <tr>\n",
              "      <th>away_yellow_cards</th>\n",
              "      <td>0.0</td>\n",
              "      <td>5.000000</td>\n",
              "      <td>0.000000</td>\n",
              "      <td>0.572786</td>\n",
              "    </tr>\n",
              "    <tr>\n",
              "      <th>home_red_cards</th>\n",
              "      <td>0.0</td>\n",
              "      <td>2.000000</td>\n",
              "      <td>0.000000</td>\n",
              "      <td>0.008749</td>\n",
              "    </tr>\n",
              "    <tr>\n",
              "      <th>away_red_cards</th>\n",
              "      <td>0.0</td>\n",
              "      <td>2.000000</td>\n",
              "      <td>0.000000</td>\n",
              "      <td>0.014482</td>\n",
              "    </tr>\n",
              "    <tr>\n",
              "      <th>home_attacks</th>\n",
              "      <td>0.0</td>\n",
              "      <td>150.000000</td>\n",
              "      <td>42.000000</td>\n",
              "      <td>45.141198</td>\n",
              "    </tr>\n",
              "    <tr>\n",
              "      <th>away_attacks</th>\n",
              "      <td>0.0</td>\n",
              "      <td>148.000000</td>\n",
              "      <td>40.000000</td>\n",
              "      <td>42.458289</td>\n",
              "    </tr>\n",
              "    <tr>\n",
              "      <th>home_dangerous_attacks</th>\n",
              "      <td>0.0</td>\n",
              "      <td>100.000000</td>\n",
              "      <td>24.000000</td>\n",
              "      <td>26.832101</td>\n",
              "    </tr>\n",
              "    <tr>\n",
              "      <th>away_dangerous_attacks</th>\n",
              "      <td>0.0</td>\n",
              "      <td>97.000000</td>\n",
              "      <td>21.000000</td>\n",
              "      <td>23.745965</td>\n",
              "    </tr>\n",
              "    <tr>\n",
              "      <th>home_corners</th>\n",
              "      <td>0.0</td>\n",
              "      <td>14.000000</td>\n",
              "      <td>2.000000</td>\n",
              "      <td>2.320863</td>\n",
              "    </tr>\n",
              "    <tr>\n",
              "      <th>away_corners</th>\n",
              "      <td>0.0</td>\n",
              "      <td>18.000000</td>\n",
              "      <td>1.000000</td>\n",
              "      <td>1.963645</td>\n",
              "    </tr>\n",
              "    <tr>\n",
              "      <th>final_delta</th>\n",
              "      <td>-2.0</td>\n",
              "      <td>10.000000</td>\n",
              "      <td>1.000000</td>\n",
              "      <td>1.438377</td>\n",
              "    </tr>\n",
              "    <tr>\n",
              "      <th>goal_difference</th>\n",
              "      <td>-8.0</td>\n",
              "      <td>8.000000</td>\n",
              "      <td>0.000000</td>\n",
              "      <td>0.171368</td>\n",
              "    </tr>\n",
              "    <tr>\n",
              "      <th>home_attack_efficiency</th>\n",
              "      <td>0.0</td>\n",
              "      <td>0.999999</td>\n",
              "      <td>0.333332</td>\n",
              "      <td>0.336934</td>\n",
              "    </tr>\n",
              "    <tr>\n",
              "      <th>away_attack_efficiency</th>\n",
              "      <td>0.0</td>\n",
              "      <td>0.999999</td>\n",
              "      <td>0.333332</td>\n",
              "      <td>0.323278</td>\n",
              "    </tr>\n",
              "    <tr>\n",
              "      <th>possession_balance</th>\n",
              "      <td>-100.0</td>\n",
              "      <td>100.000000</td>\n",
              "      <td>2.000000</td>\n",
              "      <td>3.088399</td>\n",
              "    </tr>\n",
              "  </tbody>\n",
              "</table>\n",
              "</div>"
            ],
            "text/plain": [
              "                          min         max     median       mean\n",
              "current_minute            0.0   90.000000  54.000000  49.603711\n",
              "home_yellow_cards         0.0    5.000000   0.000000   0.497360\n",
              "away_yellow_cards         0.0    5.000000   0.000000   0.572786\n",
              "home_red_cards            0.0    2.000000   0.000000   0.008749\n",
              "away_red_cards            0.0    2.000000   0.000000   0.014482\n",
              "home_attacks              0.0  150.000000  42.000000  45.141198\n",
              "away_attacks              0.0  148.000000  40.000000  42.458289\n",
              "home_dangerous_attacks    0.0  100.000000  24.000000  26.832101\n",
              "away_dangerous_attacks    0.0   97.000000  21.000000  23.745965\n",
              "home_corners              0.0   14.000000   2.000000   2.320863\n",
              "away_corners              0.0   18.000000   1.000000   1.963645\n",
              "final_delta              -2.0   10.000000   1.000000   1.438377\n",
              "goal_difference          -8.0    8.000000   0.000000   0.171368\n",
              "home_attack_efficiency    0.0    0.999999   0.333332   0.336934\n",
              "away_attack_efficiency    0.0    0.999999   0.333332   0.323278\n",
              "possession_balance     -100.0  100.000000   2.000000   3.088399"
            ]
          },
          "execution_count": 26,
          "metadata": {},
          "output_type": "execute_result"
        }
      ],
      "source": [
        "# Statistical Summaries of All Feature \n",
        "df.agg(['min', 'max', 'median', 'mean']).T"
      ]
    },
    {
      "cell_type": "markdown",
      "metadata": {
        "id": "eKGn5ihDF9H0"
      },
      "source": [
        "`[will fix this pa wait]`\n",
        "\n",
        "References:\n",
        "Aggarwal, C. C. (2017). Outlier analysis. Springer International Publishing. \n",
        "Han, J., Kamber, M., & Pei, J. (2011). Data mining: Concepts and techniques. Elsevier.\n",
        "Jain, A., & Zongker, D. (1997). Feature selection: Evaluation, application, and small sample performance. IEEE Transactions on Pattern Analysis and Machine Intelligence, 19(2), 153-158.\n",
        "Kang, H. (2013). The prevention and handling of the missing data. Korean Journal of Anesthesiology, 64(5), 402-406.\n",
        "Kuhn, M., & Johnson, K. (2013). Applied predictive modeling. Springer.\n",
        "Pedregosa, F., et al. (2011). Scikit-learn: Machine learning in Python. Journal of Machine Learning Research, 12, 2825-2830.\n"
      ]
    },
    {
      "cell_type": "markdown",
      "metadata": {
        "id": "Rf6Cp2WUC2Zd"
      },
      "source": [
        "---"
      ]
    },
    {
      "cell_type": "markdown",
      "metadata": {
        "id": "fhqRYQnlh78u"
      },
      "source": [
        "# **Section 5: Exploratory data analysis**"
      ]
    },
    {
      "cell_type": "markdown",
      "metadata": {
        "id": "KF_PupDWnXdf"
      },
      "source": [
        "---"
      ]
    },
    {
      "cell_type": "markdown",
      "metadata": {
        "id": "8unded0oh-Zv"
      },
      "source": [
        "# **Section 6: Initial model training**"
      ]
    },
    {
      "cell_type": "markdown",
      "metadata": {
        "id": "YXoRa_63PEId"
      },
      "source": [
        "---"
      ]
    },
    {
      "cell_type": "markdown",
      "metadata": {
        "id": "lnd9umGLiBqx"
      },
      "source": [
        "# **Section 7: Error analysis**"
      ]
    },
    {
      "cell_type": "markdown",
      "metadata": {
        "id": "dvBmOcPYPFI0"
      },
      "source": [
        "---"
      ]
    },
    {
      "cell_type": "markdown",
      "metadata": {
        "id": "SCpVHlXjiEkh"
      },
      "source": [
        "# **Section 8: Improving model performance**"
      ]
    },
    {
      "cell_type": "markdown",
      "metadata": {
        "id": "KQyPJRq-PGVr"
      },
      "source": [
        "---"
      ]
    },
    {
      "cell_type": "markdown",
      "metadata": {
        "id": "ooJJHGIliKjJ"
      },
      "source": [
        "# **Section 9: Model performance summary**"
      ]
    },
    {
      "cell_type": "markdown",
      "metadata": {
        "id": "OqP6bjq_PHDG"
      },
      "source": [
        "---"
      ]
    },
    {
      "cell_type": "markdown",
      "metadata": {
        "id": "XwqirvFMiL2v"
      },
      "source": [
        "# **Section 10: Insights and conclusions**"
      ]
    },
    {
      "cell_type": "markdown",
      "metadata": {
        "id": "-tKIaFoaPIBo"
      },
      "source": [
        "---"
      ]
    },
    {
      "cell_type": "markdown",
      "metadata": {
        "id": "305XByMeiPpq"
      },
      "source": [
        "# **Section 11: References**"
      ]
    },
    {
      "cell_type": "markdown",
      "metadata": {
        "id": "p1C71Tw4kSXS"
      },
      "source": [
        "\n",
        "\n",
        "> Dump Ref muna fix it later\n",
        "\n",
        "https://www.frontiersin.org/journals/psychology/articles/10.3389/fpsyg.2019.00501/full\n",
        "\n",
        "https://www.sciencedirect.com/science/article/abs/pii/S0169207018300116\n",
        "\n",
        "https://warin.ca/ressources/books/2013_Book_AppliedPredictiveModeling.pdf\n",
        "\n",
        "https://ieeexplore.ieee.org/document/4160265\n",
        "\n",
        "https://www.researchgate.net/publication/265194455_pandas_a_Foundational_Python_Library_for_Data_Analysis_and_Statistics\n",
        "\n",
        "https://web.mit.edu/dvp/Public/numpybook.pdf\n",
        "\n",
        "https://dl.acm.org/doi/10.5555/1953048.2078195\n",
        "\n",
        "https://www.researchgate.net/publication/350701622_seaborn_statistical_data_visualization\n",
        "\n",
        "https://www.sciencedirect.com/book/9780123814791/data-mining-concepts-and-techniques\n",
        "\n",
        "https://archive.org/details/exploratorydataa0000tuke_7616\n",
        "\n",
        "---\n",
        "\n",
        "- Anguera, M. T., Blanco-Villaseñor, A., Losada, J. L., & Perea, M. V. (2018). Sports analysis and prediction: New challenges and approaches. Frontiers in Psychology, 10, 501. https://www.frontiersin.org/journals/psychology/articles/10.3389/fpsyg.2019.00501/full\n",
        "\n",
        "- Yin, D., & Leong, S. Y. (2017). Predictive modeling in soccer analytics. International Journal of Sports Management and Marketing, 7(3), 235-248. https://www.sciencedirect.com/science/article/abs/pii/S0169207018300116\n",
        "\n",
        "- Kuhn, M., & Johnson, K. (2013). Applied predictive modeling. Springer Science & Business Media. https://warin.ca/ressources/books/2013_Book_AppliedPredictiveModeling.pdf\n",
        "\n",
        "- Hunter, J. D. (2007). Matplotlib: A 2D graphics environment. Computing in Science & Engineering, 9(3), 90-95. https://ieeexplore.ieee.org/document/4160265\n",
        "\n",
        "- McKinney, W. (2011). pandas: A foundational Python library for data analysis and manipulation. Python for Data Analysis, O'Reilly Media. https://www.researchgate.net/publication/265194455_pandas_a_Foundational_Python_Library_for_Data_Analysis_and_Statistics\n",
        "\n",
        "- Oliphant, T. E. (2006). A guide to NumPy. Trelgol Publishing. https://web.mit.edu/dvp/Public/numpybook.pdf\n",
        "\n",
        "- Pedregosa, F., et al. (2011). Scikit-learn: Machine learning in Python. Journal of Machine Learning Research, 12, 2825-2830. https://dl.acm.org/doi/10.5555/1953048.2078195\n",
        "\n",
        "- Waskom, M. L. (2021). Seaborn: Statistical data visualization. Journal of Open Source Software, 6(60), 3021. https://www.researchgate.net/publication/350701622_seaborn_statistical_data_visualization\n",
        "\n",
        "- Han, J., Kamber, M., & Pei, J. (2011). Data mining: Concepts and techniques. Elsevier. https://www.sciencedirect.com/book/9780123814791/data-mining-concepts-and-techniques\n",
        "\n",
        "- Tukey, J. W. (1977). Exploratory data analysis. Addison-Wesley. https://archive.org/details/exploratorydataa0000tuke_7616"
      ]
    }
  ],
  "metadata": {
    "colab": {
      "provenance": []
    },
    "kernelspec": {
      "display_name": "Python 3",
      "name": "python3"
    },
    "language_info": {
      "codemirror_mode": {
        "name": "ipython",
        "version": 3
      },
      "file_extension": ".py",
      "mimetype": "text/x-python",
      "name": "python",
      "nbconvert_exporter": "python",
      "pygments_lexer": "ipython3",
      "version": "3.12.3"
    }
  },
  "nbformat": 4,
  "nbformat_minor": 0
}
