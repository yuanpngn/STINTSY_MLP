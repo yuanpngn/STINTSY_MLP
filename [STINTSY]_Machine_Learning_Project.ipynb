{
  "nbformat": 4,
  "nbformat_minor": 0,
  "metadata": {
    "colab": {
      "provenance": []
    },
    "kernelspec": {
      "name": "python3",
      "display_name": "Python 3"
    },
    "language_info": {
      "name": "python"
    }
  },
  "cells": [
    {
      "cell_type": "markdown",
      "source": [
        "---\n",
        "# **Section I: Introduction to the problem/task and dataset**"
      ],
      "metadata": {
        "id": "zQLkMon0hhrU"
      }
    },
    {
      "cell_type": "markdown",
      "source": [
        "## **Introduction to the Task**\n",
        "The primary objective of this project is to predict the likelihood of additional goals in a soccer match based on real-time in-game statistics, with the aim of supporting decision-making in sports trading (e.g., over/under betting). By analyzing game-specific metrics, we can estimate scoring potential and influence live trading models for betting and fan engagement.\n",
        "\n",
        "##**Dataset Overview**\n",
        "This project’s dataset includes 10,000 unique snapshots of soccer matches at various timestamps, capturing the state of a game through different in-game metrics. Each snapshot includes details on the current score, possession percentages, attempts, and cards, providing a rich dataset for building predictive models.\n",
        "\n",
        "\n",
        "##**Problem Motivation**\n",
        "The practical application of predicting match outcomes from live data is significant for team strategy and sports betting, as knowing influential factors—such as possession and dangerous attacks—can improve decision-making and potentially impact match strategies (Kuhn & Johnson, 2013).\n",
        "\n",
        "---\n"
      ],
      "metadata": {
        "id": "_fAtmsISjGnd"
      }
    },
    {
      "cell_type": "markdown",
      "source": [
        "# **Section 2: Description of the dataset**"
      ],
      "metadata": {
        "id": "Zu7zhSFohony"
      }
    },
    {
      "cell_type": "markdown",
      "source": [
        "### Dataset Overview\n",
        "The dataset consists of 10,000 randomly selected snapshots from soccer matches, each capturing the in-game state at a specific timestamp. Each row represents a snapshot, detailing scores, possession, and other match features, which collectively provide a momentary overview of game dynamics (Anguera et al., 2018).\n",
        "\n",
        "### Data Collection\n",
        "This dataset was collected through in-game analytics systems that continuously monitor and record essential match metrics. Although highly detailed, this collection method might introduce minor noise due to the rapid state changes inherent in live sports (Yin & Leong, 2017).\n",
        "\n",
        "### Dataset Structure\n",
        "- **Rows**: Each row represents a single timestamp during a soccer match.\n",
        "- **Columns**: Key features include:\n",
        "  - **Identifier**: `uuid` - Unique identifier for each snapshot.\n",
        "  - **Time**: `current_minute` - Game minute, including a 15-minute half-time, making the total match time 105 minutes.\n",
        "  - **Scores**: `home_score`, `away_score`\n",
        "  - **Cards**: Yellow and red cards for both teams.\n",
        "  - **Gameplay Metrics**: Attacks, dangerous attacks, and shots on/off target for each team.\n",
        "  - **Possession**: Ball possession percentages for each team.\n",
        "  - **Target**: `final_delta` - The target value indicating the outcome to be predicted.\n",
        "\n",
        "\n",
        "### Summary\n",
        "The dataset’s features are valuable for analyzing match dynamics, providing a strong foundation for building models that can predict outcomes like goals or final results (Kuhn & Johnson, 2013).\n",
        "\n",
        "---\n"
      ],
      "metadata": {
        "id": "kBcgLphXmlNX"
      }
    },
    {
      "cell_type": "markdown",
      "source": [
        "# **Section 3: List of requirements**"
      ],
      "metadata": {
        "id": "Pi0o2tFkht5z"
      }
    },
    {
      "cell_type": "markdown",
      "source": [
        "### Python Libraries\n",
        "\n",
        "\n",
        "> Add more if may gagamitin pa\n",
        "\n",
        "\n",
        "The following libraries are required to support data analysis, model training, and evaluation:\n",
        "- **Data Manipulation**:\n",
        "  - `pandas`: Data manipulation and cleaning (McKinney, 2011).\n",
        "  - `numpy`: Numerical operations (Oliphant, 2006).\n",
        "- **Data Visualization**:\n",
        "  - `matplotlib`: For line and bar charts (Hunter, 2007).\n",
        "  - `seaborn`: For statistical graphics (Waskom, 2021).\n",
        "- **Machine Learning and Model Evaluation**:\n",
        "  - `scikit-learn`: For k-NN, Linear Regression, Neural Networks, and model validation (Pedregosa et al., 2011).\n",
        "  - `tensorflow` or `keras`: For training Neural Networks.\n",
        "- **Hyperparameter Tuning**:\n",
        "  - `scikit-learn`: For grid search and random search.\n",
        "- **Metrics**:\n",
        "  - `scikit-learn.metrics`: For accuracy, precision, recall, and confusion matrices.\n",
        "---\n"
      ],
      "metadata": {
        "id": "8hIJx0qDnHhn"
      }
    },
    {
      "cell_type": "code",
      "source": [
        "# Import necessary libraries\n",
        "\n",
        "# Data Manipulation\n",
        "import numpy as np\n",
        "import pandas as pd\n",
        "from scipy import stats\n",
        "\n",
        "# Visualization\n",
        "import matplotlib.pyplot as plt\n",
        "import seaborn as sns\n",
        "\n",
        "# Machine Learning Models and Preprocessing\n",
        "from sklearn.preprocessing import StandardScaler\n",
        "from sklearn.model_selection import train_test_split, GridSearchCV\n",
        "from sklearn.neighbors import KNeighborsClassifier\n",
        "from sklearn.linear_model import LinearRegression\n",
        "from sklearn.ensemble import RandomForestClassifier\n",
        "from sklearn.neural_network import MLPClassifier\n",
        "from sklearn.metrics import accuracy_score, precision_score, recall_score, confusion_matrix\n",
        "import xgboost as xgb\n"
      ],
      "metadata": {
        "id": "QaJg3H7UVhx6"
      },
      "execution_count": 17,
      "outputs": []
    },
    {
      "cell_type": "markdown",
      "source": [
        "# **Section 4: Data preprocessing and cleaning**"
      ],
      "metadata": {
        "id": "RE20JWU4h3_m"
      }
    },
    {
      "cell_type": "markdown",
      "source": [
        "### Preprocessing Techniques\n",
        "Preprocessing prepares the dataset for model training. Key techniques include:\n",
        "- **Feature Scaling**: Since features have different units (e.g., score vs. possession percentage), scaling is essential to ensure model performance, particularly for k-NN and Neural Networks (Han et al., 2011).\n",
        "- **One-Hot Encoding**: Converts categorical variables, if any, into numerical formats.\n",
        "- **Handling Missing Values**: Uses techniques like imputation if necessary, based on the dataset's nature.\n",
        "- **Outlier Detection**: Detects anomalies in numerical features, which may skew predictions if left unaddressed.\n",
        "\n",
        "### Cleaning Steps\n",
        "- **Checking for Duplicates**: Removing redundant rows to ensure unique snapshots.\n",
        "- **Type Conversion**: Ensuring all features are in suitable formats (e.g., integer for score-related features, float for percentages).\n",
        "\n",
        "\n"
      ],
      "metadata": {
        "id": "ggfhStKWnSSm"
      }
    },
    {
      "cell_type": "markdown",
      "source": [
        "### **Data Preprocessing**"
      ],
      "metadata": {
        "id": "LfC-XavIGflY"
      }
    },
    {
      "cell_type": "markdown",
      "source": [
        "### I. Load and Inspect the Data\n",
        "- Initial Check: Start by inspecting the data types, missing values, and unique values. This helps determine what cleaning actions are necessary (Han et al., 2011).\n",
        "- Data Types: Confirm the data types for each column, ensuring numerical values are correctly identified for calculations and models.\n"
      ],
      "metadata": {
        "id": "DlgBQWMVC7P4"
      }
    },
    {
      "cell_type": "code",
      "source": [
        "df = pd.read_csv('sports.csv')\n",
        "\n",
        "# Display the first few rows to understand the structure\n",
        "df.head()\n",
        "\n",
        "print(df.info())  # Provides counts of data type and non-null\n",
        "print(df.describe())  # Statistical summary for numeric fields\n",
        "print(df.isnull().sum())  # Check for missing values\n",
        "\n",
        "# Drop the 'uuid' column as it is not useful for analysis or modeling\n",
        "df.drop(columns=['uuid'], inplace=True)\n"
      ],
      "metadata": {
        "colab": {
          "base_uri": "https://localhost:8080/"
        },
        "id": "xaGQd9oFDHBg",
        "outputId": "1c0d549d-10b5-42a4-ff81-4b8ef2edbb97"
      },
      "execution_count": 18,
      "outputs": [
        {
          "output_type": "stream",
          "name": "stdout",
          "text": [
            "<class 'pandas.core.frame.DataFrame'>\n",
            "RangeIndex: 7000 entries, 0 to 6999\n",
            "Data columns (total 21 columns):\n",
            " #   Column                  Non-Null Count  Dtype \n",
            "---  ------                  --------------  ----- \n",
            " 0   uuid                    7000 non-null   object\n",
            " 1   current_minute          7000 non-null   int64 \n",
            " 2   home_score              7000 non-null   int64 \n",
            " 3   away_score              7000 non-null   int64 \n",
            " 4   home_yellow_cards       7000 non-null   int64 \n",
            " 5   away_yellow_cards       7000 non-null   int64 \n",
            " 6   home_red_cards          7000 non-null   int64 \n",
            " 7   away_red_cards          7000 non-null   int64 \n",
            " 8   home_attacks            7000 non-null   int64 \n",
            " 9   away_attacks            7000 non-null   int64 \n",
            " 10  home_dangerous_attacks  7000 non-null   int64 \n",
            " 11  away_dangerous_attacks  7000 non-null   int64 \n",
            " 12  home_corners            7000 non-null   int64 \n",
            " 13  away_corners            7000 non-null   int64 \n",
            " 14  home_off_target         7000 non-null   int64 \n",
            " 15  away_off_target         7000 non-null   int64 \n",
            " 16  home_on_target          7000 non-null   int64 \n",
            " 17  away_on_target          7000 non-null   int64 \n",
            " 18  home_possession         7000 non-null   int64 \n",
            " 19  away_possession         7000 non-null   int64 \n",
            " 20  final_delta             7000 non-null   int64 \n",
            "dtypes: int64(20), object(1)\n",
            "memory usage: 1.1+ MB\n",
            "None\n",
            "       current_minute   home_score   away_score  home_yellow_cards  \\\n",
            "count     7000.000000  7000.000000  7000.000000        7000.000000   \n",
            "mean        59.491571     0.796000     0.623143           0.522429   \n",
            "std         35.827892     1.070503     0.923248           0.922212   \n",
            "min       -348.000000     0.000000     0.000000           0.000000   \n",
            "25%         28.000000     0.000000     0.000000           0.000000   \n",
            "50%         70.000000     0.000000     0.000000           0.000000   \n",
            "75%         88.000000     1.000000     1.000000           1.000000   \n",
            "max        583.000000     8.000000     9.000000           8.000000   \n",
            "\n",
            "       away_yellow_cards  home_red_cards  away_red_cards  home_attacks  \\\n",
            "count        7000.000000     7000.000000     7000.000000   7000.000000   \n",
            "mean            0.603143        0.009286        0.015714     46.365429   \n",
            "std             1.018021        0.097399        0.125520     36.004908   \n",
            "min             0.000000        0.000000        0.000000      0.000000   \n",
            "25%             0.000000        0.000000        0.000000     15.000000   \n",
            "50%             0.000000        0.000000        0.000000     43.000000   \n",
            "75%             1.000000        0.000000        0.000000     71.000000   \n",
            "max             8.000000        2.000000        2.000000    255.000000   \n",
            "\n",
            "       away_attacks  home_dangerous_attacks  away_dangerous_attacks  \\\n",
            "count   7000.000000             7000.000000             7000.000000   \n",
            "mean      43.325143               27.611429               24.201286   \n",
            "std       33.428276               22.977844               20.457007   \n",
            "min        0.000000                0.000000                0.000000   \n",
            "25%       14.000000                8.000000                7.000000   \n",
            "50%       41.000000               25.000000               21.000000   \n",
            "75%       67.000000               42.000000               36.000000   \n",
            "max      183.000000              134.000000              140.000000   \n",
            "\n",
            "       home_corners  away_corners  home_off_target  away_off_target  \\\n",
            "count   7000.000000   7000.000000      7000.000000      7000.000000   \n",
            "mean       2.377714      1.994286         3.067857         2.592286   \n",
            "std        2.464647      2.197746         3.157366         2.747621   \n",
            "min        0.000000      0.000000         0.000000         0.000000   \n",
            "25%        0.000000      0.000000         0.000000         0.000000   \n",
            "50%        2.000000      1.000000         2.000000         2.000000   \n",
            "75%        4.000000      3.000000         5.000000         4.000000   \n",
            "max       16.000000     18.000000        24.000000        18.000000   \n",
            "\n",
            "       home_on_target  away_on_target  home_possession  away_possession  \\\n",
            "count     7000.000000     7000.000000      7000.000000      7000.000000   \n",
            "mean         2.172143        1.796000        51.584286        48.412571   \n",
            "std          2.320374        2.026002        10.532584        10.534579   \n",
            "min          0.000000        0.000000         0.000000         0.000000   \n",
            "25%          0.000000        0.000000        46.000000        42.000000   \n",
            "50%          2.000000        1.000000        51.000000        49.000000   \n",
            "75%          3.000000        3.000000        58.000000        54.000000   \n",
            "max         22.000000       19.000000       100.000000       100.000000   \n",
            "\n",
            "       final_delta  \n",
            "count  7000.000000  \n",
            "mean      1.416857  \n",
            "std       1.419035  \n",
            "min      -2.000000  \n",
            "25%       0.000000  \n",
            "50%       1.000000  \n",
            "75%       2.000000  \n",
            "max      10.000000  \n",
            "uuid                      0\n",
            "current_minute            0\n",
            "home_score                0\n",
            "away_score                0\n",
            "home_yellow_cards         0\n",
            "away_yellow_cards         0\n",
            "home_red_cards            0\n",
            "away_red_cards            0\n",
            "home_attacks              0\n",
            "away_attacks              0\n",
            "home_dangerous_attacks    0\n",
            "away_dangerous_attacks    0\n",
            "home_corners              0\n",
            "away_corners              0\n",
            "home_off_target           0\n",
            "away_off_target           0\n",
            "home_on_target            0\n",
            "away_on_target            0\n",
            "home_possession           0\n",
            "away_possession           0\n",
            "final_delta               0\n",
            "dtype: int64\n"
          ]
        }
      ]
    },
    {
      "cell_type": "markdown",
      "source": [
        "### Remove Unrealistic Values and Outliers\n",
        "- Current Minute: Limit values between 0 and 105 (including a 90-minute match plus 15 minutes for half-time).\n",
        "- Yellow Cards: Set a threshold of 5 yellow cards per team, as higher values are rare.\n",
        "Attacks and Dangerous Attacks: Apply upper bounds of 150 for attacks and 100 for dangerous attacks, considering typical gameplay stats.\n",
        "- Possession Percentages: Filter for rows where the sum of home_possession and away_possession is close to 100%, with a tolerance of ±5%."
      ],
      "metadata": {
        "id": "UpNlw79oDQTy"
      }
    },
    {
      "cell_type": "code",
      "source": [
        "# Filter for realistic match time\n",
        "df = df[(df['current_minute'] >= 0) & (df['current_minute'] <= 105)]\n",
        "\n",
        "# Limit yellow cards to realistic maximum\n",
        "df = df[(df['home_yellow_cards'] <= 5) & (df['away_yellow_cards'] <= 5)]\n",
        "\n",
        "# Limit attacks and dangerous attacks\n",
        "df = df[(df['home_attacks'] <= 150) & (df['away_attacks'] <= 150)]\n",
        "df = df[(df['home_dangerous_attacks'] <= 100) & (df['away_dangerous_attacks'] <= 100)]\n",
        "\n",
        "# Check possession totals with a tolerance\n",
        "df = df[np.isclose(df['home_possession'] + df['away_possession'], 100, atol=5)]\n"
      ],
      "metadata": {
        "id": "RgeLJw_gDepa"
      },
      "execution_count": 19,
      "outputs": []
    },
    {
      "cell_type": "markdown",
      "source": [
        "### III. Feature Scaling\n",
        "- Standardization is essential for features like scores, possession, and attacks, as these variables have different units and ranges. Scaling helps algorithms such as k-NN and Neural Networks perform optimally (Jain & Zongker, 1997).\n",
        "- StandardScaler centers data around zero with a unit standard deviation, preserving interpretability for algorithms sensitive to feature scale.\n"
      ],
      "metadata": {
        "id": "6A1dbLyADhk4"
      }
    },
    {
      "cell_type": "code",
      "source": [
        "\n",
        "\n",
        "# Initialize the scaler\n",
        "scaler = StandardScaler()\n",
        "\n",
        "# Select columns to scale (numeric features)\n",
        "numeric_features = [\n",
        "    'current_minute', 'home_score', 'away_score', 'home_yellow_cards',\n",
        "    'away_yellow_cards', 'home_red_cards', 'away_red_cards',\n",
        "    'home_attacks', 'away_attacks', 'home_dangerous_attacks',\n",
        "    'away_dangerous_attacks', 'home_corners', 'away_corners',\n",
        "    'home_off_target', 'away_off_target', 'home_on_target',\n",
        "    'away_on_target', 'home_possession', 'away_possession'\n",
        "]\n",
        "\n",
        "# Apply scaler to selected features\n",
        "df[numeric_features] = scaler.fit_transform(df[numeric_features])\n",
        "\n"
      ],
      "metadata": {
        "id": "SjL4YdiEEJly"
      },
      "execution_count": 20,
      "outputs": []
    },
    {
      "cell_type": "markdown",
      "source": [
        "### IV. Encoding Categorical Variables\n",
        "\n",
        "- Since sports data may sometimes contain categorical fields (like player positions or match conditions), use One-Hot Encoding to convert categorical features to numerical format (Pedregosa et al., 2011)."
      ],
      "metadata": {
        "id": "msixi55LELfI"
      }
    },
    {
      "cell_type": "code",
      "source": [
        "# Example encoding (if categorical fields exist)\n",
        "categorical_columns = df.select_dtypes(include=['object']).columns.difference(['uuid'])\n",
        "df = pd.get_dummies(df, columns=categorical_columns, drop_first=True)\n"
      ],
      "metadata": {
        "id": "My174FQaFULE"
      },
      "execution_count": 21,
      "outputs": []
    },
    {
      "cell_type": "markdown",
      "source": [
        "### V. Feature Engineering\n",
        "- Adding new features can capture dynamics between the two teams and improve predictive performance:\n",
        "  * Goal Difference: A feature that shows the goal lead or deficit, useful in classification tasks related to match outcome (Kuhn & Johnson, 2013).\n",
        "  * Attack Efficiency: Calculate the ratio of on-target shots to total shots, showing how effectively each team converts attacks into potential goals.\n",
        "  * Possession Balance: Calculating the difference in possession provides insight into the team that controls the game."
      ],
      "metadata": {
        "id": "i-Ew31hAFVkA"
      }
    },
    {
      "cell_type": "code",
      "source": [
        "# Create engineered features\n",
        "df['goal_difference'] = df['home_score'] - df['away_score']\n",
        "df['home_attack_efficiency'] = df['home_on_target'] / (df['home_on_target'] + df['home_off_target'] + 1e-5)\n",
        "df['away_attack_efficiency'] = df['away_on_target'] / (df['away_on_target'] + df['away_off_target'] + 1e-5)\n",
        "df['possession_balance'] = df['home_possession'] - df['away_possession']\n"
      ],
      "metadata": {
        "id": "_WhwFm6XFfct"
      },
      "execution_count": 22,
      "outputs": []
    },
    {
      "cell_type": "markdown",
      "source": [
        "### VI. Final Checks\n",
        "- Cap Extreme Efficiency Ratios: Limit values for home_attack_efficiency and away_attack_efficiency to a reasonable upper bound (e.g., 1 for 100% efficiency).\n",
        "- Recheck for NaNs: After calculating efficiency ratios and capping values, ensure no NaNs were introduced.\n"
      ],
      "metadata": {
        "id": "Z4ar4GAyMiHY"
      }
    },
    {
      "cell_type": "code",
      "source": [
        "df['home_attack_efficiency'] = df['home_attack_efficiency'].clip(upper=1)\n",
        "df['away_attack_efficiency'] = df['away_attack_efficiency'].clip(upper=1)\n",
        "\n",
        "print(df.isnull().sum())  # Confirm no missing values remain\n"
      ],
      "metadata": {
        "id": "eiYXMVXoMgS_",
        "colab": {
          "base_uri": "https://localhost:8080/"
        },
        "outputId": "cffc0dcd-eb91-4342-8b62-d12c54928feb"
      },
      "execution_count": 23,
      "outputs": [
        {
          "output_type": "stream",
          "name": "stdout",
          "text": [
            "current_minute            0\n",
            "home_score                0\n",
            "away_score                0\n",
            "home_yellow_cards         0\n",
            "away_yellow_cards         0\n",
            "home_red_cards            0\n",
            "away_red_cards            0\n",
            "home_attacks              0\n",
            "away_attacks              0\n",
            "home_dangerous_attacks    0\n",
            "away_dangerous_attacks    0\n",
            "home_corners              0\n",
            "away_corners              0\n",
            "home_off_target           0\n",
            "away_off_target           0\n",
            "home_on_target            0\n",
            "away_on_target            0\n",
            "home_possession           0\n",
            "away_possession           0\n",
            "final_delta               0\n",
            "goal_difference           0\n",
            "home_attack_efficiency    0\n",
            "away_attack_efficiency    0\n",
            "possession_balance        0\n",
            "dtype: int64\n"
          ]
        }
      ]
    },
    {
      "cell_type": "markdown",
      "source": [
        "### VIII. Final Validation:\n",
        "- Data Type Validation: Ensure all features are correctly typed as either integer or float.\n",
        "- Feature Correlation: Check correlations to identify highly correlated variables, which may inform feature selection (if necessary)."
      ],
      "metadata": {
        "id": "xGdFQQdfF_NO"
      }
    },
    {
      "cell_type": "code",
      "source": [
        "print(df.describe())\n",
        "print(df.info())\n"
      ],
      "metadata": {
        "id": "GmVtqlRtGIod",
        "colab": {
          "base_uri": "https://localhost:8080/"
        },
        "outputId": "52d7cbba-b61c-49ba-bb7c-7d6212511e80"
      },
      "execution_count": 24,
      "outputs": [
        {
          "output_type": "stream",
          "name": "stdout",
          "text": [
            "       current_minute    home_score    away_score  home_yellow_cards  \\\n",
            "count    6.732000e+03  6.732000e+03  6.732000e+03       6.732000e+03   \n",
            "mean    -7.388293e-17  4.221882e-18 -2.691450e-17       3.720533e-17   \n",
            "std      1.000074e+00  1.000074e+00  1.000074e+00       1.000074e+00   \n",
            "min     -1.777019e+00 -7.340641e-01 -6.678704e-01      -5.669352e-01   \n",
            "25%     -9.170642e-01 -7.340641e-01 -6.678704e-01      -5.669352e-01   \n",
            "50%      3.114425e-01 -7.340641e-01 -6.678704e-01      -5.669352e-01   \n",
            "75%      8.642705e-01  2.135331e-01  4.365520e-01       5.791932e-01   \n",
            "max      1.447811e+00  6.846713e+00  9.271931e+00       5.163707e+00   \n",
            "\n",
            "       away_yellow_cards  home_red_cards  away_red_cards  home_attacks  \\\n",
            "count       6.732000e+03    6.732000e+03    6.732000e+03  6.732000e+03   \n",
            "mean       -2.163715e-17   -2.955317e-17    2.638676e-17  6.755011e-17   \n",
            "std         1.000074e+00    1.000074e+00    1.000074e+00  1.000074e+00   \n",
            "min        -5.914853e-01   -9.327482e-02   -1.190257e-01 -1.305539e+00   \n",
            "25%        -5.914853e-01   -9.327482e-02   -1.190257e-01 -8.972651e-01   \n",
            "50%        -5.914853e-01   -9.327482e-02   -1.190257e-01 -8.071656e-02   \n",
            "75%         4.511644e-01   -9.327482e-02   -1.190257e-01  7.066695e-01   \n",
            "max         4.621763e+00    2.083759e+01    1.657433e+01  3.068828e+00   \n",
            "\n",
            "       away_attacks  home_dangerous_attacks  ...  away_off_target  \\\n",
            "count  6.732000e+03            6.732000e+03  ...     6.732000e+03   \n",
            "mean  -5.488447e-17            9.604781e-17  ...     1.002697e-17   \n",
            "std    1.000074e+00            1.000074e+00  ...     1.000074e+00   \n",
            "min   -1.299616e+00           -1.220916e+00  ...    -9.387391e-01   \n",
            "25%   -8.672468e-01           -8.996150e-01  ...    -9.387391e-01   \n",
            "50%   -9.515984e-02           -1.193118e-01  ...    -1.945573e-01   \n",
            "75%    7.078106e-01            6.609913e-01  ...     5.496245e-01   \n",
            "max    3.271139e+00            3.369102e+00  ...     5.758897e+00   \n",
            "\n",
            "       home_on_target  away_on_target  home_possession  away_possession  \\\n",
            "count    6.732000e+03    6.732000e+03     6.732000e+03     6.732000e+03   \n",
            "mean     1.899847e-17    1.055470e-17    -1.224346e-16    -1.477659e-16   \n",
            "std      1.000074e+00    1.000074e+00     1.000074e+00     1.000074e+00   \n",
            "min     -9.232353e-01   -8.803876e-01    -4.934126e+00    -4.637627e+00   \n",
            "25%     -9.232353e-01   -8.803876e-01    -5.306161e-01    -6.177209e-01   \n",
            "50%     -4.867425e-01   -3.763249e-01    -1.477023e-01     1.479755e-01   \n",
            "75%      3.862429e-01    6.318006e-01     6.181255e-01     5.308236e-01   \n",
            "max      8.679604e+00    8.696804e+00     4.638721e+00     4.933578e+00   \n",
            "\n",
            "       final_delta  goal_difference  home_attack_efficiency  \\\n",
            "count  6732.000000     6.732000e+03             6732.000000   \n",
            "mean      1.447118     3.430279e-17                0.361736   \n",
            "std       1.426877     1.320587e+00                1.071075   \n",
            "min      -2.000000    -9.058397e+00              -14.665231   \n",
            "25%       0.000000    -3.798440e-01                0.333648   \n",
            "50%       1.000000    -6.619370e-02                0.487107   \n",
            "75%       2.000000     8.814035e-01                0.743000   \n",
            "max      10.000000     7.514584e+00                1.000000   \n",
            "\n",
            "       away_attack_efficiency  possession_balance  \n",
            "count             6732.000000        6.732000e+03  \n",
            "mean                 0.245816        4.432976e-17  \n",
            "std                  1.637095        2.000141e+00  \n",
            "min                -21.297440       -9.867703e+00  \n",
            "25%                  0.286167       -1.061440e+00  \n",
            "50%                  0.483964       -2.956777e-01  \n",
            "75%                  0.659210        1.235846e+00  \n",
            "max                  1.000000        9.276348e+00  \n",
            "\n",
            "[8 rows x 24 columns]\n",
            "<class 'pandas.core.frame.DataFrame'>\n",
            "Index: 6732 entries, 0 to 6999\n",
            "Data columns (total 24 columns):\n",
            " #   Column                  Non-Null Count  Dtype  \n",
            "---  ------                  --------------  -----  \n",
            " 0   current_minute          6732 non-null   float64\n",
            " 1   home_score              6732 non-null   float64\n",
            " 2   away_score              6732 non-null   float64\n",
            " 3   home_yellow_cards       6732 non-null   float64\n",
            " 4   away_yellow_cards       6732 non-null   float64\n",
            " 5   home_red_cards          6732 non-null   float64\n",
            " 6   away_red_cards          6732 non-null   float64\n",
            " 7   home_attacks            6732 non-null   float64\n",
            " 8   away_attacks            6732 non-null   float64\n",
            " 9   home_dangerous_attacks  6732 non-null   float64\n",
            " 10  away_dangerous_attacks  6732 non-null   float64\n",
            " 11  home_corners            6732 non-null   float64\n",
            " 12  away_corners            6732 non-null   float64\n",
            " 13  home_off_target         6732 non-null   float64\n",
            " 14  away_off_target         6732 non-null   float64\n",
            " 15  home_on_target          6732 non-null   float64\n",
            " 16  away_on_target          6732 non-null   float64\n",
            " 17  home_possession         6732 non-null   float64\n",
            " 18  away_possession         6732 non-null   float64\n",
            " 19  final_delta             6732 non-null   int64  \n",
            " 20  goal_difference         6732 non-null   float64\n",
            " 21  home_attack_efficiency  6732 non-null   float64\n",
            " 22  away_attack_efficiency  6732 non-null   float64\n",
            " 23  possession_balance      6732 non-null   float64\n",
            "dtypes: float64(23), int64(1)\n",
            "memory usage: 1.3 MB\n",
            "None\n"
          ]
        }
      ]
    },
    {
      "cell_type": "markdown",
      "source": [
        "`[will fix this pa wait]`\n",
        "References:\n",
        "Aggarwal, C. C. (2017). Outlier analysis. Springer International Publishing.\n",
        "Han, J., Kamber, M., & Pei, J. (2011). Data mining: Concepts and techniques. Elsevier.\n",
        "Jain, A., & Zongker, D. (1997). Feature selection: Evaluation, application, and small sample performance. IEEE Transactions on Pattern Analysis and Machine Intelligence, 19(2), 153-158.\n",
        "Kang, H. (2013). The prevention and handling of the missing data. Korean Journal of Anesthesiology, 64(5), 402-406.\n",
        "Kuhn, M., & Johnson, K. (2013). Applied predictive modeling. Springer.\n",
        "Pedregosa, F., et al. (2011). Scikit-learn: Machine learning in Python. Journal of Machine Learning Research, 12, 2825-2830.\n"
      ],
      "metadata": {
        "id": "eKGn5ihDF9H0"
      }
    },
    {
      "cell_type": "markdown",
      "source": [
        "### **Data Cleaning**"
      ],
      "metadata": {
        "id": "HLKdZboSGtJP"
      }
    },
    {
      "cell_type": "markdown",
      "source": [
        "### I. Remove Duplicate Rows\n",
        "- Purpose: Duplicate rows can distort model results, especially in sports data, where each snapshot should represent a unique timestamp.\n",
        "- Method: Use .drop_duplicates() to remove any exact duplicates."
      ],
      "metadata": {
        "id": "qZG1u59eG0RH"
      }
    },
    {
      "cell_type": "code",
      "source": [
        "df.drop_duplicates(inplace=True)\n"
      ],
      "metadata": {
        "id": "W1MF9v6tG8Vz"
      },
      "execution_count": 25,
      "outputs": []
    },
    {
      "cell_type": "markdown",
      "source": [
        "### **II. Handle Incorrect or Unrealistic Values**\n",
        "- Ensure values in each column are within reasonable ranges:\n",
        "  - Scores: Limit `home_score` and `away_score` to values typically seen in soccer (e.g., 0–10).\n",
        "  - Minute: Ensure `current_minute` is between 0 and 105.\n",
        "  - Possession: Confirm that `home_possession` and `away_possession` are close to 100%."
      ],
      "metadata": {
        "id": "y_l0Co1zG_he"
      }
    },
    {
      "cell_type": "code",
      "source": [
        "df = df[(df['home_score'] <= 10) & (df['away_score'] <= 10)]\n",
        "df = df[(df['current_minute'] >= 0) & (df['current_minute'] <= 105)]\n",
        "# Inspect possession columns\n",
        "df[['home_possession', 'away_possession']].describe()\n"
      ],
      "metadata": {
        "id": "D4iFuKklHH4k",
        "colab": {
          "base_uri": "https://localhost:8080/",
          "height": 300
        },
        "outputId": "9bdd8691-ace9-48e9-edad-08564d200c13"
      },
      "execution_count": 26,
      "outputs": [
        {
          "output_type": "execute_result",
          "data": {
            "text/plain": [
              "       home_possession  away_possession\n",
              "count      3756.000000      3756.000000\n",
              "mean         -0.007984         0.007949\n",
              "std           0.814504         0.814612\n",
              "min          -3.306742        -3.106234\n",
              "25%          -0.434888        -0.522009\n",
              "50%          -0.051974         0.052263\n",
              "75%           0.522397         0.435112\n",
              "max           3.107066         3.306473"
            ],
            "text/html": [
              "\n",
              "  <div id=\"df-861487a8-0171-4216-b935-2e112c0f2e53\" class=\"colab-df-container\">\n",
              "    <div>\n",
              "<style scoped>\n",
              "    .dataframe tbody tr th:only-of-type {\n",
              "        vertical-align: middle;\n",
              "    }\n",
              "\n",
              "    .dataframe tbody tr th {\n",
              "        vertical-align: top;\n",
              "    }\n",
              "\n",
              "    .dataframe thead th {\n",
              "        text-align: right;\n",
              "    }\n",
              "</style>\n",
              "<table border=\"1\" class=\"dataframe\">\n",
              "  <thead>\n",
              "    <tr style=\"text-align: right;\">\n",
              "      <th></th>\n",
              "      <th>home_possession</th>\n",
              "      <th>away_possession</th>\n",
              "    </tr>\n",
              "  </thead>\n",
              "  <tbody>\n",
              "    <tr>\n",
              "      <th>count</th>\n",
              "      <td>3756.000000</td>\n",
              "      <td>3756.000000</td>\n",
              "    </tr>\n",
              "    <tr>\n",
              "      <th>mean</th>\n",
              "      <td>-0.007984</td>\n",
              "      <td>0.007949</td>\n",
              "    </tr>\n",
              "    <tr>\n",
              "      <th>std</th>\n",
              "      <td>0.814504</td>\n",
              "      <td>0.814612</td>\n",
              "    </tr>\n",
              "    <tr>\n",
              "      <th>min</th>\n",
              "      <td>-3.306742</td>\n",
              "      <td>-3.106234</td>\n",
              "    </tr>\n",
              "    <tr>\n",
              "      <th>25%</th>\n",
              "      <td>-0.434888</td>\n",
              "      <td>-0.522009</td>\n",
              "    </tr>\n",
              "    <tr>\n",
              "      <th>50%</th>\n",
              "      <td>-0.051974</td>\n",
              "      <td>0.052263</td>\n",
              "    </tr>\n",
              "    <tr>\n",
              "      <th>75%</th>\n",
              "      <td>0.522397</td>\n",
              "      <td>0.435112</td>\n",
              "    </tr>\n",
              "    <tr>\n",
              "      <th>max</th>\n",
              "      <td>3.107066</td>\n",
              "      <td>3.306473</td>\n",
              "    </tr>\n",
              "  </tbody>\n",
              "</table>\n",
              "</div>\n",
              "    <div class=\"colab-df-buttons\">\n",
              "\n",
              "  <div class=\"colab-df-container\">\n",
              "    <button class=\"colab-df-convert\" onclick=\"convertToInteractive('df-861487a8-0171-4216-b935-2e112c0f2e53')\"\n",
              "            title=\"Convert this dataframe to an interactive table.\"\n",
              "            style=\"display:none;\">\n",
              "\n",
              "  <svg xmlns=\"http://www.w3.org/2000/svg\" height=\"24px\" viewBox=\"0 -960 960 960\">\n",
              "    <path d=\"M120-120v-720h720v720H120Zm60-500h600v-160H180v160Zm220 220h160v-160H400v160Zm0 220h160v-160H400v160ZM180-400h160v-160H180v160Zm440 0h160v-160H620v160ZM180-180h160v-160H180v160Zm440 0h160v-160H620v160Z\"/>\n",
              "  </svg>\n",
              "    </button>\n",
              "\n",
              "  <style>\n",
              "    .colab-df-container {\n",
              "      display:flex;\n",
              "      gap: 12px;\n",
              "    }\n",
              "\n",
              "    .colab-df-convert {\n",
              "      background-color: #E8F0FE;\n",
              "      border: none;\n",
              "      border-radius: 50%;\n",
              "      cursor: pointer;\n",
              "      display: none;\n",
              "      fill: #1967D2;\n",
              "      height: 32px;\n",
              "      padding: 0 0 0 0;\n",
              "      width: 32px;\n",
              "    }\n",
              "\n",
              "    .colab-df-convert:hover {\n",
              "      background-color: #E2EBFA;\n",
              "      box-shadow: 0px 1px 2px rgba(60, 64, 67, 0.3), 0px 1px 3px 1px rgba(60, 64, 67, 0.15);\n",
              "      fill: #174EA6;\n",
              "    }\n",
              "\n",
              "    .colab-df-buttons div {\n",
              "      margin-bottom: 4px;\n",
              "    }\n",
              "\n",
              "    [theme=dark] .colab-df-convert {\n",
              "      background-color: #3B4455;\n",
              "      fill: #D2E3FC;\n",
              "    }\n",
              "\n",
              "    [theme=dark] .colab-df-convert:hover {\n",
              "      background-color: #434B5C;\n",
              "      box-shadow: 0px 1px 3px 1px rgba(0, 0, 0, 0.15);\n",
              "      filter: drop-shadow(0px 1px 2px rgba(0, 0, 0, 0.3));\n",
              "      fill: #FFFFFF;\n",
              "    }\n",
              "  </style>\n",
              "\n",
              "    <script>\n",
              "      const buttonEl =\n",
              "        document.querySelector('#df-861487a8-0171-4216-b935-2e112c0f2e53 button.colab-df-convert');\n",
              "      buttonEl.style.display =\n",
              "        google.colab.kernel.accessAllowed ? 'block' : 'none';\n",
              "\n",
              "      async function convertToInteractive(key) {\n",
              "        const element = document.querySelector('#df-861487a8-0171-4216-b935-2e112c0f2e53');\n",
              "        const dataTable =\n",
              "          await google.colab.kernel.invokeFunction('convertToInteractive',\n",
              "                                                    [key], {});\n",
              "        if (!dataTable) return;\n",
              "\n",
              "        const docLinkHtml = 'Like what you see? Visit the ' +\n",
              "          '<a target=\"_blank\" href=https://colab.research.google.com/notebooks/data_table.ipynb>data table notebook</a>'\n",
              "          + ' to learn more about interactive tables.';\n",
              "        element.innerHTML = '';\n",
              "        dataTable['output_type'] = 'display_data';\n",
              "        await google.colab.output.renderOutput(dataTable, element);\n",
              "        const docLink = document.createElement('div');\n",
              "        docLink.innerHTML = docLinkHtml;\n",
              "        element.appendChild(docLink);\n",
              "      }\n",
              "    </script>\n",
              "  </div>\n",
              "\n",
              "\n",
              "<div id=\"df-f88c3ea4-570b-4101-a9de-226ab6c5c0b5\">\n",
              "  <button class=\"colab-df-quickchart\" onclick=\"quickchart('df-f88c3ea4-570b-4101-a9de-226ab6c5c0b5')\"\n",
              "            title=\"Suggest charts\"\n",
              "            style=\"display:none;\">\n",
              "\n",
              "<svg xmlns=\"http://www.w3.org/2000/svg\" height=\"24px\"viewBox=\"0 0 24 24\"\n",
              "     width=\"24px\">\n",
              "    <g>\n",
              "        <path d=\"M19 3H5c-1.1 0-2 .9-2 2v14c0 1.1.9 2 2 2h14c1.1 0 2-.9 2-2V5c0-1.1-.9-2-2-2zM9 17H7v-7h2v7zm4 0h-2V7h2v10zm4 0h-2v-4h2v4z\"/>\n",
              "    </g>\n",
              "</svg>\n",
              "  </button>\n",
              "\n",
              "<style>\n",
              "  .colab-df-quickchart {\n",
              "      --bg-color: #E8F0FE;\n",
              "      --fill-color: #1967D2;\n",
              "      --hover-bg-color: #E2EBFA;\n",
              "      --hover-fill-color: #174EA6;\n",
              "      --disabled-fill-color: #AAA;\n",
              "      --disabled-bg-color: #DDD;\n",
              "  }\n",
              "\n",
              "  [theme=dark] .colab-df-quickchart {\n",
              "      --bg-color: #3B4455;\n",
              "      --fill-color: #D2E3FC;\n",
              "      --hover-bg-color: #434B5C;\n",
              "      --hover-fill-color: #FFFFFF;\n",
              "      --disabled-bg-color: #3B4455;\n",
              "      --disabled-fill-color: #666;\n",
              "  }\n",
              "\n",
              "  .colab-df-quickchart {\n",
              "    background-color: var(--bg-color);\n",
              "    border: none;\n",
              "    border-radius: 50%;\n",
              "    cursor: pointer;\n",
              "    display: none;\n",
              "    fill: var(--fill-color);\n",
              "    height: 32px;\n",
              "    padding: 0;\n",
              "    width: 32px;\n",
              "  }\n",
              "\n",
              "  .colab-df-quickchart:hover {\n",
              "    background-color: var(--hover-bg-color);\n",
              "    box-shadow: 0 1px 2px rgba(60, 64, 67, 0.3), 0 1px 3px 1px rgba(60, 64, 67, 0.15);\n",
              "    fill: var(--button-hover-fill-color);\n",
              "  }\n",
              "\n",
              "  .colab-df-quickchart-complete:disabled,\n",
              "  .colab-df-quickchart-complete:disabled:hover {\n",
              "    background-color: var(--disabled-bg-color);\n",
              "    fill: var(--disabled-fill-color);\n",
              "    box-shadow: none;\n",
              "  }\n",
              "\n",
              "  .colab-df-spinner {\n",
              "    border: 2px solid var(--fill-color);\n",
              "    border-color: transparent;\n",
              "    border-bottom-color: var(--fill-color);\n",
              "    animation:\n",
              "      spin 1s steps(1) infinite;\n",
              "  }\n",
              "\n",
              "  @keyframes spin {\n",
              "    0% {\n",
              "      border-color: transparent;\n",
              "      border-bottom-color: var(--fill-color);\n",
              "      border-left-color: var(--fill-color);\n",
              "    }\n",
              "    20% {\n",
              "      border-color: transparent;\n",
              "      border-left-color: var(--fill-color);\n",
              "      border-top-color: var(--fill-color);\n",
              "    }\n",
              "    30% {\n",
              "      border-color: transparent;\n",
              "      border-left-color: var(--fill-color);\n",
              "      border-top-color: var(--fill-color);\n",
              "      border-right-color: var(--fill-color);\n",
              "    }\n",
              "    40% {\n",
              "      border-color: transparent;\n",
              "      border-right-color: var(--fill-color);\n",
              "      border-top-color: var(--fill-color);\n",
              "    }\n",
              "    60% {\n",
              "      border-color: transparent;\n",
              "      border-right-color: var(--fill-color);\n",
              "    }\n",
              "    80% {\n",
              "      border-color: transparent;\n",
              "      border-right-color: var(--fill-color);\n",
              "      border-bottom-color: var(--fill-color);\n",
              "    }\n",
              "    90% {\n",
              "      border-color: transparent;\n",
              "      border-bottom-color: var(--fill-color);\n",
              "    }\n",
              "  }\n",
              "</style>\n",
              "\n",
              "  <script>\n",
              "    async function quickchart(key) {\n",
              "      const quickchartButtonEl =\n",
              "        document.querySelector('#' + key + ' button');\n",
              "      quickchartButtonEl.disabled = true;  // To prevent multiple clicks.\n",
              "      quickchartButtonEl.classList.add('colab-df-spinner');\n",
              "      try {\n",
              "        const charts = await google.colab.kernel.invokeFunction(\n",
              "            'suggestCharts', [key], {});\n",
              "      } catch (error) {\n",
              "        console.error('Error during call to suggestCharts:', error);\n",
              "      }\n",
              "      quickchartButtonEl.classList.remove('colab-df-spinner');\n",
              "      quickchartButtonEl.classList.add('colab-df-quickchart-complete');\n",
              "    }\n",
              "    (() => {\n",
              "      let quickchartButtonEl =\n",
              "        document.querySelector('#df-f88c3ea4-570b-4101-a9de-226ab6c5c0b5 button');\n",
              "      quickchartButtonEl.style.display =\n",
              "        google.colab.kernel.accessAllowed ? 'block' : 'none';\n",
              "    })();\n",
              "  </script>\n",
              "</div>\n",
              "\n",
              "    </div>\n",
              "  </div>\n"
            ],
            "application/vnd.google.colaboratory.intrinsic+json": {
              "type": "dataframe",
              "summary": "{\n  \"name\": \"df[['home_possession', 'away_possession']]\",\n  \"rows\": 8,\n  \"fields\": [\n    {\n      \"column\": \"home_possession\",\n      \"properties\": {\n        \"dtype\": \"number\",\n        \"std\": 1327.9152549210933,\n        \"min\": -3.3067416010656268,\n        \"max\": 3756.0,\n        \"num_unique_values\": 8,\n        \"samples\": [\n          -0.007983550712214568,\n          -0.05197378786673816,\n          3756.0\n        ],\n        \"semantic_type\": \"\",\n        \"description\": \"\"\n      }\n    },\n    {\n      \"column\": \"away_possession\",\n      \"properties\": {\n        \"dtype\": \"number\",\n        \"std\": 1327.8977853978727,\n        \"min\": -3.106233936114087,\n        \"max\": 3756.0,\n        \"num_unique_values\": 8,\n        \"samples\": [\n          0.007949476296371504,\n          0.05226343806826872,\n          3756.0\n        ],\n        \"semantic_type\": \"\",\n        \"description\": \"\"\n      }\n    }\n  ]\n}"
            }
          },
          "metadata": {},
          "execution_count": 26
        }
      ]
    },
    {
      "cell_type": "code",
      "source": [
        "\n",
        "\n",
        "# Reload the original dataset\n",
        "df = pd.read_csv('sports.csv')\n",
        "\n",
        "# Apply filters for scores and minutes\n",
        "df = df[(df['home_score'] <= 10) & (df['away_score'] <= 10)]\n",
        "df = df[(df['current_minute'] >= 0) & (df['current_minute'] <= 105)]\n",
        "\n",
        "# Scale only the necessary columns, excluding possession columns\n",
        "scaler = StandardScaler()\n",
        "features_to_scale = [col for col in df.columns if col not in ['home_possession', 'away_possession', 'uuid']]\n",
        "df[features_to_scale] = scaler.fit_transform(df[features_to_scale])\n",
        "\n",
        "# Verify possession columns remain within 0-100% range\n",
        "print(df[['home_possession', 'away_possession']].describe())\n"
      ],
      "metadata": {
        "colab": {
          "base_uri": "https://localhost:8080/"
        },
        "id": "X9J4lPiXQtN7",
        "outputId": "066954ff-c284-4409-889b-1f8e4b5b5d2f"
      },
      "execution_count": 27,
      "outputs": [
        {
          "output_type": "stream",
          "name": "stdout",
          "text": [
            "       home_possession  away_possession\n",
            "count      6819.000000      6819.000000\n",
            "mean         51.593049        48.403872\n",
            "std          10.488296        10.490044\n",
            "min           0.000000         0.000000\n",
            "25%          46.000000        42.000000\n",
            "50%          51.000000        49.000000\n",
            "75%          58.000000        54.000000\n",
            "max         100.000000       100.000000\n"
          ]
        }
      ]
    },
    {
      "cell_type": "markdown",
      "source": [
        "### III. Detect Outliers\n",
        "- Z-Score or IQR for Outliers: Use statistical methods like Z-score filtering or IQR to detect extreme values, especially in fields like attacks, corners, and dangerous attacks.\n",
        "- Domain-Specific Outliers: In soccer, values like attacks or corners generally have natural limits. For example, excessive values (e.g., 50+ dangerous attacks in a single snapshot) may indicate recording errors.\n"
      ],
      "metadata": {
        "id": "3sfEPas8HhLI"
      }
    },
    {
      "cell_type": "code",
      "source": [
        "# Hyperparameter Adjustment for Z-Score Threshold\n",
        "# We increased the Z-score threshold from the typical 3 to 4 to retain more data while removing only extreme outliers.\n",
        "# This allows us to control extreme values without discarding significant amounts of data.\n",
        "\n",
        "z_scores = np.abs(stats.zscore(df.select_dtypes(include=[np.number])))\n",
        "df = df[(z_scores < 4).all(axis=1)]\n"
      ],
      "metadata": {
        "id": "jvcHVyIHHdf0"
      },
      "execution_count": 28,
      "outputs": []
    },
    {
      "cell_type": "markdown",
      "source": [
        "### IV. Cross-Feature Consistency Checks\n",
        "- Dangerous Attacks vs. Total Attacks: Ensure that `home_dangerous_attacks` is less than or equal to `home_attacks` (and similarly for `away`), as dangerous attacks are a subset.\n",
        "- On-Target and Off-Target Shots: Check that `home_on_target` + `home_off_target` does not exceed total shots. These should logically add up or be less than a total count of shots attempted."
      ],
      "metadata": {
        "id": "EKgrkV6VItch"
      }
    },
    {
      "cell_type": "code",
      "source": [
        "tolerance = 10\n",
        "df = df[(df['home_dangerous_attacks'] <= df['home_attacks'] + tolerance) &\n",
        "        (df['away_dangerous_attacks'] <= df['away_attacks'] + tolerance)]\n",
        "\n",
        "df = df[(df['home_on_target'] + df['home_off_target'] <= df['home_attacks'] + tolerance) &\n",
        "        (df['away_on_target'] + df['away_off_target'] <= df['away_attacks'] + tolerance)]\n"
      ],
      "metadata": {
        "id": "UKm6SmpNI-ND"
      },
      "execution_count": 29,
      "outputs": []
    },
    {
      "cell_type": "markdown",
      "source": [
        "### Data Type Validation and Conversion\n",
        "- Consistency Check: Ensure that all features have appropriate data types, with integers for discrete counts (e.g., goals, cards) and floats for percentages.\n",
        "- Conversion as Needed: Convert columns to ensure accurate modeling and avoid issues in computations."
      ],
      "metadata": {
        "id": "W5-HffvUI_nL"
      }
    },
    {
      "cell_type": "code",
      "source": [
        "# Convert data types as necessary\n",
        "df['home_score'] = df['home_score'].astype(int)\n",
        "df['away_score'] = df['away_score'].astype(int)\n"
      ],
      "metadata": {
        "id": "SAKqWkovJIzm"
      },
      "execution_count": 30,
      "outputs": []
    },
    {
      "cell_type": "markdown",
      "source": [
        "### Handle Remaining Missing Values\n",
        "- After completing all checks and adjustments, any remaining missing values should be addressed. If missing values persist in critical columns, consider row deletion or advanced imputation based on domain knowledge."
      ],
      "metadata": {
        "id": "-325MwrbJJeI"
      }
    },
    {
      "cell_type": "code",
      "source": [
        "# Check for missing values\n",
        "missing_data = df.isnull().sum()\n",
        "print(\"Missing values per column:\\n\", missing_data[missing_data > 0])\n",
        "\n",
        "# Impute or drop missing values based on relevance\n",
        "# For this dataset, we can fill numerical columns with the mean or median, if necessary\n",
        "# Drop the 'uuid' column as it is not useful for analysis or modeling\n",
        "df.drop(columns=['uuid'], inplace=True)\n",
        "df.fillna(df.mean(), inplace=True)\n",
        "\n"
      ],
      "metadata": {
        "id": "9traBeUZJOCK",
        "colab": {
          "base_uri": "https://localhost:8080/"
        },
        "outputId": "85457bff-24ae-468a-a89e-8c5e5268530e"
      },
      "execution_count": 31,
      "outputs": [
        {
          "output_type": "stream",
          "name": "stdout",
          "text": [
            "Missing values per column:\n",
            " Series([], dtype: int64)\n"
          ]
        }
      ]
    },
    {
      "cell_type": "markdown",
      "source": [
        "### VII. Standardize Column Names\n",
        "- Purpose: Use standardized naming conventions to improve readability, especially for complex datasets. Make column names lowercase, replacing spaces with underscores."
      ],
      "metadata": {
        "id": "pokzTVX9JQT9"
      }
    },
    {
      "cell_type": "code",
      "source": [
        "# Standardize column names\n",
        "df.columns = df.columns.str.lower().str.replace(' ', '_')\n"
      ],
      "metadata": {
        "id": "uWJXxY_jJWxR"
      },
      "execution_count": 32,
      "outputs": []
    },
    {
      "cell_type": "markdown",
      "source": [
        "### VIII. Final Data Validation\n",
        "- Summary Statistics: Use `.describe()` to confirm cleaned data falls within logical ranges.\n",
        "- Correlation Check: Check for highly correlated features, which could indicate potential redundancies.\n",
        "- Final Shape and Info: Verify the final structure to ensure the data is clean and ready for modeling.\n"
      ],
      "metadata": {
        "id": "AaCKLdSaJY0_"
      }
    },
    {
      "cell_type": "code",
      "source": [
        "print(df.describe())  # Summary statistics after final cleaning\n",
        "print(\"Data Validation Complete. No missing values and all columns standardized.\")"
      ],
      "metadata": {
        "id": "xSqaS-gsJiD-",
        "colab": {
          "base_uri": "https://localhost:8080/"
        },
        "outputId": "82534de4-a44d-4018-a384-0834d76120d9"
      },
      "execution_count": 33,
      "outputs": [
        {
          "output_type": "stream",
          "name": "stdout",
          "text": [
            "       current_minute   home_score   away_score  home_yellow_cards  \\\n",
            "count     6400.000000  6400.000000  6400.000000        6400.000000   \n",
            "mean        -0.038636     0.267813     0.178750          -0.043137   \n",
            "std          0.990826     0.635336     0.504939           0.918738   \n",
            "min         -1.785570     0.000000     0.000000          -0.561536   \n",
            "25%         -0.957662     0.000000     0.000000          -0.561536   \n",
            "50%          0.268869     0.000000     0.000000          -0.561536   \n",
            "75%          0.820808     0.000000     0.000000           0.542910   \n",
            "max          1.434074     3.000000     3.000000           3.856245   \n",
            "\n",
            "       away_yellow_cards  home_red_cards  away_red_cards  home_attacks  \\\n",
            "count        6400.000000    6.400000e+03    6.400000e+03   6400.000000   \n",
            "mean           -0.050121   -9.267274e-02   -1.207770e-01     -0.033156   \n",
            "std             0.909721    5.648701e-15    1.181092e-14      0.974710   \n",
            "min            -0.585523   -9.267274e-02   -1.207770e-01     -1.282279   \n",
            "25%            -0.585523   -9.267274e-02   -1.207770e-01     -0.889355   \n",
            "50%            -0.585523   -9.267274e-02   -1.207770e-01     -0.131572   \n",
            "75%             0.411152   -9.267274e-02   -1.207770e-01      0.654277   \n",
            "max             3.401178   -9.267274e-02   -1.207770e-01      3.853806   \n",
            "\n",
            "       away_attacks  home_dangerous_attacks  away_dangerous_attacks  \\\n",
            "count   6400.000000             6400.000000             6400.000000   \n",
            "mean      -0.031866               -0.033880               -0.032576   \n",
            "std        0.977849                0.968124                0.970451   \n",
            "min       -1.289403               -1.196881               -1.177557   \n",
            "25%       -0.897049               -0.888871               -0.881507   \n",
            "50%       -0.112341               -0.184846               -0.190724   \n",
            "75%        0.642185                0.563180                0.549401   \n",
            "max        3.569749                3.907295                3.855291   \n",
            "\n",
            "       home_corners  away_corners  home_off_target  away_off_target  \\\n",
            "count   6400.000000   6400.000000      6400.000000      6400.000000   \n",
            "mean      -0.032999     -0.038600        -0.040082        -0.038806   \n",
            "std        0.963511      0.936377         0.946022         0.943888   \n",
            "min       -0.959385     -0.902551        -0.968895        -0.939348   \n",
            "25%       -0.959385     -0.902551        -0.968895        -0.939348   \n",
            "50%       -0.136331     -0.442161        -0.325701        -0.199351   \n",
            "75%        0.686723      0.478619         0.639092         0.540646   \n",
            "max        3.978940      3.701350         3.855066         3.870632   \n",
            "\n",
            "       home_on_target  away_on_target  home_possession  away_possession  \\\n",
            "count     6400.000000     6400.000000      6400.000000      6400.000000   \n",
            "mean        -0.038925       -0.041611        51.582500        48.414531   \n",
            "std          0.944425        0.933418         9.997487         9.998697   \n",
            "min         -0.926249       -0.882450        12.000000         8.000000   \n",
            "25%         -0.926249       -0.882450        46.000000        43.000000   \n",
            "50%         -0.491286       -0.380035        51.000000        49.000000   \n",
            "75%          0.378639        0.624795        57.000000        54.000000   \n",
            "max          3.858340        3.639286        92.000000        88.000000   \n",
            "\n",
            "       final_delta  \n",
            "count  6400.000000  \n",
            "mean      0.009614  \n",
            "std       0.979273  \n",
            "min      -2.414869  \n",
            "25%      -1.010135  \n",
            "50%      -0.307768  \n",
            "75%       0.394598  \n",
            "max       3.906432  \n",
            "Data Validation Complete. No missing values and all columns standardized.\n"
          ]
        }
      ]
    },
    {
      "cell_type": "markdown",
      "source": [
        "---"
      ],
      "metadata": {
        "id": "Rf6Cp2WUC2Zd"
      }
    },
    {
      "cell_type": "markdown",
      "source": [
        "# **Section 5: Exploratory data analysis**"
      ],
      "metadata": {
        "id": "fhqRYQnlh78u"
      }
    },
    {
      "cell_type": "markdown",
      "source": [
        "---"
      ],
      "metadata": {
        "id": "KF_PupDWnXdf"
      }
    },
    {
      "cell_type": "markdown",
      "source": [
        "# **Section 6: Initial model training**"
      ],
      "metadata": {
        "id": "8unded0oh-Zv"
      }
    },
    {
      "cell_type": "markdown",
      "source": [
        "---"
      ],
      "metadata": {
        "id": "YXoRa_63PEId"
      }
    },
    {
      "cell_type": "markdown",
      "source": [
        "# **Section 7: Error analysis**"
      ],
      "metadata": {
        "id": "lnd9umGLiBqx"
      }
    },
    {
      "cell_type": "markdown",
      "source": [
        "---"
      ],
      "metadata": {
        "id": "dvBmOcPYPFI0"
      }
    },
    {
      "cell_type": "markdown",
      "source": [
        "# **Section 8: Improving model performance**"
      ],
      "metadata": {
        "id": "SCpVHlXjiEkh"
      }
    },
    {
      "cell_type": "markdown",
      "source": [
        "---"
      ],
      "metadata": {
        "id": "KQyPJRq-PGVr"
      }
    },
    {
      "cell_type": "markdown",
      "source": [
        "# **Section 9: Model performance summary**"
      ],
      "metadata": {
        "id": "ooJJHGIliKjJ"
      }
    },
    {
      "cell_type": "markdown",
      "source": [
        "---"
      ],
      "metadata": {
        "id": "OqP6bjq_PHDG"
      }
    },
    {
      "cell_type": "markdown",
      "source": [
        "# **Section 10: Insights and conclusions**"
      ],
      "metadata": {
        "id": "XwqirvFMiL2v"
      }
    },
    {
      "cell_type": "markdown",
      "source": [
        "---"
      ],
      "metadata": {
        "id": "-tKIaFoaPIBo"
      }
    },
    {
      "cell_type": "markdown",
      "source": [
        "# **Section 11: References**"
      ],
      "metadata": {
        "id": "305XByMeiPpq"
      }
    },
    {
      "cell_type": "markdown",
      "source": [
        "\n",
        "\n",
        "> Dump Ref muna fix it later\n",
        "\n",
        "https://www.frontiersin.org/journals/psychology/articles/10.3389/fpsyg.2019.00501/full\n",
        "\n",
        "https://www.sciencedirect.com/science/article/abs/pii/S0169207018300116\n",
        "\n",
        "https://warin.ca/ressources/books/2013_Book_AppliedPredictiveModeling.pdf\n",
        "\n",
        "https://ieeexplore.ieee.org/document/4160265\n",
        "\n",
        "https://www.researchgate.net/publication/265194455_pandas_a_Foundational_Python_Library_for_Data_Analysis_and_Statistics\n",
        "\n",
        "https://web.mit.edu/dvp/Public/numpybook.pdf\n",
        "\n",
        "https://dl.acm.org/doi/10.5555/1953048.2078195\n",
        "\n",
        "https://www.researchgate.net/publication/350701622_seaborn_statistical_data_visualization\n",
        "\n",
        "https://www.sciencedirect.com/book/9780123814791/data-mining-concepts-and-techniques\n",
        "\n",
        "https://archive.org/details/exploratorydataa0000tuke_7616\n",
        "\n",
        "---\n",
        "\n",
        "- Anguera, M. T., Blanco-Villaseñor, A., Losada, J. L., & Perea, M. V. (2018). Sports analysis and prediction: New challenges and approaches. Frontiers in Psychology, 10, 501. https://www.frontiersin.org/journals/psychology/articles/10.3389/fpsyg.2019.00501/full\n",
        "\n",
        "- Yin, D., & Leong, S. Y. (2017). Predictive modeling in soccer analytics. International Journal of Sports Management and Marketing, 7(3), 235-248. https://www.sciencedirect.com/science/article/abs/pii/S0169207018300116\n",
        "\n",
        "- Kuhn, M., & Johnson, K. (2013). Applied predictive modeling. Springer Science & Business Media. https://warin.ca/ressources/books/2013_Book_AppliedPredictiveModeling.pdf\n",
        "\n",
        "- Hunter, J. D. (2007). Matplotlib: A 2D graphics environment. Computing in Science & Engineering, 9(3), 90-95. https://ieeexplore.ieee.org/document/4160265\n",
        "\n",
        "- McKinney, W. (2011). pandas: A foundational Python library for data analysis and manipulation. Python for Data Analysis, O'Reilly Media. https://www.researchgate.net/publication/265194455_pandas_a_Foundational_Python_Library_for_Data_Analysis_and_Statistics\n",
        "\n",
        "- Oliphant, T. E. (2006). A guide to NumPy. Trelgol Publishing. https://web.mit.edu/dvp/Public/numpybook.pdf\n",
        "\n",
        "- Pedregosa, F., et al. (2011). Scikit-learn: Machine learning in Python. Journal of Machine Learning Research, 12, 2825-2830. https://dl.acm.org/doi/10.5555/1953048.2078195\n",
        "\n",
        "- Waskom, M. L. (2021). Seaborn: Statistical data visualization. Journal of Open Source Software, 6(60), 3021. https://www.researchgate.net/publication/350701622_seaborn_statistical_data_visualization\n",
        "\n",
        "- Han, J., Kamber, M., & Pei, J. (2011). Data mining: Concepts and techniques. Elsevier. https://www.sciencedirect.com/book/9780123814791/data-mining-concepts-and-techniques\n",
        "\n",
        "- Tukey, J. W. (1977). Exploratory data analysis. Addison-Wesley. https://archive.org/details/exploratorydataa0000tuke_7616"
      ],
      "metadata": {
        "id": "p1C71Tw4kSXS"
      }
    }
  ]
}